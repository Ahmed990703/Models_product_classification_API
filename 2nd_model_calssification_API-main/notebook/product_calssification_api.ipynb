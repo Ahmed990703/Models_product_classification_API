{
 "cells": [
  {
   "cell_type": "code",
   "execution_count": 1,
   "metadata": {},
   "outputs": [
    {
     "name": "stdout",
     "output_type": "stream",
     "text": [
      "/Users/ahmedmaher/Documents/GitHub/2nd_model_calssification_API\n"
     ]
    }
   ],
   "source": [
    "%cd .."
   ]
  },
  {
   "cell_type": "code",
   "execution_count": 2,
   "metadata": {},
   "outputs": [
    {
     "name": "stderr",
     "output_type": "stream",
     "text": [
      "/Users/ahmedmaher/.pyenv/versions/3.11.12/lib/python3.11/site-packages/tqdm/auto.py:21: TqdmWarning: IProgress not found. Please update jupyter and ipywidgets. See https://ipywidgets.readthedocs.io/en/stable/user_install.html\n",
      "  from .autonotebook import tqdm as notebook_tqdm\n"
     ]
    }
   ],
   "source": [
    "from datasets import load_dataset"
   ]
  },
  {
   "cell_type": "code",
   "execution_count": 3,
   "metadata": {},
   "outputs": [],
   "source": [
    "food_dataset=load_dataset('food101',split='train[:5000]')"
   ]
  },
  {
   "cell_type": "code",
   "execution_count": 4,
   "metadata": {},
   "outputs": [],
   "source": [
    "from sklearn.model_selection import train_test_split\n",
    "food_splitted=food_dataset.train_test_split(train_size=0.85)"
   ]
  },
  {
   "cell_type": "code",
   "execution_count": 5,
   "metadata": {},
   "outputs": [],
   "source": [
    "labels=food_splitted['train'].features['label'].names\n",
    "label2id = {label: i for i, label in enumerate(labels)}\n",
    "id2label = {i: label for i, label in enumerate(labels)}"
   ]
  },
  {
   "cell_type": "code",
   "execution_count": 6,
   "metadata": {},
   "outputs": [],
   "source": [
    "from transformers import AutoImageProcessor"
   ]
  },
  {
   "cell_type": "code",
   "execution_count": 7,
   "metadata": {},
   "outputs": [
    {
     "name": "stderr",
     "output_type": "stream",
     "text": [
      "Using a slow image processor as `use_fast` is unset and a slow processor was saved with this model. `use_fast=True` will be the default behavior in v4.52, even if the model was saved with a slow processor. This will result in minor differences in outputs. You'll still be able to use a slow processor with `use_fast=False`.\n"
     ]
    }
   ],
   "source": [
    "processor = AutoImageProcessor.from_pretrained(\"microsoft/beit-base-patch16-224-pt22k-ft22k\")"
   ]
  },
  {
   "cell_type": "code",
   "execution_count": 8,
   "metadata": {},
   "outputs": [],
   "source": [
    "from torchvision.transforms import RandomResizedCrop ,Compose,Normalize,Resize,ToTensor"
   ]
  },
  {
   "cell_type": "code",
   "execution_count": 9,
   "metadata": {},
   "outputs": [],
   "source": [
    "size=(processor.size['height'],processor.size['width'])"
   ]
  },
  {
   "cell_type": "code",
   "execution_count": 10,
   "metadata": {},
   "outputs": [],
   "source": [
    "transform=Compose([\n",
    "    RandomResizedCrop(size),\n",
    "    ToTensor(),\n",
    "    Normalize(mean=processor.image_mean,std=processor.image_std)\n",
    "])"
   ]
  },
  {
   "cell_type": "code",
   "execution_count": 11,
   "metadata": {},
   "outputs": [],
   "source": [
    "def preprocess_image(samples):\n",
    "    samples['pixel_values']=[transform(img.convert('RGB'))for img in samples['image']]\n",
    "    del samples['image']\n",
    "    return samples"
   ]
  },
  {
   "cell_type": "code",
   "execution_count": 12,
   "metadata": {},
   "outputs": [],
   "source": [
    "def preprocess_image(samples):\n",
    "    samples['pixel_values']=[transform(img.convert('RGB'))for img in samples['image']]\n",
    "    del samples['image']\n",
    "    return samples"
   ]
  },
  {
   "cell_type": "code",
   "execution_count": 13,
   "metadata": {},
   "outputs": [],
   "source": [
    "food_splited_trans=food_splitted.with_transform(preprocess_image)"
   ]
  },
  {
   "cell_type": "code",
   "execution_count": 14,
   "metadata": {},
   "outputs": [
    {
     "data": {
      "text/plain": [
       "{'label': 81,\n",
       " 'pixel_values': tensor([[[ 0.5608,  0.5922,  0.6157,  ..., -0.0431, -0.0745, -0.0902],\n",
       "          [ 0.5843,  0.6000,  0.6157,  ..., -0.0510, -0.0745, -0.0902],\n",
       "          [ 0.5922,  0.6078,  0.6314,  ..., -0.0588, -0.0667, -0.0745],\n",
       "          ...,\n",
       "          [-0.5922, -0.6314, -0.7333,  ...,  0.0980,  0.0980,  0.1137],\n",
       "          [-0.5843, -0.6157, -0.7412,  ...,  0.1451,  0.1765,  0.1529],\n",
       "          [-0.5765, -0.6078, -0.7255,  ...,  0.1294,  0.1686,  0.1686]],\n",
       " \n",
       "         [[ 0.1765,  0.1922,  0.2078,  ..., -0.4196, -0.4353, -0.4510],\n",
       "          [ 0.2078,  0.2235,  0.2392,  ..., -0.4118, -0.4353, -0.4510],\n",
       "          [ 0.2392,  0.2627,  0.2863,  ..., -0.4275, -0.4275, -0.4275],\n",
       "          ...,\n",
       "          [-0.5922, -0.6392, -0.7412,  ..., -0.1059, -0.0980, -0.0824],\n",
       "          [-0.5843, -0.6235, -0.7490,  ..., -0.0588, -0.0275, -0.0510],\n",
       "          [-0.5765, -0.6157, -0.7333,  ..., -0.0824, -0.0431, -0.0431]],\n",
       " \n",
       "         [[-0.1373, -0.1137, -0.0980,  ..., -0.6784, -0.7020, -0.7176],\n",
       "          [-0.1059, -0.0902, -0.0824,  ..., -0.6784, -0.7020, -0.7176],\n",
       "          [-0.0745, -0.0510, -0.0275,  ..., -0.6706, -0.6784, -0.6784],\n",
       "          ...,\n",
       "          [-0.5294, -0.5765, -0.6784,  ..., -0.3255, -0.3176, -0.3020],\n",
       "          [-0.5216, -0.5608, -0.6863,  ..., -0.3020, -0.2706, -0.2941],\n",
       "          [-0.5137, -0.5529, -0.6784,  ..., -0.3176, -0.2706, -0.2706]]])}"
      ]
     },
     "execution_count": 14,
     "metadata": {},
     "output_type": "execute_result"
    }
   ],
   "source": [
    "food_splited_trans[\"train\"][0]"
   ]
  },
  {
   "cell_type": "code",
   "execution_count": 15,
   "metadata": {},
   "outputs": [],
   "source": [
    "from transformers import AutoModelForImageClassification, Trainer, TrainingArguments,DefaultDataCollator\n",
    "data_collator=DefaultDataCollator()"
   ]
  },
  {
   "cell_type": "code",
   "execution_count": 16,
   "metadata": {},
   "outputs": [],
   "source": [
    "import evaluate\n",
    "import numpy as np\n",
    "metric=evaluate.load(\"accuracy\")\n",
    "def compute_metrics(predictions_and_labels):\n",
    "    predictions,labels=predictions_and_labels\n",
    "    predictions=np.argmax(predictions,axis=1)\n",
    "    return metric.compute(predictions=predictions,references=labels)"
   ]
  },
  {
   "cell_type": "code",
   "execution_count": 17,
   "metadata": {},
   "outputs": [],
   "source": [
    "from transformers import logging\n",
    "logging.set_verbosity_error()\n",
    "model=AutoModelForImageClassification.from_pretrained('microsoft/beit-base-patch16-224-pt22k-ft22k',\n",
    "                                                      num_labels=len(labels),\n",
    "                                                      id2label=id2label,\n",
    "                                                      label2id=label2id,\n",
    "                                                       ignore_mismatched_sizes=True\n",
    "                                                     )\n"
   ]
  },
  {
   "cell_type": "code",
   "execution_count": 18,
   "metadata": {},
   "outputs": [
    {
     "name": "stdout",
     "output_type": "stream",
     "text": [
      "Requirement already satisfied: accelerate in /Users/ahmedmaher/.pyenv/versions/3.11.12/lib/python3.11/site-packages (1.10.0)\n",
      "Requirement already satisfied: numpy<3.0.0,>=1.17 in /Users/ahmedmaher/.pyenv/versions/3.11.12/lib/python3.11/site-packages (from accelerate) (2.2.6)\n",
      "Requirement already satisfied: packaging>=20.0 in /Users/ahmedmaher/.pyenv/versions/3.11.12/lib/python3.11/site-packages (from accelerate) (23.2)\n",
      "Requirement already satisfied: psutil in /Users/ahmedmaher/.pyenv/versions/3.11.12/lib/python3.11/site-packages (from accelerate) (7.0.0)\n",
      "Requirement already satisfied: pyyaml in /Users/ahmedmaher/.pyenv/versions/3.11.12/lib/python3.11/site-packages (from accelerate) (6.0.2)\n",
      "Requirement already satisfied: torch>=2.0.0 in /Users/ahmedmaher/.pyenv/versions/3.11.12/lib/python3.11/site-packages (from accelerate) (2.7.1)\n",
      "Requirement already satisfied: huggingface_hub>=0.21.0 in /Users/ahmedmaher/.pyenv/versions/3.11.12/lib/python3.11/site-packages (from accelerate) (0.33.2)\n",
      "Requirement already satisfied: safetensors>=0.4.3 in /Users/ahmedmaher/.pyenv/versions/3.11.12/lib/python3.11/site-packages (from accelerate) (0.5.3)\n",
      "Requirement already satisfied: filelock in /Users/ahmedmaher/.pyenv/versions/3.11.12/lib/python3.11/site-packages (from huggingface_hub>=0.21.0->accelerate) (3.18.0)\n",
      "Requirement already satisfied: fsspec>=2023.5.0 in /Users/ahmedmaher/.pyenv/versions/3.11.12/lib/python3.11/site-packages (from huggingface_hub>=0.21.0->accelerate) (2025.3.0)\n",
      "Requirement already satisfied: requests in /Users/ahmedmaher/.pyenv/versions/3.11.12/lib/python3.11/site-packages (from huggingface_hub>=0.21.0->accelerate) (2.32.4)\n",
      "Requirement already satisfied: tqdm>=4.42.1 in /Users/ahmedmaher/.pyenv/versions/3.11.12/lib/python3.11/site-packages (from huggingface_hub>=0.21.0->accelerate) (4.67.1)\n",
      "Requirement already satisfied: typing-extensions>=3.7.4.3 in /Users/ahmedmaher/.pyenv/versions/3.11.12/lib/python3.11/site-packages (from huggingface_hub>=0.21.0->accelerate) (4.14.1)\n",
      "Requirement already satisfied: hf-xet<2.0.0,>=1.1.2 in /Users/ahmedmaher/.pyenv/versions/3.11.12/lib/python3.11/site-packages (from huggingface_hub>=0.21.0->accelerate) (1.1.5)\n",
      "Requirement already satisfied: sympy>=1.13.3 in /Users/ahmedmaher/.pyenv/versions/3.11.12/lib/python3.11/site-packages (from torch>=2.0.0->accelerate) (1.14.0)\n",
      "Requirement already satisfied: networkx in /Users/ahmedmaher/.pyenv/versions/3.11.12/lib/python3.11/site-packages (from torch>=2.0.0->accelerate) (3.5)\n",
      "Requirement already satisfied: jinja2 in /Users/ahmedmaher/.pyenv/versions/3.11.12/lib/python3.11/site-packages (from torch>=2.0.0->accelerate) (3.1.6)\n",
      "Requirement already satisfied: mpmath<1.4,>=1.1.0 in /Users/ahmedmaher/.pyenv/versions/3.11.12/lib/python3.11/site-packages (from sympy>=1.13.3->torch>=2.0.0->accelerate) (1.3.0)\n",
      "Requirement already satisfied: MarkupSafe>=2.0 in /Users/ahmedmaher/.pyenv/versions/3.11.12/lib/python3.11/site-packages (from jinja2->torch>=2.0.0->accelerate) (3.0.2)\n",
      "Requirement already satisfied: charset_normalizer<4,>=2 in /Users/ahmedmaher/.pyenv/versions/3.11.12/lib/python3.11/site-packages (from requests->huggingface_hub>=0.21.0->accelerate) (3.4.2)\n",
      "Requirement already satisfied: idna<4,>=2.5 in /Users/ahmedmaher/.pyenv/versions/3.11.12/lib/python3.11/site-packages (from requests->huggingface_hub>=0.21.0->accelerate) (3.10)\n",
      "Requirement already satisfied: urllib3<3,>=1.21.1 in /Users/ahmedmaher/.pyenv/versions/3.11.12/lib/python3.11/site-packages (from requests->huggingface_hub>=0.21.0->accelerate) (2.5.0)\n",
      "Requirement already satisfied: certifi>=2017.4.17 in /Users/ahmedmaher/.pyenv/versions/3.11.12/lib/python3.11/site-packages (from requests->huggingface_hub>=0.21.0->accelerate) (2025.6.15)\n",
      "\n",
      "\u001b[1m[\u001b[0m\u001b[34;49mnotice\u001b[0m\u001b[1;39;49m]\u001b[0m\u001b[39;49m A new release of pip is available: \u001b[0m\u001b[31;49m24.0\u001b[0m\u001b[39;49m -> \u001b[0m\u001b[32;49m25.2\u001b[0m\n",
      "\u001b[1m[\u001b[0m\u001b[34;49mnotice\u001b[0m\u001b[1;39;49m]\u001b[0m\u001b[39;49m To update, run: \u001b[0m\u001b[32;49mpip install --upgrade pip\u001b[0m\n"
     ]
    }
   ],
   "source": [
    "! pip install --upgrade accelerate"
   ]
  },
  {
   "cell_type": "code",
   "execution_count": 20,
   "metadata": {},
   "outputs": [],
   "source": [
    "training_args=TrainingArguments(\n",
    "    output_dir='my_model',\n",
    "    remove_unused_columns=False,\n",
    "    learning_rate=0.01,\n",
    "     per_device_train_batch_size=16,\n",
    "     per_device_eval_batch_size=16,\n",
    "     num_train_epochs=20,\n",
    "      weight_decay=0.01,\n",
    "      save_strategy=\"epoch\",\n",
    "      logging_steps=10,\n",
    "      eval_strategy=\"epoch\",\n",
    "     push_to_hub=False,\n",
    "    metric_for_best_model=\"accuracy\"\n",
    "\n",
    ")"
   ]
  },
  {
   "cell_type": "code",
   "execution_count": 21,
   "metadata": {},
   "outputs": [],
   "source": [
    "trainer=Trainer(\n",
    "    model=model,\n",
    "    args=training_args,\n",
    "    data_collator=data_collator,\n",
    "    compute_metrics=compute_metrics,\n",
    "    train_dataset=food_splited_trans[\"train\"],\n",
    "    eval_dataset=food_splited_trans[\"test\"]\n",
    ")"
   ]
  },
  {
   "cell_type": "code",
   "execution_count": 22,
   "metadata": {},
   "outputs": [
    {
     "name": "stderr",
     "output_type": "stream",
     "text": [
      "/Users/ahmedmaher/.pyenv/versions/3.11.12/lib/python3.11/site-packages/torch/utils/data/dataloader.py:683: UserWarning: 'pin_memory' argument is set as true but not supported on MPS now, then device pinned memory won't be used.\n",
      "  warnings.warn(warn_msg)\n"
     ]
    },
    {
     "name": "stdout",
     "output_type": "stream",
     "text": [
      "{'loss': 5.2326, 'grad_norm': 13.13155746459961, 'learning_rate': 0.009983082706766917, 'epoch': 0.03759398496240601}\n",
      "{'loss': 2.4501, 'grad_norm': 5.916259288787842, 'learning_rate': 0.009964285714285715, 'epoch': 0.07518796992481203}\n",
      "{'loss': 2.1728, 'grad_norm': 3.915470600128174, 'learning_rate': 0.009945488721804513, 'epoch': 0.11278195488721804}\n",
      "{'loss': 2.0055, 'grad_norm': 1.7062156200408936, 'learning_rate': 0.009926691729323308, 'epoch': 0.15037593984962405}\n",
      "{'loss': 2.0589, 'grad_norm': 3.2155518531799316, 'learning_rate': 0.009907894736842105, 'epoch': 0.18796992481203006}\n",
      "{'loss': 2.0596, 'grad_norm': 1.9387056827545166, 'learning_rate': 0.009889097744360902, 'epoch': 0.22556390977443608}\n",
      "{'loss': 2.0074, 'grad_norm': 2.6542999744415283, 'learning_rate': 0.0098703007518797, 'epoch': 0.2631578947368421}\n",
      "{'loss': 1.976, 'grad_norm': 2.1936681270599365, 'learning_rate': 0.009851503759398497, 'epoch': 0.3007518796992481}\n",
      "{'loss': 1.9197, 'grad_norm': 1.4799751043319702, 'learning_rate': 0.009832706766917294, 'epoch': 0.3383458646616541}\n",
      "{'loss': 1.9715, 'grad_norm': 1.6836678981781006, 'learning_rate': 0.00981390977443609, 'epoch': 0.37593984962406013}\n",
      "{'loss': 1.9202, 'grad_norm': 1.2052944898605347, 'learning_rate': 0.009795112781954888, 'epoch': 0.41353383458646614}\n",
      "{'loss': 1.9678, 'grad_norm': 1.809800624847412, 'learning_rate': 0.009776315789473685, 'epoch': 0.45112781954887216}\n",
      "{'loss': 1.9694, 'grad_norm': 1.5649149417877197, 'learning_rate': 0.009757518796992482, 'epoch': 0.48872180451127817}\n",
      "{'loss': 1.9409, 'grad_norm': 1.4954555034637451, 'learning_rate': 0.009738721804511278, 'epoch': 0.5263157894736842}\n",
      "{'loss': 2.0091, 'grad_norm': 1.0468147993087769, 'learning_rate': 0.009719924812030075, 'epoch': 0.5639097744360902}\n",
      "{'loss': 1.9694, 'grad_norm': 1.7087843418121338, 'learning_rate': 0.009701127819548874, 'epoch': 0.6015037593984962}\n",
      "{'loss': 1.8947, 'grad_norm': 1.2155486345291138, 'learning_rate': 0.009682330827067669, 'epoch': 0.6390977443609023}\n",
      "{'loss': 1.9916, 'grad_norm': 1.167792558670044, 'learning_rate': 0.009663533834586466, 'epoch': 0.6766917293233082}\n",
      "{'loss': 1.9133, 'grad_norm': 0.7778904438018799, 'learning_rate': 0.009644736842105263, 'epoch': 0.7142857142857143}\n",
      "{'loss': 1.9458, 'grad_norm': 0.8699319958686829, 'learning_rate': 0.00962593984962406, 'epoch': 0.7518796992481203}\n",
      "{'loss': 1.9813, 'grad_norm': 1.1727066040039062, 'learning_rate': 0.009607142857142857, 'epoch': 0.7894736842105263}\n",
      "{'loss': 1.951, 'grad_norm': 1.2407399415969849, 'learning_rate': 0.009588345864661655, 'epoch': 0.8270676691729323}\n",
      "{'loss': 1.8296, 'grad_norm': 0.7197898030281067, 'learning_rate': 0.009569548872180452, 'epoch': 0.8646616541353384}\n",
      "{'loss': 1.9043, 'grad_norm': 0.46963053941726685, 'learning_rate': 0.009550751879699249, 'epoch': 0.9022556390977443}\n",
      "{'loss': 1.8455, 'grad_norm': 0.6644653677940369, 'learning_rate': 0.009531954887218044, 'epoch': 0.9398496240601504}\n",
      "{'loss': 1.8758, 'grad_norm': 0.7404245138168335, 'learning_rate': 0.009513157894736843, 'epoch': 0.9774436090225563}\n",
      "{'eval_loss': 1.8373382091522217, 'eval_accuracy': 0.248, 'eval_runtime': 18.3551, 'eval_samples_per_second': 40.86, 'eval_steps_per_second': 2.561, 'epoch': 1.0}\n"
     ]
    },
    {
     "name": "stderr",
     "output_type": "stream",
     "text": [
      "/Users/ahmedmaher/.pyenv/versions/3.11.12/lib/python3.11/site-packages/torch/utils/data/dataloader.py:683: UserWarning: 'pin_memory' argument is set as true but not supported on MPS now, then device pinned memory won't be used.\n",
      "  warnings.warn(warn_msg)\n"
     ]
    },
    {
     "name": "stdout",
     "output_type": "stream",
     "text": [
      "{'loss': 1.8384, 'grad_norm': 0.8360782265663147, 'learning_rate': 0.009494360902255639, 'epoch': 1.0150375939849625}\n",
      "{'loss': 1.872, 'grad_norm': 1.3109667301177979, 'learning_rate': 0.009475563909774436, 'epoch': 1.0526315789473684}\n",
      "{'loss': 1.9375, 'grad_norm': 0.6895990371704102, 'learning_rate': 0.009456766917293233, 'epoch': 1.0902255639097744}\n",
      "{'loss': 1.8768, 'grad_norm': 0.8945196270942688, 'learning_rate': 0.00943796992481203, 'epoch': 1.1278195488721805}\n",
      "{'loss': 1.8431, 'grad_norm': 1.072113275527954, 'learning_rate': 0.009419172932330827, 'epoch': 1.1654135338345863}\n",
      "{'loss': 1.9231, 'grad_norm': 1.0721923112869263, 'learning_rate': 0.009400375939849624, 'epoch': 1.2030075187969924}\n",
      "{'loss': 1.9263, 'grad_norm': 0.9410565495491028, 'learning_rate': 0.009381578947368421, 'epoch': 1.2406015037593985}\n",
      "{'loss': 1.8976, 'grad_norm': 0.6659327149391174, 'learning_rate': 0.009362781954887218, 'epoch': 1.2781954887218046}\n",
      "{'loss': 1.7912, 'grad_norm': 1.3833417892456055, 'learning_rate': 0.009343984962406014, 'epoch': 1.3157894736842106}\n",
      "{'loss': 1.7428, 'grad_norm': 1.5248751640319824, 'learning_rate': 0.009325187969924813, 'epoch': 1.3533834586466165}\n",
      "{'loss': 1.8943, 'grad_norm': 0.7064520716667175, 'learning_rate': 0.00930639097744361, 'epoch': 1.3909774436090225}\n",
      "{'loss': 1.7292, 'grad_norm': 1.045064926147461, 'learning_rate': 0.009287593984962405, 'epoch': 1.4285714285714286}\n",
      "{'loss': 1.8532, 'grad_norm': 0.6081541180610657, 'learning_rate': 0.009268796992481202, 'epoch': 1.4661654135338344}\n",
      "{'loss': 1.8298, 'grad_norm': 1.0141079425811768, 'learning_rate': 0.009250000000000001, 'epoch': 1.5037593984962405}\n",
      "{'loss': 1.9271, 'grad_norm': 0.7924148440361023, 'learning_rate': 0.009231203007518797, 'epoch': 1.5413533834586466}\n",
      "{'loss': 1.8379, 'grad_norm': 0.7925596833229065, 'learning_rate': 0.009212406015037594, 'epoch': 1.5789473684210527}\n",
      "{'loss': 1.8261, 'grad_norm': 0.8628630042076111, 'learning_rate': 0.009193609022556391, 'epoch': 1.6165413533834587}\n",
      "{'loss': 1.6589, 'grad_norm': 0.8548495173454285, 'learning_rate': 0.009174812030075188, 'epoch': 1.6541353383458648}\n",
      "{'loss': 1.6893, 'grad_norm': 0.865020751953125, 'learning_rate': 0.009156015037593985, 'epoch': 1.6917293233082706}\n",
      "{'loss': 1.809, 'grad_norm': 1.0134949684143066, 'learning_rate': 0.009137218045112782, 'epoch': 1.7293233082706767}\n",
      "{'loss': 1.7895, 'grad_norm': 0.7162043452262878, 'learning_rate': 0.00911842105263158, 'epoch': 1.7669172932330826}\n",
      "{'loss': 1.6885, 'grad_norm': 0.9276005625724792, 'learning_rate': 0.009099624060150377, 'epoch': 1.8045112781954886}\n",
      "{'loss': 1.7505, 'grad_norm': 0.6174374222755432, 'learning_rate': 0.009080827067669174, 'epoch': 1.8421052631578947}\n",
      "{'loss': 1.8429, 'grad_norm': 0.8284294009208679, 'learning_rate': 0.00906203007518797, 'epoch': 1.8796992481203008}\n",
      "{'loss': 1.9365, 'grad_norm': 1.0190166234970093, 'learning_rate': 0.009043233082706766, 'epoch': 1.9172932330827068}\n",
      "{'loss': 1.8353, 'grad_norm': 0.9094612002372742, 'learning_rate': 0.009024436090225563, 'epoch': 1.954887218045113}\n",
      "{'loss': 1.7583, 'grad_norm': 0.8691967725753784, 'learning_rate': 0.009005639097744362, 'epoch': 1.9924812030075187}\n",
      "{'eval_loss': 1.7075878381729126, 'eval_accuracy': 0.30666666666666664, 'eval_runtime': 14.4434, 'eval_samples_per_second': 51.927, 'eval_steps_per_second': 3.254, 'epoch': 2.0}\n"
     ]
    },
    {
     "name": "stderr",
     "output_type": "stream",
     "text": [
      "/Users/ahmedmaher/.pyenv/versions/3.11.12/lib/python3.11/site-packages/torch/utils/data/dataloader.py:683: UserWarning: 'pin_memory' argument is set as true but not supported on MPS now, then device pinned memory won't be used.\n",
      "  warnings.warn(warn_msg)\n"
     ]
    },
    {
     "name": "stdout",
     "output_type": "stream",
     "text": [
      "{'loss': 1.8113, 'grad_norm': 0.41101133823394775, 'learning_rate': 0.008986842105263158, 'epoch': 2.030075187969925}\n",
      "{'loss': 1.8286, 'grad_norm': 0.7229340076446533, 'learning_rate': 0.008968045112781955, 'epoch': 2.0676691729323307}\n",
      "{'loss': 1.8822, 'grad_norm': 0.9804407358169556, 'learning_rate': 0.008949248120300752, 'epoch': 2.1052631578947367}\n",
      "{'loss': 1.893, 'grad_norm': 0.7984108328819275, 'learning_rate': 0.008930451127819549, 'epoch': 2.142857142857143}\n",
      "{'loss': 1.7768, 'grad_norm': 1.1930595636367798, 'learning_rate': 0.008911654135338346, 'epoch': 2.180451127819549}\n",
      "{'loss': 1.8062, 'grad_norm': 1.4011565446853638, 'learning_rate': 0.008892857142857143, 'epoch': 2.218045112781955}\n",
      "{'loss': 1.807, 'grad_norm': 1.0020935535430908, 'learning_rate': 0.00887406015037594, 'epoch': 2.255639097744361}\n",
      "{'loss': 1.8425, 'grad_norm': 0.7706811428070068, 'learning_rate': 0.008855263157894738, 'epoch': 2.293233082706767}\n",
      "{'loss': 1.7361, 'grad_norm': 0.6682156324386597, 'learning_rate': 0.008836466165413533, 'epoch': 2.3308270676691727}\n",
      "{'loss': 1.7908, 'grad_norm': 0.9566150903701782, 'learning_rate': 0.008817669172932332, 'epoch': 2.3684210526315788}\n",
      "{'loss': 1.786, 'grad_norm': 1.257299780845642, 'learning_rate': 0.008798872180451129, 'epoch': 2.406015037593985}\n",
      "{'loss': 1.6817, 'grad_norm': 0.8868019580841064, 'learning_rate': 0.008780075187969924, 'epoch': 2.443609022556391}\n",
      "{'loss': 1.7309, 'grad_norm': 0.9753223657608032, 'learning_rate': 0.008761278195488722, 'epoch': 2.481203007518797}\n",
      "{'loss': 1.8333, 'grad_norm': 1.373748779296875, 'learning_rate': 0.008742481203007519, 'epoch': 2.518796992481203}\n",
      "{'loss': 1.8762, 'grad_norm': 0.9442118406295776, 'learning_rate': 0.008723684210526316, 'epoch': 2.556390977443609}\n",
      "{'loss': 1.8101, 'grad_norm': 0.6113681197166443, 'learning_rate': 0.008704887218045113, 'epoch': 2.593984962406015}\n",
      "{'loss': 1.7964, 'grad_norm': 1.1150450706481934, 'learning_rate': 0.00868609022556391, 'epoch': 2.6315789473684212}\n",
      "{'loss': 1.8153, 'grad_norm': 0.6833356022834778, 'learning_rate': 0.008667293233082707, 'epoch': 2.6691729323308273}\n",
      "{'loss': 1.7123, 'grad_norm': 0.930620014667511, 'learning_rate': 0.008648496240601504, 'epoch': 2.706766917293233}\n",
      "{'loss': 1.7712, 'grad_norm': 0.9496643543243408, 'learning_rate': 0.008629699248120301, 'epoch': 2.744360902255639}\n",
      "{'loss': 1.8049, 'grad_norm': 0.9003061056137085, 'learning_rate': 0.008610902255639099, 'epoch': 2.781954887218045}\n",
      "{'loss': 1.7217, 'grad_norm': 0.5989608764648438, 'learning_rate': 0.008592105263157894, 'epoch': 2.819548872180451}\n",
      "{'loss': 1.6793, 'grad_norm': 0.719248354434967, 'learning_rate': 0.008573308270676691, 'epoch': 2.857142857142857}\n",
      "{'loss': 1.6768, 'grad_norm': 0.7780109643936157, 'learning_rate': 0.00855451127819549, 'epoch': 2.8947368421052633}\n",
      "{'loss': 1.7462, 'grad_norm': 0.624582052230835, 'learning_rate': 0.008535714285714285, 'epoch': 2.932330827067669}\n",
      "{'loss': 1.8125, 'grad_norm': 0.8201950192451477, 'learning_rate': 0.008516917293233082, 'epoch': 2.969924812030075}\n",
      "{'eval_loss': 1.6779723167419434, 'eval_accuracy': 0.35333333333333333, 'eval_runtime': 14.8274, 'eval_samples_per_second': 50.582, 'eval_steps_per_second': 3.17, 'epoch': 3.0}\n"
     ]
    },
    {
     "name": "stderr",
     "output_type": "stream",
     "text": [
      "/Users/ahmedmaher/.pyenv/versions/3.11.12/lib/python3.11/site-packages/torch/utils/data/dataloader.py:683: UserWarning: 'pin_memory' argument is set as true but not supported on MPS now, then device pinned memory won't be used.\n",
      "  warnings.warn(warn_msg)\n"
     ]
    },
    {
     "name": "stdout",
     "output_type": "stream",
     "text": [
      "{'loss': 1.7455, 'grad_norm': 0.6723791360855103, 'learning_rate': 0.00849812030075188, 'epoch': 3.007518796992481}\n",
      "{'loss': 1.7382, 'grad_norm': 0.7561254501342773, 'learning_rate': 0.008479323308270677, 'epoch': 3.045112781954887}\n",
      "{'loss': 1.6925, 'grad_norm': 0.8498923778533936, 'learning_rate': 0.008460526315789474, 'epoch': 3.082706766917293}\n",
      "{'loss': 1.7033, 'grad_norm': 1.0987441539764404, 'learning_rate': 0.008441729323308271, 'epoch': 3.1203007518796992}\n",
      "{'loss': 1.7949, 'grad_norm': 0.5164075493812561, 'learning_rate': 0.008422932330827068, 'epoch': 3.1578947368421053}\n",
      "{'loss': 1.7314, 'grad_norm': 0.7523684501647949, 'learning_rate': 0.008404135338345865, 'epoch': 3.1954887218045114}\n",
      "{'loss': 1.6804, 'grad_norm': 0.8905447721481323, 'learning_rate': 0.00838533834586466, 'epoch': 3.2330827067669174}\n",
      "{'loss': 1.7445, 'grad_norm': 0.8164858818054199, 'learning_rate': 0.00836654135338346, 'epoch': 3.2706766917293235}\n",
      "{'loss': 1.7402, 'grad_norm': 1.0300694704055786, 'learning_rate': 0.008347744360902257, 'epoch': 3.308270676691729}\n",
      "{'loss': 1.7333, 'grad_norm': 0.7184035181999207, 'learning_rate': 0.008328947368421052, 'epoch': 3.345864661654135}\n",
      "{'loss': 1.7135, 'grad_norm': 0.9017089605331421, 'learning_rate': 0.00831015037593985, 'epoch': 3.3834586466165413}\n",
      "{'loss': 1.7249, 'grad_norm': 0.8491114377975464, 'learning_rate': 0.008291353383458646, 'epoch': 3.4210526315789473}\n",
      "{'loss': 1.7301, 'grad_norm': 0.6616843342781067, 'learning_rate': 0.008272556390977443, 'epoch': 3.4586466165413534}\n",
      "{'loss': 1.7659, 'grad_norm': 0.9200242161750793, 'learning_rate': 0.00825375939849624, 'epoch': 3.4962406015037595}\n",
      "{'loss': 1.7683, 'grad_norm': 0.7782806754112244, 'learning_rate': 0.008234962406015038, 'epoch': 3.5338345864661656}\n",
      "{'loss': 1.6749, 'grad_norm': 0.8748398423194885, 'learning_rate': 0.008216165413533835, 'epoch': 3.571428571428571}\n",
      "{'loss': 1.8541, 'grad_norm': 0.6100265383720398, 'learning_rate': 0.008197368421052632, 'epoch': 3.6090225563909772}\n",
      "{'loss': 1.7827, 'grad_norm': 1.3181957006454468, 'learning_rate': 0.00817857142857143, 'epoch': 3.6466165413533833}\n",
      "{'loss': 1.7769, 'grad_norm': 0.824644148349762, 'learning_rate': 0.008159774436090226, 'epoch': 3.6842105263157894}\n",
      "{'loss': 1.8047, 'grad_norm': 0.9493473768234253, 'learning_rate': 0.008140977443609022, 'epoch': 3.7218045112781954}\n",
      "{'loss': 1.7603, 'grad_norm': 0.7618592977523804, 'learning_rate': 0.008122180451127819, 'epoch': 3.7593984962406015}\n",
      "{'loss': 1.7879, 'grad_norm': 0.48121362924575806, 'learning_rate': 0.008103383458646618, 'epoch': 3.7969924812030076}\n",
      "{'loss': 1.7754, 'grad_norm': 0.7101074457168579, 'learning_rate': 0.008084586466165413, 'epoch': 3.8345864661654137}\n",
      "{'loss': 1.6902, 'grad_norm': 0.8839285969734192, 'learning_rate': 0.00806578947368421, 'epoch': 3.8721804511278197}\n",
      "{'loss': 1.7637, 'grad_norm': 0.9103826284408569, 'learning_rate': 0.008046992481203007, 'epoch': 3.909774436090226}\n",
      "{'loss': 1.7458, 'grad_norm': 1.1197034120559692, 'learning_rate': 0.008028195488721804, 'epoch': 3.9473684210526314}\n",
      "{'loss': 1.8449, 'grad_norm': 0.6222533583641052, 'learning_rate': 0.008009398496240602, 'epoch': 3.9849624060150375}\n",
      "{'eval_loss': 1.7609539031982422, 'eval_accuracy': 0.312, 'eval_runtime': 15.4733, 'eval_samples_per_second': 48.471, 'eval_steps_per_second': 3.037, 'epoch': 4.0}\n"
     ]
    },
    {
     "name": "stderr",
     "output_type": "stream",
     "text": [
      "/Users/ahmedmaher/.pyenv/versions/3.11.12/lib/python3.11/site-packages/torch/utils/data/dataloader.py:683: UserWarning: 'pin_memory' argument is set as true but not supported on MPS now, then device pinned memory won't be used.\n",
      "  warnings.warn(warn_msg)\n"
     ]
    },
    {
     "name": "stdout",
     "output_type": "stream",
     "text": [
      "{'loss': 1.8387, 'grad_norm': 1.2800672054290771, 'learning_rate': 0.007990601503759399, 'epoch': 4.022556390977444}\n",
      "{'loss': 1.8894, 'grad_norm': 0.9321118593215942, 'learning_rate': 0.007971804511278196, 'epoch': 4.06015037593985}\n",
      "{'loss': 1.8064, 'grad_norm': 0.5324876308441162, 'learning_rate': 0.007953007518796993, 'epoch': 4.097744360902255}\n",
      "{'loss': 1.7807, 'grad_norm': 0.9069476127624512, 'learning_rate': 0.00793421052631579, 'epoch': 4.135338345864661}\n",
      "{'loss': 1.8076, 'grad_norm': 0.8372794389724731, 'learning_rate': 0.007915413533834587, 'epoch': 4.172932330827067}\n",
      "{'loss': 1.7568, 'grad_norm': 0.5158694982528687, 'learning_rate': 0.007896616541353384, 'epoch': 4.2105263157894735}\n",
      "{'loss': 1.7533, 'grad_norm': 0.5587732195854187, 'learning_rate': 0.00787781954887218, 'epoch': 4.2481203007518795}\n",
      "{'loss': 1.7837, 'grad_norm': 0.950483500957489, 'learning_rate': 0.007859022556390979, 'epoch': 4.285714285714286}\n",
      "{'loss': 1.78, 'grad_norm': 0.8291489481925964, 'learning_rate': 0.007840225563909774, 'epoch': 4.323308270676692}\n",
      "{'loss': 1.5938, 'grad_norm': 0.5361058115959167, 'learning_rate': 0.007821428571428571, 'epoch': 4.360902255639098}\n",
      "{'loss': 1.7896, 'grad_norm': 1.1082428693771362, 'learning_rate': 0.007802631578947369, 'epoch': 4.398496240601504}\n",
      "{'loss': 1.6763, 'grad_norm': 0.5388140082359314, 'learning_rate': 0.0077838345864661655, 'epoch': 4.43609022556391}\n",
      "{'loss': 1.7308, 'grad_norm': 0.6689314842224121, 'learning_rate': 0.007765037593984963, 'epoch': 4.473684210526316}\n",
      "{'loss': 1.7334, 'grad_norm': 0.8133903741836548, 'learning_rate': 0.00774624060150376, 'epoch': 4.511278195488722}\n",
      "{'loss': 1.6989, 'grad_norm': 0.941845715045929, 'learning_rate': 0.007727443609022556, 'epoch': 4.548872180451128}\n",
      "{'loss': 1.8512, 'grad_norm': 1.0450891256332397, 'learning_rate': 0.007708646616541354, 'epoch': 4.586466165413534}\n",
      "{'loss': 1.7618, 'grad_norm': 0.783284604549408, 'learning_rate': 0.00768984962406015, 'epoch': 4.62406015037594}\n",
      "{'loss': 1.7565, 'grad_norm': 1.0038615465164185, 'learning_rate': 0.007671052631578947, 'epoch': 4.661654135338345}\n",
      "{'loss': 1.6949, 'grad_norm': 0.7749226689338684, 'learning_rate': 0.0076522556390977445, 'epoch': 4.6992481203007515}\n",
      "{'loss': 1.807, 'grad_norm': 1.0092192888259888, 'learning_rate': 0.007633458646616542, 'epoch': 4.7368421052631575}\n",
      "{'loss': 1.6303, 'grad_norm': 0.7559962868690491, 'learning_rate': 0.007614661654135339, 'epoch': 4.774436090225564}\n",
      "{'loss': 1.7189, 'grad_norm': 0.9277425408363342, 'learning_rate': 0.007595864661654136, 'epoch': 4.81203007518797}\n",
      "{'loss': 1.6211, 'grad_norm': 0.9394435286521912, 'learning_rate': 0.007577067669172932, 'epoch': 4.849624060150376}\n",
      "{'loss': 1.6817, 'grad_norm': 0.8703560829162598, 'learning_rate': 0.00755827067669173, 'epoch': 4.887218045112782}\n",
      "{'loss': 1.7025, 'grad_norm': 0.6431135535240173, 'learning_rate': 0.0075394736842105264, 'epoch': 4.924812030075188}\n",
      "{'loss': 1.8617, 'grad_norm': 0.6940389275550842, 'learning_rate': 0.007520676691729324, 'epoch': 4.962406015037594}\n",
      "{'loss': 1.7228, 'grad_norm': 1.0645251274108887, 'learning_rate': 0.007501879699248121, 'epoch': 5.0}\n",
      "{'eval_loss': 1.6893144845962524, 'eval_accuracy': 0.352, 'eval_runtime': 12.9968, 'eval_samples_per_second': 57.707, 'eval_steps_per_second': 3.616, 'epoch': 5.0}\n"
     ]
    },
    {
     "name": "stderr",
     "output_type": "stream",
     "text": [
      "/Users/ahmedmaher/.pyenv/versions/3.11.12/lib/python3.11/site-packages/torch/utils/data/dataloader.py:683: UserWarning: 'pin_memory' argument is set as true but not supported on MPS now, then device pinned memory won't be used.\n",
      "  warnings.warn(warn_msg)\n"
     ]
    },
    {
     "name": "stdout",
     "output_type": "stream",
     "text": [
      "{'loss': 1.6688, 'grad_norm': 0.6073790788650513, 'learning_rate': 0.007483082706766917, 'epoch': 5.037593984962406}\n",
      "{'loss': 1.7058, 'grad_norm': 0.7979875802993774, 'learning_rate': 0.007464285714285715, 'epoch': 5.075187969924812}\n",
      "{'loss': 1.6659, 'grad_norm': 0.8078156113624573, 'learning_rate': 0.007445488721804512, 'epoch': 5.112781954887218}\n",
      "{'loss': 1.8073, 'grad_norm': 0.6518504619598389, 'learning_rate': 0.007426691729323308, 'epoch': 5.150375939849624}\n",
      "{'loss': 1.7279, 'grad_norm': 0.8108299374580383, 'learning_rate': 0.0074078947368421055, 'epoch': 5.18796992481203}\n",
      "{'loss': 1.668, 'grad_norm': 0.7197865843772888, 'learning_rate': 0.007389097744360902, 'epoch': 5.225563909774436}\n",
      "{'loss': 1.6468, 'grad_norm': 0.5476981997489929, 'learning_rate': 0.0073703007518797, 'epoch': 5.2631578947368425}\n",
      "{'loss': 1.6613, 'grad_norm': 0.9449067711830139, 'learning_rate': 0.007351503759398497, 'epoch': 5.3007518796992485}\n",
      "{'loss': 1.7123, 'grad_norm': 0.8255115747451782, 'learning_rate': 0.007332706766917293, 'epoch': 5.338345864661654}\n",
      "{'loss': 1.7066, 'grad_norm': 0.5139622092247009, 'learning_rate': 0.00731390977443609, 'epoch': 5.37593984962406}\n",
      "{'loss': 1.7341, 'grad_norm': 1.0334498882293701, 'learning_rate': 0.007295112781954888, 'epoch': 5.413533834586466}\n",
      "{'loss': 1.7799, 'grad_norm': 0.5433893799781799, 'learning_rate': 0.0072763157894736846, 'epoch': 5.451127819548872}\n",
      "{'loss': 1.5651, 'grad_norm': 0.5234670639038086, 'learning_rate': 0.007257518796992482, 'epoch': 5.488721804511278}\n",
      "{'loss': 1.7872, 'grad_norm': 1.4655604362487793, 'learning_rate': 0.007238721804511278, 'epoch': 5.526315789473684}\n",
      "{'loss': 1.6043, 'grad_norm': 0.7459980845451355, 'learning_rate': 0.007219924812030075, 'epoch': 5.56390977443609}\n",
      "{'loss': 1.7629, 'grad_norm': 0.5787045955657959, 'learning_rate': 0.007201127819548873, 'epoch': 5.601503759398496}\n",
      "{'loss': 1.654, 'grad_norm': 0.6992156505584717, 'learning_rate': 0.007182330827067669, 'epoch': 5.639097744360902}\n",
      "{'loss': 1.6344, 'grad_norm': 0.680957019329071, 'learning_rate': 0.0071635338345864665, 'epoch': 5.676691729323308}\n",
      "{'loss': 1.6724, 'grad_norm': 0.640240490436554, 'learning_rate': 0.007144736842105263, 'epoch': 5.714285714285714}\n",
      "{'loss': 1.6528, 'grad_norm': 0.810840904712677, 'learning_rate': 0.00712593984962406, 'epoch': 5.7518796992481205}\n",
      "{'loss': 1.8005, 'grad_norm': 1.6486895084381104, 'learning_rate': 0.007107142857142858, 'epoch': 5.7894736842105265}\n",
      "{'loss': 1.7731, 'grad_norm': 0.856989324092865, 'learning_rate': 0.007088345864661654, 'epoch': 5.827067669172933}\n",
      "{'loss': 1.7221, 'grad_norm': 0.6589838862419128, 'learning_rate': 0.007069548872180451, 'epoch': 5.864661654135339}\n",
      "{'loss': 1.6903, 'grad_norm': 0.8047736287117004, 'learning_rate': 0.007050751879699248, 'epoch': 5.902255639097744}\n",
      "{'loss': 1.7758, 'grad_norm': 0.8302927613258362, 'learning_rate': 0.007031954887218045, 'epoch': 5.93984962406015}\n",
      "{'loss': 1.6897, 'grad_norm': 0.9378206133842468, 'learning_rate': 0.007013157894736843, 'epoch': 5.977443609022556}\n",
      "{'eval_loss': 1.661994457244873, 'eval_accuracy': 0.348, 'eval_runtime': 14.2392, 'eval_samples_per_second': 52.672, 'eval_steps_per_second': 3.301, 'epoch': 6.0}\n"
     ]
    },
    {
     "name": "stderr",
     "output_type": "stream",
     "text": [
      "/Users/ahmedmaher/.pyenv/versions/3.11.12/lib/python3.11/site-packages/torch/utils/data/dataloader.py:683: UserWarning: 'pin_memory' argument is set as true but not supported on MPS now, then device pinned memory won't be used.\n",
      "  warnings.warn(warn_msg)\n"
     ]
    },
    {
     "name": "stdout",
     "output_type": "stream",
     "text": [
      "{'loss': 1.7604, 'grad_norm': 0.5684509873390198, 'learning_rate': 0.006994360902255639, 'epoch': 6.015037593984962}\n",
      "{'loss': 1.6052, 'grad_norm': 0.5246885418891907, 'learning_rate': 0.006975563909774436, 'epoch': 6.052631578947368}\n",
      "{'loss': 1.6913, 'grad_norm': 0.5367717146873474, 'learning_rate': 0.006956766917293233, 'epoch': 6.090225563909774}\n",
      "{'loss': 1.7348, 'grad_norm': 1.109119176864624, 'learning_rate': 0.0069379699248120295, 'epoch': 6.12781954887218}\n",
      "{'loss': 1.6771, 'grad_norm': 0.7467693090438843, 'learning_rate': 0.0069191729323308275, 'epoch': 6.165413533834586}\n",
      "{'loss': 1.6643, 'grad_norm': 0.829149603843689, 'learning_rate': 0.006900375939849625, 'epoch': 6.203007518796992}\n",
      "{'loss': 1.6186, 'grad_norm': 0.8103991150856018, 'learning_rate': 0.006881578947368421, 'epoch': 6.2406015037593985}\n",
      "{'loss': 1.5726, 'grad_norm': 1.1596095561981201, 'learning_rate': 0.006862781954887218, 'epoch': 6.2781954887218046}\n",
      "{'loss': 1.7981, 'grad_norm': 0.7974358797073364, 'learning_rate': 0.006843984962406014, 'epoch': 6.315789473684211}\n",
      "{'loss': 1.8129, 'grad_norm': 0.6317921280860901, 'learning_rate': 0.006825187969924812, 'epoch': 6.353383458646617}\n",
      "{'loss': 1.7042, 'grad_norm': 0.6081238985061646, 'learning_rate': 0.006806390977443609, 'epoch': 6.390977443609023}\n",
      "{'loss': 1.7761, 'grad_norm': 0.6907402276992798, 'learning_rate': 0.006787593984962406, 'epoch': 6.428571428571429}\n",
      "{'loss': 1.6923, 'grad_norm': 0.7133888602256775, 'learning_rate': 0.006768796992481203, 'epoch': 6.466165413533835}\n",
      "{'loss': 1.7286, 'grad_norm': 0.9522161483764648, 'learning_rate': 0.006750000000000001, 'epoch': 6.503759398496241}\n",
      "{'loss': 1.7356, 'grad_norm': 1.307512879371643, 'learning_rate': 0.006731203007518797, 'epoch': 6.541353383458647}\n",
      "{'loss': 1.8009, 'grad_norm': 0.5337145924568176, 'learning_rate': 0.006712406015037594, 'epoch': 6.578947368421053}\n",
      "{'loss': 1.6787, 'grad_norm': 0.6062150597572327, 'learning_rate': 0.0066936090225563905, 'epoch': 6.616541353383458}\n",
      "{'loss': 1.7359, 'grad_norm': 0.6960694193840027, 'learning_rate': 0.006674812030075188, 'epoch': 6.654135338345864}\n",
      "{'loss': 1.7357, 'grad_norm': 1.1407537460327148, 'learning_rate': 0.006656015037593986, 'epoch': 6.69172932330827}\n",
      "{'loss': 1.7188, 'grad_norm': 0.8582496047019958, 'learning_rate': 0.006637218045112782, 'epoch': 6.7293233082706765}\n",
      "{'loss': 1.6618, 'grad_norm': 0.7082703709602356, 'learning_rate': 0.006618421052631579, 'epoch': 6.7669172932330826}\n",
      "{'loss': 1.7945, 'grad_norm': 0.792403519153595, 'learning_rate': 0.006599624060150376, 'epoch': 6.804511278195489}\n",
      "{'loss': 1.6721, 'grad_norm': 0.6215607523918152, 'learning_rate': 0.006580827067669173, 'epoch': 6.842105263157895}\n",
      "{'loss': 1.7412, 'grad_norm': 0.8714783787727356, 'learning_rate': 0.00656203007518797, 'epoch': 6.879699248120301}\n",
      "{'loss': 1.7645, 'grad_norm': 0.9011842608451843, 'learning_rate': 0.006543233082706767, 'epoch': 6.917293233082707}\n",
      "{'loss': 1.6669, 'grad_norm': 0.8995617628097534, 'learning_rate': 0.006524436090225564, 'epoch': 6.954887218045113}\n",
      "{'loss': 1.5483, 'grad_norm': 1.425965666770935, 'learning_rate': 0.006505639097744362, 'epoch': 6.992481203007519}\n",
      "{'eval_loss': 1.6488616466522217, 'eval_accuracy': 0.364, 'eval_runtime': 20.4063, 'eval_samples_per_second': 36.753, 'eval_steps_per_second': 2.303, 'epoch': 7.0}\n"
     ]
    },
    {
     "name": "stderr",
     "output_type": "stream",
     "text": [
      "/Users/ahmedmaher/.pyenv/versions/3.11.12/lib/python3.11/site-packages/torch/utils/data/dataloader.py:683: UserWarning: 'pin_memory' argument is set as true but not supported on MPS now, then device pinned memory won't be used.\n",
      "  warnings.warn(warn_msg)\n"
     ]
    },
    {
     "name": "stdout",
     "output_type": "stream",
     "text": [
      "{'loss': 1.7974, 'grad_norm': 0.7062124609947205, 'learning_rate': 0.006486842105263158, 'epoch': 7.030075187969925}\n",
      "{'loss': 1.7135, 'grad_norm': 0.7537009119987488, 'learning_rate': 0.006468045112781955, 'epoch': 7.067669172932331}\n",
      "{'loss': 1.6615, 'grad_norm': 0.8249192237854004, 'learning_rate': 0.006449248120300752, 'epoch': 7.105263157894737}\n",
      "{'loss': 1.7821, 'grad_norm': 1.2350749969482422, 'learning_rate': 0.006430451127819549, 'epoch': 7.142857142857143}\n",
      "{'loss': 1.5553, 'grad_norm': 1.0123685598373413, 'learning_rate': 0.006411654135338347, 'epoch': 7.180451127819548}\n",
      "{'loss': 1.7084, 'grad_norm': 0.8931525945663452, 'learning_rate': 0.006392857142857143, 'epoch': 7.2180451127819545}\n",
      "{'loss': 1.6752, 'grad_norm': 0.7413536310195923, 'learning_rate': 0.00637406015037594, 'epoch': 7.2556390977443606}\n",
      "{'loss': 1.7836, 'grad_norm': 1.0656479597091675, 'learning_rate': 0.006355263157894737, 'epoch': 7.293233082706767}\n",
      "{'loss': 1.6736, 'grad_norm': 0.7247312068939209, 'learning_rate': 0.006336466165413533, 'epoch': 7.330827067669173}\n",
      "{'loss': 1.6791, 'grad_norm': 1.2054362297058105, 'learning_rate': 0.006317669172932331, 'epoch': 7.368421052631579}\n",
      "{'loss': 1.6181, 'grad_norm': 0.6534332633018494, 'learning_rate': 0.0062988721804511285, 'epoch': 7.406015037593985}\n",
      "{'loss': 1.6819, 'grad_norm': 0.8133803606033325, 'learning_rate': 0.006280075187969925, 'epoch': 7.443609022556391}\n",
      "{'loss': 1.5501, 'grad_norm': 0.895275354385376, 'learning_rate': 0.006261278195488722, 'epoch': 7.481203007518797}\n",
      "{'loss': 1.6128, 'grad_norm': 0.8145388960838318, 'learning_rate': 0.006242481203007518, 'epoch': 7.518796992481203}\n",
      "{'loss': 1.7005, 'grad_norm': 0.7107443809509277, 'learning_rate': 0.006223684210526316, 'epoch': 7.556390977443609}\n",
      "{'loss': 1.6516, 'grad_norm': 0.6965292692184448, 'learning_rate': 0.006204887218045113, 'epoch': 7.593984962406015}\n",
      "{'loss': 1.634, 'grad_norm': 0.980346143245697, 'learning_rate': 0.0061860902255639096, 'epoch': 7.631578947368421}\n",
      "{'loss': 1.7125, 'grad_norm': 0.6350755095481873, 'learning_rate': 0.006167293233082707, 'epoch': 7.669172932330827}\n",
      "{'loss': 1.7515, 'grad_norm': 0.6664568781852722, 'learning_rate': 0.006148496240601505, 'epoch': 7.706766917293233}\n",
      "{'loss': 1.6558, 'grad_norm': 0.9774914979934692, 'learning_rate': 0.006129699248120301, 'epoch': 7.7443609022556394}\n",
      "{'loss': 1.6369, 'grad_norm': 0.7386592626571655, 'learning_rate': 0.006110902255639098, 'epoch': 7.7819548872180455}\n",
      "{'loss': 1.59, 'grad_norm': 2.017303705215454, 'learning_rate': 0.006092105263157894, 'epoch': 7.819548872180452}\n",
      "{'loss': 1.6721, 'grad_norm': 1.5278253555297852, 'learning_rate': 0.0060733082706766915, 'epoch': 7.857142857142857}\n",
      "{'loss': 1.7506, 'grad_norm': 0.7480874061584473, 'learning_rate': 0.0060545112781954895, 'epoch': 7.894736842105263}\n",
      "{'loss': 1.6115, 'grad_norm': 0.9187012314796448, 'learning_rate': 0.006035714285714286, 'epoch': 7.932330827067669}\n",
      "{'loss': 1.6838, 'grad_norm': 0.9291417002677917, 'learning_rate': 0.006016917293233083, 'epoch': 7.969924812030075}\n",
      "{'eval_loss': 1.6102755069732666, 'eval_accuracy': 0.37733333333333335, 'eval_runtime': 14.0707, 'eval_samples_per_second': 53.302, 'eval_steps_per_second': 3.34, 'epoch': 8.0}\n"
     ]
    },
    {
     "name": "stderr",
     "output_type": "stream",
     "text": [
      "/Users/ahmedmaher/.pyenv/versions/3.11.12/lib/python3.11/site-packages/torch/utils/data/dataloader.py:683: UserWarning: 'pin_memory' argument is set as true but not supported on MPS now, then device pinned memory won't be used.\n",
      "  warnings.warn(warn_msg)\n"
     ]
    },
    {
     "name": "stdout",
     "output_type": "stream",
     "text": [
      "{'loss': 1.6404, 'grad_norm': 1.0947144031524658, 'learning_rate': 0.00599812030075188, 'epoch': 8.007518796992482}\n",
      "{'loss': 1.5717, 'grad_norm': 1.2652751207351685, 'learning_rate': 0.005979323308270676, 'epoch': 8.045112781954888}\n",
      "{'loss': 1.6652, 'grad_norm': 0.5441597104072571, 'learning_rate': 0.005960526315789474, 'epoch': 8.082706766917294}\n",
      "{'loss': 1.609, 'grad_norm': 0.8496168255805969, 'learning_rate': 0.0059417293233082705, 'epoch': 8.1203007518797}\n",
      "{'loss': 1.6553, 'grad_norm': 0.8233149647712708, 'learning_rate': 0.005922932330827068, 'epoch': 8.157894736842104}\n",
      "{'loss': 1.683, 'grad_norm': 0.9036483764648438, 'learning_rate': 0.005904135338345865, 'epoch': 8.19548872180451}\n",
      "{'loss': 1.6643, 'grad_norm': 2.2958946228027344, 'learning_rate': 0.005885338345864661, 'epoch': 8.233082706766917}\n",
      "{'loss': 1.7125, 'grad_norm': 0.6259449124336243, 'learning_rate': 0.005866541353383459, 'epoch': 8.270676691729323}\n",
      "{'loss': 1.6909, 'grad_norm': 0.6683411598205566, 'learning_rate': 0.005847744360902256, 'epoch': 8.308270676691729}\n",
      "{'loss': 1.7137, 'grad_norm': 1.2127573490142822, 'learning_rate': 0.0058289473684210525, 'epoch': 8.345864661654135}\n",
      "{'loss': 1.744, 'grad_norm': 0.7602373361587524, 'learning_rate': 0.00581015037593985, 'epoch': 8.38345864661654}\n",
      "{'loss': 1.6895, 'grad_norm': 0.789619505405426, 'learning_rate': 0.005791353383458646, 'epoch': 8.421052631578947}\n",
      "{'loss': 1.6984, 'grad_norm': 0.4623280167579651, 'learning_rate': 0.005772556390977444, 'epoch': 8.458646616541353}\n",
      "{'loss': 1.6544, 'grad_norm': 0.941909670829773, 'learning_rate': 0.005753759398496241, 'epoch': 8.496240601503759}\n",
      "{'loss': 1.6103, 'grad_norm': 0.5139026641845703, 'learning_rate': 0.005734962406015037, 'epoch': 8.533834586466165}\n",
      "{'loss': 1.5925, 'grad_norm': 1.2063612937927246, 'learning_rate': 0.005716165413533834, 'epoch': 8.571428571428571}\n",
      "{'loss': 1.5511, 'grad_norm': 0.7097563743591309, 'learning_rate': 0.005697368421052632, 'epoch': 8.609022556390977}\n",
      "{'loss': 1.5448, 'grad_norm': 1.8773703575134277, 'learning_rate': 0.005678571428571429, 'epoch': 8.646616541353383}\n",
      "{'loss': 1.6533, 'grad_norm': 1.92607843875885, 'learning_rate': 0.005659774436090226, 'epoch': 8.68421052631579}\n",
      "{'loss': 1.7455, 'grad_norm': 0.8647199869155884, 'learning_rate': 0.005640977443609022, 'epoch': 8.721804511278195}\n",
      "{'loss': 1.6567, 'grad_norm': 1.0084372758865356, 'learning_rate': 0.005622180451127819, 'epoch': 8.759398496240602}\n",
      "{'loss': 1.643, 'grad_norm': 0.9078079462051392, 'learning_rate': 0.005603383458646617, 'epoch': 8.796992481203008}\n",
      "{'loss': 1.6124, 'grad_norm': 0.6503414511680603, 'learning_rate': 0.0055845864661654135, 'epoch': 8.834586466165414}\n",
      "{'loss': 1.6337, 'grad_norm': 0.7182978391647339, 'learning_rate': 0.005565789473684211, 'epoch': 8.87218045112782}\n",
      "{'loss': 1.5197, 'grad_norm': 0.7180100083351135, 'learning_rate': 0.005546992481203008, 'epoch': 8.909774436090226}\n",
      "{'loss': 1.5654, 'grad_norm': 0.9166487455368042, 'learning_rate': 0.005528195488721805, 'epoch': 8.947368421052632}\n",
      "{'loss': 1.6342, 'grad_norm': 0.9251922369003296, 'learning_rate': 0.005509398496240602, 'epoch': 8.984962406015038}\n",
      "{'eval_loss': 1.5862343311309814, 'eval_accuracy': 0.428, 'eval_runtime': 10.7598, 'eval_samples_per_second': 69.704, 'eval_steps_per_second': 4.368, 'epoch': 9.0}\n"
     ]
    },
    {
     "name": "stderr",
     "output_type": "stream",
     "text": [
      "/Users/ahmedmaher/.pyenv/versions/3.11.12/lib/python3.11/site-packages/torch/utils/data/dataloader.py:683: UserWarning: 'pin_memory' argument is set as true but not supported on MPS now, then device pinned memory won't be used.\n",
      "  warnings.warn(warn_msg)\n"
     ]
    },
    {
     "name": "stdout",
     "output_type": "stream",
     "text": [
      "{'loss': 1.622, 'grad_norm': 0.8330793380737305, 'learning_rate': 0.005490601503759398, 'epoch': 9.022556390977444}\n",
      "{'loss': 1.7074, 'grad_norm': 0.8691792488098145, 'learning_rate': 0.005471804511278195, 'epoch': 9.06015037593985}\n",
      "{'loss': 1.6646, 'grad_norm': 0.8336368799209595, 'learning_rate': 0.005453007518796993, 'epoch': 9.097744360902256}\n",
      "{'loss': 1.6036, 'grad_norm': 0.8684561252593994, 'learning_rate': 0.00543421052631579, 'epoch': 9.135338345864662}\n",
      "{'loss': 1.6132, 'grad_norm': 0.5232230424880981, 'learning_rate': 0.005415413533834587, 'epoch': 9.172932330827068}\n",
      "{'loss': 1.5677, 'grad_norm': 0.9935383200645447, 'learning_rate': 0.005396616541353384, 'epoch': 9.210526315789474}\n",
      "{'loss': 1.6188, 'grad_norm': 2.8217735290527344, 'learning_rate': 0.00537781954887218, 'epoch': 9.24812030075188}\n",
      "{'loss': 1.7053, 'grad_norm': 0.6848868131637573, 'learning_rate': 0.005359022556390978, 'epoch': 9.285714285714286}\n",
      "{'loss': 1.6206, 'grad_norm': 0.809512197971344, 'learning_rate': 0.0053402255639097744, 'epoch': 9.323308270676693}\n",
      "{'loss': 1.5958, 'grad_norm': 0.7811979651451111, 'learning_rate': 0.005321428571428572, 'epoch': 9.360902255639097}\n",
      "{'loss': 1.6092, 'grad_norm': 0.8054678440093994, 'learning_rate': 0.005302631578947369, 'epoch': 9.398496240601503}\n",
      "{'loss': 1.6331, 'grad_norm': 1.5601913928985596, 'learning_rate': 0.005283834586466165, 'epoch': 9.436090225563909}\n",
      "{'loss': 1.7013, 'grad_norm': 0.6889974474906921, 'learning_rate': 0.005265037593984963, 'epoch': 9.473684210526315}\n",
      "{'loss': 1.6607, 'grad_norm': 1.3434327840805054, 'learning_rate': 0.00524624060150376, 'epoch': 9.511278195488721}\n",
      "{'loss': 1.5386, 'grad_norm': 0.8678060173988342, 'learning_rate': 0.005227443609022556, 'epoch': 9.548872180451127}\n",
      "{'loss': 1.655, 'grad_norm': 1.0663272142410278, 'learning_rate': 0.0052086466165413535, 'epoch': 9.586466165413533}\n",
      "{'loss': 1.6029, 'grad_norm': 1.002583622932434, 'learning_rate': 0.00518984962406015, 'epoch': 9.62406015037594}\n",
      "{'loss': 1.5575, 'grad_norm': 0.7480846047401428, 'learning_rate': 0.005171052631578948, 'epoch': 9.661654135338345}\n",
      "{'loss': 1.5553, 'grad_norm': 0.7067936658859253, 'learning_rate': 0.005152255639097745, 'epoch': 9.699248120300751}\n",
      "{'loss': 1.6625, 'grad_norm': 0.7470369935035706, 'learning_rate': 0.005133458646616541, 'epoch': 9.736842105263158}\n",
      "{'loss': 1.6595, 'grad_norm': 0.8297564387321472, 'learning_rate': 0.005114661654135338, 'epoch': 9.774436090225564}\n",
      "{'loss': 1.5716, 'grad_norm': 0.8810568451881409, 'learning_rate': 0.005095864661654136, 'epoch': 9.81203007518797}\n",
      "{'loss': 1.4715, 'grad_norm': 0.826968789100647, 'learning_rate': 0.0050770676691729326, 'epoch': 9.849624060150376}\n",
      "{'loss': 1.5736, 'grad_norm': 0.9170213341712952, 'learning_rate': 0.00505827067669173, 'epoch': 9.887218045112782}\n",
      "{'loss': 1.5646, 'grad_norm': 1.120349645614624, 'learning_rate': 0.005039473684210526, 'epoch': 9.924812030075188}\n",
      "{'loss': 1.5095, 'grad_norm': 4.983141899108887, 'learning_rate': 0.005020676691729323, 'epoch': 9.962406015037594}\n",
      "{'loss': 1.5222, 'grad_norm': 1.1863981485366821, 'learning_rate': 0.005001879699248121, 'epoch': 10.0}\n",
      "{'eval_loss': 1.5769538879394531, 'eval_accuracy': 0.3973333333333333, 'eval_runtime': 13.0321, 'eval_samples_per_second': 57.55, 'eval_steps_per_second': 3.606, 'epoch': 10.0}\n"
     ]
    },
    {
     "name": "stderr",
     "output_type": "stream",
     "text": [
      "/Users/ahmedmaher/.pyenv/versions/3.11.12/lib/python3.11/site-packages/torch/utils/data/dataloader.py:683: UserWarning: 'pin_memory' argument is set as true but not supported on MPS now, then device pinned memory won't be used.\n",
      "  warnings.warn(warn_msg)\n"
     ]
    },
    {
     "name": "stdout",
     "output_type": "stream",
     "text": [
      "{'loss': 1.5978, 'grad_norm': 1.0103110074996948, 'learning_rate': 0.004983082706766917, 'epoch': 10.037593984962406}\n",
      "{'loss': 1.5977, 'grad_norm': 0.8171453475952148, 'learning_rate': 0.0049642857142857145, 'epoch': 10.075187969924812}\n",
      "{'loss': 1.6245, 'grad_norm': 0.5807628035545349, 'learning_rate': 0.004945488721804512, 'epoch': 10.112781954887218}\n",
      "{'loss': 1.5605, 'grad_norm': 1.115817666053772, 'learning_rate': 0.004926691729323308, 'epoch': 10.150375939849624}\n",
      "{'loss': 1.6613, 'grad_norm': 1.0662002563476562, 'learning_rate': 0.004907894736842106, 'epoch': 10.18796992481203}\n",
      "{'loss': 1.5155, 'grad_norm': 0.8274048566818237, 'learning_rate': 0.004889097744360902, 'epoch': 10.225563909774436}\n",
      "{'loss': 1.6758, 'grad_norm': 1.1684435606002808, 'learning_rate': 0.004870300751879699, 'epoch': 10.263157894736842}\n",
      "{'loss': 1.6393, 'grad_norm': 1.4083654880523682, 'learning_rate': 0.004851503759398496, 'epoch': 10.300751879699249}\n",
      "{'loss': 1.4607, 'grad_norm': 0.9291531443595886, 'learning_rate': 0.0048327067669172935, 'epoch': 10.338345864661655}\n",
      "{'loss': 1.8233, 'grad_norm': 0.6054167151451111, 'learning_rate': 0.004813909774436091, 'epoch': 10.37593984962406}\n",
      "{'loss': 1.6455, 'grad_norm': 0.878883421421051, 'learning_rate': 0.004795112781954887, 'epoch': 10.413533834586467}\n",
      "{'loss': 1.5013, 'grad_norm': 1.428963541984558, 'learning_rate': 0.004776315789473684, 'epoch': 10.451127819548873}\n",
      "{'loss': 1.6389, 'grad_norm': 1.6247018575668335, 'learning_rate': 0.004757518796992481, 'epoch': 10.488721804511279}\n",
      "{'loss': 1.5345, 'grad_norm': 0.6486600041389465, 'learning_rate': 0.004738721804511278, 'epoch': 10.526315789473685}\n",
      "{'loss': 1.6729, 'grad_norm': 1.0060317516326904, 'learning_rate': 0.0047199248120300755, 'epoch': 10.563909774436091}\n",
      "{'loss': 1.5624, 'grad_norm': 1.366275668144226, 'learning_rate': 0.004701127819548872, 'epoch': 10.601503759398497}\n",
      "{'loss': 1.5759, 'grad_norm': 1.0213205814361572, 'learning_rate': 0.004682330827067669, 'epoch': 10.639097744360903}\n",
      "{'loss': 1.6005, 'grad_norm': 1.5453896522521973, 'learning_rate': 0.004663533834586466, 'epoch': 10.676691729323307}\n",
      "{'loss': 1.51, 'grad_norm': 0.6929274797439575, 'learning_rate': 0.004644736842105263, 'epoch': 10.714285714285714}\n",
      "{'loss': 1.5032, 'grad_norm': 1.013827919960022, 'learning_rate': 0.00462593984962406, 'epoch': 10.75187969924812}\n",
      "{'loss': 1.6081, 'grad_norm': 1.0610682964324951, 'learning_rate': 0.004607142857142857, 'epoch': 10.789473684210526}\n",
      "{'loss': 1.6272, 'grad_norm': 1.0752451419830322, 'learning_rate': 0.0045883458646616545, 'epoch': 10.827067669172932}\n",
      "{'loss': 1.5807, 'grad_norm': 1.310351848602295, 'learning_rate': 0.004569548872180452, 'epoch': 10.864661654135338}\n",
      "{'loss': 1.3795, 'grad_norm': 0.9738565683364868, 'learning_rate': 0.004550751879699248, 'epoch': 10.902255639097744}\n",
      "{'loss': 1.6642, 'grad_norm': 0.885303795337677, 'learning_rate': 0.004531954887218045, 'epoch': 10.93984962406015}\n",
      "{'loss': 1.464, 'grad_norm': 1.2178727388381958, 'learning_rate': 0.004513157894736842, 'epoch': 10.977443609022556}\n",
      "{'eval_loss': 1.615234375, 'eval_accuracy': 0.4093333333333333, 'eval_runtime': 13.4412, 'eval_samples_per_second': 55.799, 'eval_steps_per_second': 3.497, 'epoch': 11.0}\n"
     ]
    },
    {
     "name": "stderr",
     "output_type": "stream",
     "text": [
      "/Users/ahmedmaher/.pyenv/versions/3.11.12/lib/python3.11/site-packages/torch/utils/data/dataloader.py:683: UserWarning: 'pin_memory' argument is set as true but not supported on MPS now, then device pinned memory won't be used.\n",
      "  warnings.warn(warn_msg)\n"
     ]
    },
    {
     "name": "stdout",
     "output_type": "stream",
     "text": [
      "{'loss': 1.4558, 'grad_norm': 0.7235417366027832, 'learning_rate': 0.004494360902255639, 'epoch': 11.015037593984962}\n",
      "{'loss': 1.6946, 'grad_norm': 2.0743095874786377, 'learning_rate': 0.0044755639097744365, 'epoch': 11.052631578947368}\n",
      "{'loss': 1.5827, 'grad_norm': 1.6164934635162354, 'learning_rate': 0.004456766917293233, 'epoch': 11.090225563909774}\n",
      "{'loss': 1.5195, 'grad_norm': 0.895449161529541, 'learning_rate': 0.004437969924812031, 'epoch': 11.12781954887218}\n",
      "{'loss': 1.6078, 'grad_norm': 1.3248522281646729, 'learning_rate': 0.004419172932330827, 'epoch': 11.165413533834586}\n",
      "{'loss': 1.4826, 'grad_norm': 0.7081838250160217, 'learning_rate': 0.004400375939849624, 'epoch': 11.203007518796992}\n",
      "{'loss': 1.6435, 'grad_norm': 1.9689381122589111, 'learning_rate': 0.004381578947368421, 'epoch': 11.240601503759398}\n",
      "{'loss': 1.5162, 'grad_norm': 4.753249645233154, 'learning_rate': 0.004362781954887218, 'epoch': 11.278195488721805}\n",
      "{'loss': 1.5916, 'grad_norm': 0.6248852610588074, 'learning_rate': 0.0043439849624060155, 'epoch': 11.31578947368421}\n",
      "{'loss': 1.6249, 'grad_norm': 0.8461130857467651, 'learning_rate': 0.004325187969924812, 'epoch': 11.353383458646617}\n",
      "{'loss': 1.6929, 'grad_norm': 0.8730290532112122, 'learning_rate': 0.004306390977443609, 'epoch': 11.390977443609023}\n",
      "{'loss': 1.6161, 'grad_norm': 0.5477983951568604, 'learning_rate': 0.004287593984962406, 'epoch': 11.428571428571429}\n",
      "{'loss': 1.6037, 'grad_norm': 0.7901027798652649, 'learning_rate': 0.004268796992481203, 'epoch': 11.466165413533835}\n",
      "{'loss': 1.6459, 'grad_norm': 0.8291962146759033, 'learning_rate': 0.00425, 'epoch': 11.503759398496241}\n",
      "{'loss': 1.504, 'grad_norm': 0.9343057870864868, 'learning_rate': 0.004231203007518797, 'epoch': 11.541353383458647}\n",
      "{'loss': 1.5458, 'grad_norm': 1.394224762916565, 'learning_rate': 0.004212406015037595, 'epoch': 11.578947368421053}\n",
      "{'loss': 1.466, 'grad_norm': 1.62083101272583, 'learning_rate': 0.004193609022556391, 'epoch': 11.61654135338346}\n",
      "{'loss': 1.5663, 'grad_norm': 1.007741093635559, 'learning_rate': 0.004174812030075188, 'epoch': 11.654135338345865}\n",
      "{'loss': 1.5456, 'grad_norm': 0.7453868985176086, 'learning_rate': 0.004156015037593985, 'epoch': 11.691729323308271}\n",
      "{'loss': 1.5329, 'grad_norm': 1.4277606010437012, 'learning_rate': 0.004137218045112782, 'epoch': 11.729323308270677}\n",
      "{'loss': 1.5472, 'grad_norm': 0.9202641844749451, 'learning_rate': 0.004118421052631579, 'epoch': 11.766917293233083}\n",
      "{'loss': 1.5272, 'grad_norm': 1.2574937343597412, 'learning_rate': 0.004099624060150376, 'epoch': 11.80451127819549}\n",
      "{'loss': 1.4662, 'grad_norm': 1.01661217212677, 'learning_rate': 0.004080827067669173, 'epoch': 11.842105263157894}\n",
      "{'loss': 1.4877, 'grad_norm': 0.8173556327819824, 'learning_rate': 0.00406203007518797, 'epoch': 11.8796992481203}\n",
      "{'loss': 1.5, 'grad_norm': 1.0665982961654663, 'learning_rate': 0.004043233082706767, 'epoch': 11.917293233082706}\n",
      "{'loss': 1.5514, 'grad_norm': 0.8269222974777222, 'learning_rate': 0.004024436090225564, 'epoch': 11.954887218045112}\n",
      "{'loss': 1.5708, 'grad_norm': 1.9236491918563843, 'learning_rate': 0.00400563909774436, 'epoch': 11.992481203007518}\n",
      "{'eval_loss': 1.5481125116348267, 'eval_accuracy': 0.46, 'eval_runtime': 9.6492, 'eval_samples_per_second': 77.726, 'eval_steps_per_second': 4.871, 'epoch': 12.0}\n"
     ]
    },
    {
     "name": "stderr",
     "output_type": "stream",
     "text": [
      "/Users/ahmedmaher/.pyenv/versions/3.11.12/lib/python3.11/site-packages/torch/utils/data/dataloader.py:683: UserWarning: 'pin_memory' argument is set as true but not supported on MPS now, then device pinned memory won't be used.\n",
      "  warnings.warn(warn_msg)\n"
     ]
    },
    {
     "name": "stdout",
     "output_type": "stream",
     "text": [
      "{'loss': 1.5583, 'grad_norm': 0.859683096408844, 'learning_rate': 0.003986842105263158, 'epoch': 12.030075187969924}\n",
      "{'loss': 1.5166, 'grad_norm': 1.4703599214553833, 'learning_rate': 0.003968045112781955, 'epoch': 12.06766917293233}\n",
      "{'loss': 1.4567, 'grad_norm': 0.6072876453399658, 'learning_rate': 0.003949248120300752, 'epoch': 12.105263157894736}\n",
      "{'loss': 1.6437, 'grad_norm': 1.1065481901168823, 'learning_rate': 0.003930451127819549, 'epoch': 12.142857142857142}\n",
      "{'loss': 1.5037, 'grad_norm': 0.4472850263118744, 'learning_rate': 0.003911654135338346, 'epoch': 12.180451127819548}\n",
      "{'loss': 1.5668, 'grad_norm': 0.8026436567306519, 'learning_rate': 0.003892857142857143, 'epoch': 12.218045112781954}\n",
      "{'loss': 1.527, 'grad_norm': 0.890259861946106, 'learning_rate': 0.00387406015037594, 'epoch': 12.25563909774436}\n",
      "{'loss': 1.4425, 'grad_norm': 1.0337539911270142, 'learning_rate': 0.0038552631578947366, 'epoch': 12.293233082706767}\n",
      "{'loss': 1.5442, 'grad_norm': 1.0230278968811035, 'learning_rate': 0.003836466165413534, 'epoch': 12.330827067669173}\n",
      "{'loss': 1.5396, 'grad_norm': 1.2734227180480957, 'learning_rate': 0.003817669172932331, 'epoch': 12.368421052631579}\n",
      "{'loss': 1.5559, 'grad_norm': 1.0647255182266235, 'learning_rate': 0.003798872180451128, 'epoch': 12.406015037593985}\n",
      "{'loss': 1.5516, 'grad_norm': 1.1379626989364624, 'learning_rate': 0.0037800751879699247, 'epoch': 12.443609022556391}\n",
      "{'loss': 1.4767, 'grad_norm': 1.366108775138855, 'learning_rate': 0.0037612781954887223, 'epoch': 12.481203007518797}\n",
      "{'loss': 1.585, 'grad_norm': 1.9004230499267578, 'learning_rate': 0.003742481203007519, 'epoch': 12.518796992481203}\n",
      "{'loss': 1.5973, 'grad_norm': 1.1594700813293457, 'learning_rate': 0.0037236842105263157, 'epoch': 12.556390977443609}\n",
      "{'loss': 1.6158, 'grad_norm': 2.4208548069000244, 'learning_rate': 0.003704887218045113, 'epoch': 12.593984962406015}\n",
      "{'loss': 1.5968, 'grad_norm': 1.0886820554733276, 'learning_rate': 0.00368609022556391, 'epoch': 12.631578947368421}\n",
      "{'loss': 1.4938, 'grad_norm': 0.8400486707687378, 'learning_rate': 0.003667293233082707, 'epoch': 12.669172932330827}\n",
      "{'loss': 1.5738, 'grad_norm': 0.6806045174598694, 'learning_rate': 0.0036484962406015038, 'epoch': 12.706766917293233}\n",
      "{'loss': 1.7159, 'grad_norm': 6.188263893127441, 'learning_rate': 0.0036296992481203005, 'epoch': 12.74436090225564}\n",
      "{'loss': 1.4806, 'grad_norm': 0.9421392679214478, 'learning_rate': 0.003610902255639098, 'epoch': 12.781954887218046}\n",
      "{'loss': 1.4189, 'grad_norm': 1.8817418813705444, 'learning_rate': 0.0035921052631578947, 'epoch': 12.819548872180452}\n",
      "{'loss': 1.4694, 'grad_norm': 0.9699685573577881, 'learning_rate': 0.003573308270676692, 'epoch': 12.857142857142858}\n",
      "{'loss': 1.5019, 'grad_norm': 0.9539781212806702, 'learning_rate': 0.0035545112781954886, 'epoch': 12.894736842105264}\n",
      "{'loss': 1.634, 'grad_norm': 0.8370164632797241, 'learning_rate': 0.003535714285714286, 'epoch': 12.93233082706767}\n",
      "{'loss': 1.5112, 'grad_norm': 0.8660544753074646, 'learning_rate': 0.003516917293233083, 'epoch': 12.969924812030076}\n",
      "{'eval_loss': 1.58375883102417, 'eval_accuracy': 0.388, 'eval_runtime': 9.793, 'eval_samples_per_second': 76.585, 'eval_steps_per_second': 4.799, 'epoch': 13.0}\n"
     ]
    },
    {
     "name": "stderr",
     "output_type": "stream",
     "text": [
      "/Users/ahmedmaher/.pyenv/versions/3.11.12/lib/python3.11/site-packages/torch/utils/data/dataloader.py:683: UserWarning: 'pin_memory' argument is set as true but not supported on MPS now, then device pinned memory won't be used.\n",
      "  warnings.warn(warn_msg)\n"
     ]
    },
    {
     "name": "stdout",
     "output_type": "stream",
     "text": [
      "{'loss': 1.5214, 'grad_norm': 1.943230390548706, 'learning_rate': 0.0034981203007518795, 'epoch': 13.007518796992482}\n",
      "{'loss': 1.6566, 'grad_norm': 1.4369864463806152, 'learning_rate': 0.0034793233082706767, 'epoch': 13.045112781954888}\n",
      "{'loss': 1.5877, 'grad_norm': 1.0048954486846924, 'learning_rate': 0.003460526315789474, 'epoch': 13.082706766917294}\n",
      "{'loss': 1.5247, 'grad_norm': 0.8721230030059814, 'learning_rate': 0.003441729323308271, 'epoch': 13.1203007518797}\n",
      "{'loss': 1.4576, 'grad_norm': 0.9001882672309875, 'learning_rate': 0.0034229323308270676, 'epoch': 13.157894736842104}\n",
      "{'loss': 1.6306, 'grad_norm': 0.9762457013130188, 'learning_rate': 0.0034041353383458643, 'epoch': 13.19548872180451}\n",
      "{'loss': 1.5166, 'grad_norm': 0.7173739671707153, 'learning_rate': 0.003385338345864662, 'epoch': 13.233082706766917}\n",
      "{'loss': 1.5878, 'grad_norm': 0.7020463943481445, 'learning_rate': 0.0033665413533834586, 'epoch': 13.270676691729323}\n",
      "{'loss': 1.6482, 'grad_norm': 1.858779788017273, 'learning_rate': 0.0033477443609022557, 'epoch': 13.308270676691729}\n",
      "{'loss': 1.5447, 'grad_norm': 0.9286363124847412, 'learning_rate': 0.0033289473684210524, 'epoch': 13.345864661654135}\n",
      "{'loss': 1.5402, 'grad_norm': 0.688183069229126, 'learning_rate': 0.00331015037593985, 'epoch': 13.38345864661654}\n",
      "{'loss': 1.5411, 'grad_norm': 0.845605731010437, 'learning_rate': 0.0032913533834586467, 'epoch': 13.421052631578947}\n",
      "{'loss': 1.6002, 'grad_norm': 0.7017595767974854, 'learning_rate': 0.003272556390977444, 'epoch': 13.458646616541353}\n",
      "{'loss': 1.552, 'grad_norm': 1.5772229433059692, 'learning_rate': 0.0032537593984962405, 'epoch': 13.496240601503759}\n",
      "{'loss': 1.4839, 'grad_norm': 0.8528943061828613, 'learning_rate': 0.003234962406015038, 'epoch': 13.533834586466165}\n",
      "{'loss': 1.556, 'grad_norm': 1.0142189264297485, 'learning_rate': 0.0032161654135338348, 'epoch': 13.571428571428571}\n",
      "{'loss': 1.4731, 'grad_norm': 1.6662472486495972, 'learning_rate': 0.0031973684210526315, 'epoch': 13.609022556390977}\n",
      "{'loss': 1.591, 'grad_norm': 0.9725651144981384, 'learning_rate': 0.0031785714285714286, 'epoch': 13.646616541353383}\n",
      "{'loss': 1.4556, 'grad_norm': 1.503288984298706, 'learning_rate': 0.0031597744360902257, 'epoch': 13.68421052631579}\n",
      "{'loss': 1.5653, 'grad_norm': 0.8358666896820068, 'learning_rate': 0.003140977443609023, 'epoch': 13.721804511278195}\n",
      "{'loss': 1.5007, 'grad_norm': 1.022220492362976, 'learning_rate': 0.0031221804511278196, 'epoch': 13.759398496240602}\n",
      "{'loss': 1.5931, 'grad_norm': 0.7588926553726196, 'learning_rate': 0.0031033834586466163, 'epoch': 13.796992481203008}\n",
      "{'loss': 1.4972, 'grad_norm': 0.8358222246170044, 'learning_rate': 0.003084586466165414, 'epoch': 13.834586466165414}\n",
      "{'loss': 1.529, 'grad_norm': 1.2121105194091797, 'learning_rate': 0.0030657894736842105, 'epoch': 13.87218045112782}\n",
      "{'loss': 1.5208, 'grad_norm': 1.2483195066452026, 'learning_rate': 0.0030469924812030077, 'epoch': 13.909774436090226}\n",
      "{'loss': 1.5006, 'grad_norm': 0.8626999855041504, 'learning_rate': 0.0030281954887218044, 'epoch': 13.947368421052632}\n",
      "{'loss': 1.5341, 'grad_norm': 1.567440390586853, 'learning_rate': 0.003009398496240602, 'epoch': 13.984962406015038}\n",
      "{'eval_loss': 1.4866344928741455, 'eval_accuracy': 0.46266666666666667, 'eval_runtime': 9.7928, 'eval_samples_per_second': 76.587, 'eval_steps_per_second': 4.799, 'epoch': 14.0}\n"
     ]
    },
    {
     "name": "stderr",
     "output_type": "stream",
     "text": [
      "/Users/ahmedmaher/.pyenv/versions/3.11.12/lib/python3.11/site-packages/torch/utils/data/dataloader.py:683: UserWarning: 'pin_memory' argument is set as true but not supported on MPS now, then device pinned memory won't be used.\n",
      "  warnings.warn(warn_msg)\n"
     ]
    },
    {
     "name": "stdout",
     "output_type": "stream",
     "text": [
      "{'loss': 1.4931, 'grad_norm': 0.8064534664154053, 'learning_rate': 0.0029906015037593986, 'epoch': 14.022556390977444}\n",
      "{'loss': 1.4579, 'grad_norm': 0.9450213313102722, 'learning_rate': 0.0029718045112781953, 'epoch': 14.06015037593985}\n",
      "{'loss': 1.5798, 'grad_norm': 1.6664081811904907, 'learning_rate': 0.0029530075187969925, 'epoch': 14.097744360902256}\n",
      "{'loss': 1.6301, 'grad_norm': 0.8617075681686401, 'learning_rate': 0.0029342105263157896, 'epoch': 14.135338345864662}\n",
      "{'loss': 1.491, 'grad_norm': 0.7524989247322083, 'learning_rate': 0.0029154135338345867, 'epoch': 14.172932330827068}\n",
      "{'loss': 1.4836, 'grad_norm': 1.1826664209365845, 'learning_rate': 0.0028966165413533834, 'epoch': 14.210526315789474}\n",
      "{'loss': 1.5523, 'grad_norm': 1.0298361778259277, 'learning_rate': 0.00287781954887218, 'epoch': 14.24812030075188}\n",
      "{'loss': 1.5673, 'grad_norm': 0.7812183499336243, 'learning_rate': 0.0028590225563909777, 'epoch': 14.285714285714286}\n",
      "{'loss': 1.4563, 'grad_norm': 0.8841173052787781, 'learning_rate': 0.0028402255639097744, 'epoch': 14.323308270676693}\n",
      "{'loss': 1.5644, 'grad_norm': 0.7032623291015625, 'learning_rate': 0.0028214285714285715, 'epoch': 14.360902255639097}\n",
      "{'loss': 1.4886, 'grad_norm': 1.2036138772964478, 'learning_rate': 0.0028026315789473682, 'epoch': 14.398496240601503}\n",
      "{'loss': 1.5492, 'grad_norm': 0.5697618722915649, 'learning_rate': 0.0027838345864661658, 'epoch': 14.436090225563909}\n",
      "{'loss': 1.4802, 'grad_norm': 0.9789090752601624, 'learning_rate': 0.0027650375939849625, 'epoch': 14.473684210526315}\n",
      "{'loss': 1.6215, 'grad_norm': 1.0879842042922974, 'learning_rate': 0.0027462406015037596, 'epoch': 14.511278195488721}\n",
      "{'loss': 1.4787, 'grad_norm': 0.736316978931427, 'learning_rate': 0.0027274436090225563, 'epoch': 14.548872180451127}\n",
      "{'loss': 1.4523, 'grad_norm': 1.0567281246185303, 'learning_rate': 0.002708646616541354, 'epoch': 14.586466165413533}\n",
      "{'loss': 1.4955, 'grad_norm': 0.9625409841537476, 'learning_rate': 0.0026898496240601506, 'epoch': 14.62406015037594}\n",
      "{'loss': 1.4302, 'grad_norm': 0.8980473875999451, 'learning_rate': 0.0026710526315789473, 'epoch': 14.661654135338345}\n",
      "{'loss': 1.5788, 'grad_norm': 1.1423540115356445, 'learning_rate': 0.0026522556390977444, 'epoch': 14.699248120300751}\n",
      "{'loss': 1.5331, 'grad_norm': 1.1325290203094482, 'learning_rate': 0.0026334586466165415, 'epoch': 14.736842105263158}\n",
      "{'loss': 1.5777, 'grad_norm': 1.2485629320144653, 'learning_rate': 0.0026146616541353387, 'epoch': 14.774436090225564}\n",
      "{'loss': 1.5377, 'grad_norm': 0.8590211868286133, 'learning_rate': 0.0025958646616541354, 'epoch': 14.81203007518797}\n",
      "{'loss': 1.5495, 'grad_norm': 0.9625048637390137, 'learning_rate': 0.002577067669172932, 'epoch': 14.849624060150376}\n",
      "{'loss': 1.5811, 'grad_norm': 0.7836674451828003, 'learning_rate': 0.0025582706766917296, 'epoch': 14.887218045112782}\n",
      "{'loss': 1.5738, 'grad_norm': 1.1818534135818481, 'learning_rate': 0.0025394736842105263, 'epoch': 14.924812030075188}\n",
      "{'loss': 1.5145, 'grad_norm': 0.9817506074905396, 'learning_rate': 0.0025206766917293235, 'epoch': 14.962406015037594}\n",
      "{'loss': 1.5549, 'grad_norm': 1.0392792224884033, 'learning_rate': 0.00250187969924812, 'epoch': 15.0}\n",
      "{'eval_loss': 1.4908628463745117, 'eval_accuracy': 0.43466666666666665, 'eval_runtime': 9.5454, 'eval_samples_per_second': 78.572, 'eval_steps_per_second': 4.924, 'epoch': 15.0}\n"
     ]
    },
    {
     "name": "stderr",
     "output_type": "stream",
     "text": [
      "/Users/ahmedmaher/.pyenv/versions/3.11.12/lib/python3.11/site-packages/torch/utils/data/dataloader.py:683: UserWarning: 'pin_memory' argument is set as true but not supported on MPS now, then device pinned memory won't be used.\n",
      "  warnings.warn(warn_msg)\n"
     ]
    },
    {
     "name": "stdout",
     "output_type": "stream",
     "text": [
      "{'loss': 1.393, 'grad_norm': 0.9898433685302734, 'learning_rate': 0.0024830827067669173, 'epoch': 15.037593984962406}\n",
      "{'loss': 1.5066, 'grad_norm': 1.2733327150344849, 'learning_rate': 0.0024642857142857144, 'epoch': 15.075187969924812}\n",
      "{'loss': 1.4835, 'grad_norm': 1.7293741703033447, 'learning_rate': 0.002445488721804511, 'epoch': 15.112781954887218}\n",
      "{'loss': 1.6128, 'grad_norm': 1.055977463722229, 'learning_rate': 0.0024266917293233083, 'epoch': 15.150375939849624}\n",
      "{'loss': 1.5273, 'grad_norm': 1.3031352758407593, 'learning_rate': 0.0024078947368421054, 'epoch': 15.18796992481203}\n",
      "{'loss': 1.4376, 'grad_norm': 1.1718082427978516, 'learning_rate': 0.0023890977443609025, 'epoch': 15.225563909774436}\n",
      "{'loss': 1.5239, 'grad_norm': 1.0649309158325195, 'learning_rate': 0.0023703007518796992, 'epoch': 15.263157894736842}\n",
      "{'loss': 1.6614, 'grad_norm': 1.1649326086044312, 'learning_rate': 0.0023515037593984964, 'epoch': 15.300751879699249}\n",
      "{'loss': 1.4149, 'grad_norm': 1.3944594860076904, 'learning_rate': 0.0023327067669172935, 'epoch': 15.338345864661655}\n",
      "{'loss': 1.6451, 'grad_norm': 1.1101328134536743, 'learning_rate': 0.0023139097744360906, 'epoch': 15.37593984962406}\n",
      "{'loss': 1.5787, 'grad_norm': 0.5988363027572632, 'learning_rate': 0.0022951127819548873, 'epoch': 15.413533834586467}\n",
      "{'loss': 1.4756, 'grad_norm': 1.3105206489562988, 'learning_rate': 0.0022763157894736845, 'epoch': 15.451127819548873}\n",
      "{'loss': 1.4791, 'grad_norm': 1.2427350282669067, 'learning_rate': 0.002257518796992481, 'epoch': 15.488721804511279}\n",
      "{'loss': 1.4306, 'grad_norm': 0.7428498864173889, 'learning_rate': 0.0022387218045112783, 'epoch': 15.526315789473685}\n",
      "{'loss': 1.6205, 'grad_norm': 0.9498000144958496, 'learning_rate': 0.0022199248120300754, 'epoch': 15.563909774436091}\n",
      "{'loss': 1.418, 'grad_norm': 0.8498863577842712, 'learning_rate': 0.002201127819548872, 'epoch': 15.601503759398497}\n",
      "{'loss': 1.5346, 'grad_norm': 1.2172014713287354, 'learning_rate': 0.0021823308270676692, 'epoch': 15.639097744360903}\n",
      "{'loss': 1.3905, 'grad_norm': 0.711190938949585, 'learning_rate': 0.002163533834586466, 'epoch': 15.676691729323307}\n",
      "{'loss': 1.4451, 'grad_norm': 0.7532644271850586, 'learning_rate': 0.002144736842105263, 'epoch': 15.714285714285714}\n",
      "{'loss': 1.4592, 'grad_norm': 0.8876100182533264, 'learning_rate': 0.00212593984962406, 'epoch': 15.75187969924812}\n",
      "{'loss': 1.5234, 'grad_norm': 0.9383443593978882, 'learning_rate': 0.0021071428571428573, 'epoch': 15.789473684210526}\n",
      "{'loss': 1.5882, 'grad_norm': 0.8602710962295532, 'learning_rate': 0.002088345864661654, 'epoch': 15.827067669172932}\n",
      "{'loss': 1.5002, 'grad_norm': 1.3169723749160767, 'learning_rate': 0.002069548872180451, 'epoch': 15.864661654135338}\n",
      "{'loss': 1.4399, 'grad_norm': 2.6370534896850586, 'learning_rate': 0.002050751879699248, 'epoch': 15.902255639097744}\n",
      "{'loss': 1.5273, 'grad_norm': 0.9394092559814453, 'learning_rate': 0.002031954887218045, 'epoch': 15.93984962406015}\n",
      "{'loss': 1.4712, 'grad_norm': 1.1244944334030151, 'learning_rate': 0.002013157894736842, 'epoch': 15.977443609022556}\n",
      "{'eval_loss': 1.4457406997680664, 'eval_accuracy': 0.4706666666666667, 'eval_runtime': 9.9538, 'eval_samples_per_second': 75.348, 'eval_steps_per_second': 4.722, 'epoch': 16.0}\n"
     ]
    },
    {
     "name": "stderr",
     "output_type": "stream",
     "text": [
      "/Users/ahmedmaher/.pyenv/versions/3.11.12/lib/python3.11/site-packages/torch/utils/data/dataloader.py:683: UserWarning: 'pin_memory' argument is set as true but not supported on MPS now, then device pinned memory won't be used.\n",
      "  warnings.warn(warn_msg)\n"
     ]
    },
    {
     "name": "stdout",
     "output_type": "stream",
     "text": [
      "{'loss': 1.6213, 'grad_norm': 0.9446131587028503, 'learning_rate': 0.0019943609022556393, 'epoch': 16.015037593984964}\n",
      "{'loss': 1.442, 'grad_norm': 0.9047793745994568, 'learning_rate': 0.001975563909774436, 'epoch': 16.05263157894737}\n",
      "{'loss': 1.5673, 'grad_norm': 1.331478476524353, 'learning_rate': 0.001956766917293233, 'epoch': 16.090225563909776}\n",
      "{'loss': 1.4946, 'grad_norm': 0.6100550889968872, 'learning_rate': 0.00193796992481203, 'epoch': 16.127819548872182}\n",
      "{'loss': 1.5187, 'grad_norm': 0.8356459140777588, 'learning_rate': 0.0019191729323308271, 'epoch': 16.165413533834588}\n",
      "{'loss': 1.476, 'grad_norm': 0.7719528675079346, 'learning_rate': 0.001900375939849624, 'epoch': 16.203007518796994}\n",
      "{'loss': 1.4866, 'grad_norm': 0.9109671711921692, 'learning_rate': 0.0018815789473684212, 'epoch': 16.2406015037594}\n",
      "{'loss': 1.4511, 'grad_norm': 2.049787998199463, 'learning_rate': 0.001862781954887218, 'epoch': 16.278195488721803}\n",
      "{'loss': 1.4026, 'grad_norm': 1.2887451648712158, 'learning_rate': 0.001843984962406015, 'epoch': 16.31578947368421}\n",
      "{'loss': 1.3475, 'grad_norm': 1.003161072731018, 'learning_rate': 0.001825187969924812, 'epoch': 16.353383458646615}\n",
      "{'loss': 1.3832, 'grad_norm': 1.135188102722168, 'learning_rate': 0.001806390977443609, 'epoch': 16.39097744360902}\n",
      "{'loss': 1.614, 'grad_norm': 1.3728975057601929, 'learning_rate': 0.001787593984962406, 'epoch': 16.428571428571427}\n",
      "{'loss': 1.3293, 'grad_norm': 7.053516387939453, 'learning_rate': 0.0017687969924812031, 'epoch': 16.466165413533833}\n",
      "{'loss': 1.4451, 'grad_norm': 1.56589937210083, 'learning_rate': 0.0017499999999999998, 'epoch': 16.50375939849624}\n",
      "{'loss': 1.3743, 'grad_norm': 1.3193455934524536, 'learning_rate': 0.001731203007518797, 'epoch': 16.541353383458645}\n",
      "{'loss': 1.3974, 'grad_norm': 1.3342419862747192, 'learning_rate': 0.0017124060150375939, 'epoch': 16.57894736842105}\n",
      "{'loss': 1.4675, 'grad_norm': 5.804737567901611, 'learning_rate': 0.001693609022556391, 'epoch': 16.616541353383457}\n",
      "{'loss': 1.3506, 'grad_norm': 1.106825590133667, 'learning_rate': 0.001674812030075188, 'epoch': 16.654135338345863}\n",
      "{'loss': 1.5602, 'grad_norm': 1.1803157329559326, 'learning_rate': 0.001656015037593985, 'epoch': 16.69172932330827}\n",
      "{'loss': 1.5821, 'grad_norm': 1.254011631011963, 'learning_rate': 0.001637218045112782, 'epoch': 16.729323308270676}\n",
      "{'loss': 1.5586, 'grad_norm': 1.090512752532959, 'learning_rate': 0.001618421052631579, 'epoch': 16.76691729323308}\n",
      "{'loss': 1.5015, 'grad_norm': 1.8756240606307983, 'learning_rate': 0.0015996240601503758, 'epoch': 16.804511278195488}\n",
      "{'loss': 1.478, 'grad_norm': 1.1297136545181274, 'learning_rate': 0.001580827067669173, 'epoch': 16.842105263157894}\n",
      "{'loss': 1.4121, 'grad_norm': 1.1494284868240356, 'learning_rate': 0.0015620300751879698, 'epoch': 16.8796992481203}\n",
      "{'loss': 1.6268, 'grad_norm': 1.466017246246338, 'learning_rate': 0.001543233082706767, 'epoch': 16.917293233082706}\n",
      "{'loss': 1.5381, 'grad_norm': 3.700770378112793, 'learning_rate': 0.0015244360902255639, 'epoch': 16.954887218045112}\n",
      "{'loss': 1.5404, 'grad_norm': 1.6352043151855469, 'learning_rate': 0.001505639097744361, 'epoch': 16.992481203007518}\n",
      "{'eval_loss': 1.4442765712738037, 'eval_accuracy': 0.476, 'eval_runtime': 9.6722, 'eval_samples_per_second': 77.542, 'eval_steps_per_second': 4.859, 'epoch': 17.0}\n"
     ]
    },
    {
     "name": "stderr",
     "output_type": "stream",
     "text": [
      "/Users/ahmedmaher/.pyenv/versions/3.11.12/lib/python3.11/site-packages/torch/utils/data/dataloader.py:683: UserWarning: 'pin_memory' argument is set as true but not supported on MPS now, then device pinned memory won't be used.\n",
      "  warnings.warn(warn_msg)\n"
     ]
    },
    {
     "name": "stdout",
     "output_type": "stream",
     "text": [
      "{'loss': 1.4646, 'grad_norm': 3.9347639083862305, 'learning_rate': 0.001486842105263158, 'epoch': 17.030075187969924}\n",
      "{'loss': 1.492, 'grad_norm': 1.70045804977417, 'learning_rate': 0.001468045112781955, 'epoch': 17.06766917293233}\n",
      "{'loss': 1.5154, 'grad_norm': 0.7779719233512878, 'learning_rate': 0.0014492481203007518, 'epoch': 17.105263157894736}\n",
      "{'loss': 1.4069, 'grad_norm': 0.8312972784042358, 'learning_rate': 0.001430451127819549, 'epoch': 17.142857142857142}\n",
      "{'loss': 1.5574, 'grad_norm': 1.0237219333648682, 'learning_rate': 0.0014116541353383458, 'epoch': 17.18045112781955}\n",
      "{'loss': 1.5079, 'grad_norm': 0.8896161913871765, 'learning_rate': 0.001392857142857143, 'epoch': 17.218045112781954}\n",
      "{'loss': 1.426, 'grad_norm': 0.8091765642166138, 'learning_rate': 0.0013740601503759399, 'epoch': 17.25563909774436}\n",
      "{'loss': 1.5125, 'grad_norm': 0.7037012577056885, 'learning_rate': 0.001355263157894737, 'epoch': 17.293233082706767}\n",
      "{'loss': 1.4455, 'grad_norm': 0.954083263874054, 'learning_rate': 0.0013364661654135337, 'epoch': 17.330827067669173}\n",
      "{'loss': 1.4542, 'grad_norm': 1.2671047449111938, 'learning_rate': 0.0013176691729323308, 'epoch': 17.36842105263158}\n",
      "{'loss': 1.5979, 'grad_norm': 1.1356812715530396, 'learning_rate': 0.0012988721804511277, 'epoch': 17.406015037593985}\n",
      "{'loss': 1.5287, 'grad_norm': 0.8414402604103088, 'learning_rate': 0.0012800751879699249, 'epoch': 17.44360902255639}\n",
      "{'loss': 1.4822, 'grad_norm': 1.9504913091659546, 'learning_rate': 0.0012612781954887218, 'epoch': 17.481203007518797}\n",
      "{'loss': 1.4039, 'grad_norm': 1.0354835987091064, 'learning_rate': 0.001242481203007519, 'epoch': 17.518796992481203}\n",
      "{'loss': 1.5156, 'grad_norm': 1.1512198448181152, 'learning_rate': 0.0012236842105263158, 'epoch': 17.55639097744361}\n",
      "{'loss': 1.4567, 'grad_norm': 0.8039723634719849, 'learning_rate': 0.001204887218045113, 'epoch': 17.593984962406015}\n",
      "{'loss': 1.3643, 'grad_norm': 0.9411770701408386, 'learning_rate': 0.0011860902255639099, 'epoch': 17.63157894736842}\n",
      "{'loss': 1.5117, 'grad_norm': 1.112931728363037, 'learning_rate': 0.0011672932330827068, 'epoch': 17.669172932330827}\n",
      "{'loss': 1.4022, 'grad_norm': 0.8285688757896423, 'learning_rate': 0.001148496240601504, 'epoch': 17.706766917293233}\n",
      "{'loss': 1.4892, 'grad_norm': 2.7723822593688965, 'learning_rate': 0.0011296992481203008, 'epoch': 17.74436090225564}\n",
      "{'loss': 1.4408, 'grad_norm': 1.9742119312286377, 'learning_rate': 0.0011109022556390978, 'epoch': 17.781954887218046}\n",
      "{'loss': 1.4739, 'grad_norm': 3.388113021850586, 'learning_rate': 0.001092105263157895, 'epoch': 17.81954887218045}\n",
      "{'loss': 1.4652, 'grad_norm': 0.8701004981994629, 'learning_rate': 0.0010733082706766918, 'epoch': 17.857142857142858}\n",
      "{'loss': 1.4226, 'grad_norm': 1.519662857055664, 'learning_rate': 0.0010545112781954887, 'epoch': 17.894736842105264}\n",
      "{'loss': 1.4647, 'grad_norm': 61.366634368896484, 'learning_rate': 0.0010357142857142859, 'epoch': 17.93233082706767}\n",
      "{'loss': 1.4985, 'grad_norm': 1.1657739877700806, 'learning_rate': 0.0010169172932330828, 'epoch': 17.969924812030076}\n",
      "{'eval_loss': 1.4627864360809326, 'eval_accuracy': 0.448, 'eval_runtime': 9.6327, 'eval_samples_per_second': 77.86, 'eval_steps_per_second': 4.879, 'epoch': 18.0}\n"
     ]
    },
    {
     "name": "stderr",
     "output_type": "stream",
     "text": [
      "/Users/ahmedmaher/.pyenv/versions/3.11.12/lib/python3.11/site-packages/torch/utils/data/dataloader.py:683: UserWarning: 'pin_memory' argument is set as true but not supported on MPS now, then device pinned memory won't be used.\n",
      "  warnings.warn(warn_msg)\n"
     ]
    },
    {
     "name": "stdout",
     "output_type": "stream",
     "text": [
      "{'loss': 1.4072, 'grad_norm': 0.9435099363327026, 'learning_rate': 0.0009981203007518797, 'epoch': 18.007518796992482}\n",
      "{'loss': 1.5321, 'grad_norm': 0.7994762659072876, 'learning_rate': 0.0009793233082706766, 'epoch': 18.045112781954888}\n",
      "{'loss': 1.5314, 'grad_norm': 0.6893203854560852, 'learning_rate': 0.0009605263157894736, 'epoch': 18.082706766917294}\n",
      "{'loss': 1.3416, 'grad_norm': 1.2285258769989014, 'learning_rate': 0.0009417293233082707, 'epoch': 18.1203007518797}\n",
      "{'loss': 1.5722, 'grad_norm': 0.84882652759552, 'learning_rate': 0.0009229323308270676, 'epoch': 18.157894736842106}\n",
      "{'loss': 1.5146, 'grad_norm': 1.139862060546875, 'learning_rate': 0.0009041353383458646, 'epoch': 18.195488721804512}\n",
      "{'loss': 1.4878, 'grad_norm': 0.9175910949707031, 'learning_rate': 0.0008853383458646616, 'epoch': 18.23308270676692}\n",
      "{'loss': 1.3958, 'grad_norm': 1.3214141130447388, 'learning_rate': 0.0008665413533834586, 'epoch': 18.270676691729324}\n",
      "{'loss': 1.5853, 'grad_norm': 1.2581876516342163, 'learning_rate': 0.0008477443609022556, 'epoch': 18.30827067669173}\n",
      "{'loss': 1.5138, 'grad_norm': 0.9856473207473755, 'learning_rate': 0.0008289473684210526, 'epoch': 18.345864661654137}\n",
      "{'loss': 1.4158, 'grad_norm': 1.872726559638977, 'learning_rate': 0.0008101503759398496, 'epoch': 18.383458646616543}\n",
      "{'loss': 1.4189, 'grad_norm': 0.6871426105499268, 'learning_rate': 0.0007913533834586466, 'epoch': 18.42105263157895}\n",
      "{'loss': 1.4051, 'grad_norm': 6.4700517654418945, 'learning_rate': 0.0007725563909774435, 'epoch': 18.458646616541355}\n",
      "{'loss': 1.4999, 'grad_norm': 0.8687430024147034, 'learning_rate': 0.0007537593984962406, 'epoch': 18.49624060150376}\n",
      "{'loss': 1.4363, 'grad_norm': 0.9687762260437012, 'learning_rate': 0.0007349624060150376, 'epoch': 18.533834586466167}\n",
      "{'loss': 1.3013, 'grad_norm': 0.7995777130126953, 'learning_rate': 0.0007161654135338345, 'epoch': 18.571428571428573}\n",
      "{'loss': 1.4754, 'grad_norm': 0.7584407329559326, 'learning_rate': 0.0006973684210526315, 'epoch': 18.60902255639098}\n",
      "{'loss': 1.336, 'grad_norm': 0.8915578126907349, 'learning_rate': 0.0006785714285714286, 'epoch': 18.646616541353385}\n",
      "{'loss': 1.4748, 'grad_norm': 1.8741000890731812, 'learning_rate': 0.0006597744360902256, 'epoch': 18.68421052631579}\n",
      "{'loss': 1.4156, 'grad_norm': 2.091729164123535, 'learning_rate': 0.0006409774436090225, 'epoch': 18.721804511278194}\n",
      "{'loss': 1.5364, 'grad_norm': 1.1559213399887085, 'learning_rate': 0.0006221804511278196, 'epoch': 18.7593984962406}\n",
      "{'loss': 1.4982, 'grad_norm': 1.4687178134918213, 'learning_rate': 0.0006033834586466165, 'epoch': 18.796992481203006}\n",
      "{'loss': 1.371, 'grad_norm': 1.03853440284729, 'learning_rate': 0.0005845864661654136, 'epoch': 18.834586466165412}\n",
      "{'loss': 1.3397, 'grad_norm': 1.9017841815948486, 'learning_rate': 0.0005657894736842106, 'epoch': 18.872180451127818}\n",
      "{'loss': 1.4061, 'grad_norm': 0.7228668928146362, 'learning_rate': 0.0005469924812030075, 'epoch': 18.909774436090224}\n",
      "{'loss': 1.4145, 'grad_norm': 1.9867247343063354, 'learning_rate': 0.0005281954887218045, 'epoch': 18.94736842105263}\n",
      "{'loss': 1.4373, 'grad_norm': 3.034170389175415, 'learning_rate': 0.0005093984962406016, 'epoch': 18.984962406015036}\n",
      "{'eval_loss': 1.3977141380310059, 'eval_accuracy': 0.48933333333333334, 'eval_runtime': 9.6698, 'eval_samples_per_second': 77.561, 'eval_steps_per_second': 4.861, 'epoch': 19.0}\n"
     ]
    },
    {
     "name": "stderr",
     "output_type": "stream",
     "text": [
      "/Users/ahmedmaher/.pyenv/versions/3.11.12/lib/python3.11/site-packages/torch/utils/data/dataloader.py:683: UserWarning: 'pin_memory' argument is set as true but not supported on MPS now, then device pinned memory won't be used.\n",
      "  warnings.warn(warn_msg)\n"
     ]
    },
    {
     "name": "stdout",
     "output_type": "stream",
     "text": [
      "{'loss': 1.5109, 'grad_norm': 3.674574851989746, 'learning_rate': 0.0004906015037593986, 'epoch': 19.022556390977442}\n",
      "{'loss': 1.4587, 'grad_norm': 0.7544513940811157, 'learning_rate': 0.00047180451127819555, 'epoch': 19.06015037593985}\n",
      "{'loss': 1.4073, 'grad_norm': 1.006731629371643, 'learning_rate': 0.0004530075187969925, 'epoch': 19.097744360902254}\n",
      "{'loss': 1.3944, 'grad_norm': 1.30697762966156, 'learning_rate': 0.00043421052631578954, 'epoch': 19.13533834586466}\n",
      "{'loss': 1.5146, 'grad_norm': 1.0449272394180298, 'learning_rate': 0.0004154135338345865, 'epoch': 19.172932330827066}\n",
      "{'loss': 1.4788, 'grad_norm': 0.9277982711791992, 'learning_rate': 0.0003966165413533835, 'epoch': 19.210526315789473}\n",
      "{'loss': 1.4037, 'grad_norm': 2.6692001819610596, 'learning_rate': 0.0003778195488721805, 'epoch': 19.24812030075188}\n",
      "{'loss': 1.4085, 'grad_norm': 3.5717716217041016, 'learning_rate': 0.0003590225563909774, 'epoch': 19.285714285714285}\n",
      "{'loss': 1.4717, 'grad_norm': 1.0418310165405273, 'learning_rate': 0.0003402255639097744, 'epoch': 19.32330827067669}\n",
      "{'loss': 1.4235, 'grad_norm': 2.2217469215393066, 'learning_rate': 0.0003214285714285714, 'epoch': 19.360902255639097}\n",
      "{'loss': 1.4029, 'grad_norm': 1.1214179992675781, 'learning_rate': 0.00030263157894736844, 'epoch': 19.398496240601503}\n",
      "{'loss': 1.4154, 'grad_norm': 0.9294397830963135, 'learning_rate': 0.0002838345864661654, 'epoch': 19.43609022556391}\n",
      "{'loss': 1.4546, 'grad_norm': 0.9949347376823425, 'learning_rate': 0.00026503759398496243, 'epoch': 19.473684210526315}\n",
      "{'loss': 1.3733, 'grad_norm': 0.8610816597938538, 'learning_rate': 0.0002462406015037594, 'epoch': 19.51127819548872}\n",
      "{'loss': 1.519, 'grad_norm': 44.05518341064453, 'learning_rate': 0.0002274436090225564, 'epoch': 19.548872180451127}\n",
      "{'loss': 1.3595, 'grad_norm': 8.438141822814941, 'learning_rate': 0.0002086466165413534, 'epoch': 19.586466165413533}\n",
      "{'loss': 1.4328, 'grad_norm': 0.8563389182090759, 'learning_rate': 0.0001898496240601504, 'epoch': 19.62406015037594}\n",
      "{'loss': 1.4167, 'grad_norm': 1.5217602252960205, 'learning_rate': 0.00017105263157894739, 'epoch': 19.661654135338345}\n",
      "{'loss': 1.4653, 'grad_norm': 1.5165990591049194, 'learning_rate': 0.00015225563909774436, 'epoch': 19.69924812030075}\n",
      "{'loss': 1.4266, 'grad_norm': 1.0603537559509277, 'learning_rate': 0.00013345864661654135, 'epoch': 19.736842105263158}\n",
      "{'loss': 1.4169, 'grad_norm': 6.561136245727539, 'learning_rate': 0.00011466165413533835, 'epoch': 19.774436090225564}\n",
      "{'loss': 1.485, 'grad_norm': 1.397186279296875, 'learning_rate': 9.586466165413533e-05, 'epoch': 19.81203007518797}\n",
      "{'loss': 1.4973, 'grad_norm': 1.5320340394973755, 'learning_rate': 7.706766917293233e-05, 'epoch': 19.849624060150376}\n",
      "{'loss': 1.4267, 'grad_norm': 1.1908583641052246, 'learning_rate': 5.8270676691729326e-05, 'epoch': 19.887218045112782}\n",
      "{'loss': 1.4682, 'grad_norm': 1.3632968664169312, 'learning_rate': 3.9473684210526316e-05, 'epoch': 19.924812030075188}\n",
      "{'loss': 1.2971, 'grad_norm': 2.623783826828003, 'learning_rate': 2.0676691729323306e-05, 'epoch': 19.962406015037594}\n",
      "{'loss': 1.3308, 'grad_norm': 1.379931926727295, 'learning_rate': 1.879699248120301e-06, 'epoch': 20.0}\n",
      "{'eval_loss': 1.4050683975219727, 'eval_accuracy': 0.5053333333333333, 'eval_runtime': 9.8711, 'eval_samples_per_second': 75.979, 'eval_steps_per_second': 4.761, 'epoch': 20.0}\n",
      "{'train_runtime': 9867.4876, 'train_samples_per_second': 8.614, 'train_steps_per_second': 0.539, 'train_loss': 1.631724436838824, 'epoch': 20.0}\n"
     ]
    },
    {
     "data": {
      "text/plain": [
       "TrainOutput(global_step=5320, training_loss=1.631724436838824, metrics={'train_runtime': 9867.4876, 'train_samples_per_second': 8.614, 'train_steps_per_second': 0.539, 'train_loss': 1.631724436838824, 'epoch': 20.0})"
      ]
     },
     "execution_count": 22,
     "metadata": {},
     "output_type": "execute_result"
    }
   ],
   "source": [
    "trainer.train()"
   ]
  }
 ],
 "metadata": {
  "kernelspec": {
   "display_name": "3.11.12",
   "language": "python",
   "name": "python3"
  },
  "language_info": {
   "codemirror_mode": {
    "name": "ipython",
    "version": 3
   },
   "file_extension": ".py",
   "mimetype": "text/x-python",
   "name": "python",
   "nbconvert_exporter": "python",
   "pygments_lexer": "ipython3",
   "version": "3.11.12"
  }
 },
 "nbformat": 4,
 "nbformat_minor": 2
}
