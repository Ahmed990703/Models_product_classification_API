{
 "cells": [
  {
   "cell_type": "code",
   "execution_count": 1,
   "id": "ccc20017-7134-4d46-a628-6912128f0ccf",
   "metadata": {},
   "outputs": [
    {
     "name": "stdout",
     "output_type": "stream",
     "text": [
      "/Users/ahmedmaher/Desktop/product_classification_api\n"
     ]
    }
   ],
   "source": [
    "%cd .."
   ]
  },
  {
   "cell_type": "code",
   "execution_count": 22,
   "id": "313db792-2e26-4584-9741-063428bd76b4",
   "metadata": {},
   "outputs": [],
   "source": [
    "from datasets import load_dataset"
   ]
  },
  {
   "cell_type": "markdown",
   "id": "a3494818-c097-4819-bce9-348fcfdb6fe7",
   "metadata": {},
   "source": [
    "# Data preprocessing"
   ]
  },
  {
   "cell_type": "code",
   "execution_count": 3,
   "id": "9afbf464-2d4f-4bf0-a935-509a9158f6a6",
   "metadata": {},
   "outputs": [],
   "source": [
    "food_dataset=load_dataset('food101',split='train[:5000]')"
   ]
  },
  {
   "cell_type": "code",
   "execution_count": 4,
   "id": "eb506f3b-44fb-4309-a3b9-3977d6ffe0a6",
   "metadata": {},
   "outputs": [],
   "source": [
    "food_splited=food_dataset.train_test_split(test_size=0.2)"
   ]
  },
  {
   "cell_type": "code",
   "execution_count": 5,
   "id": "8927c855-e2bd-447c-861b-8c84de9d12e7",
   "metadata": {},
   "outputs": [
    {
     "data": {
      "text/plain": [
       "DatasetDict({\n",
       "    train: Dataset({\n",
       "        features: ['image', 'label'],\n",
       "        num_rows: 4000\n",
       "    })\n",
       "    test: Dataset({\n",
       "        features: ['image', 'label'],\n",
       "        num_rows: 1000\n",
       "    })\n",
       "})"
      ]
     },
     "execution_count": 5,
     "metadata": {},
     "output_type": "execute_result"
    }
   ],
   "source": [
    "food_splited"
   ]
  },
  {
   "cell_type": "code",
   "execution_count": 6,
   "id": "db455b0c-d132-45c2-b669-fc4af7e895e0",
   "metadata": {},
   "outputs": [],
   "source": [
    "labels=food_splited['train'].features['label'].names\n",
    "label2id,id2label={},{}"
   ]
  },
  {
   "cell_type": "code",
   "execution_count": 7,
   "id": "64a99470-9452-4f72-8a4a-f63aae90640f",
   "metadata": {},
   "outputs": [],
   "source": [
    "for i,label in enumerate(labels):\n",
    "    label2id[label]=i\n",
    "    id2label[i]=label"
   ]
  },
  {
   "cell_type": "markdown",
   "id": "2b2c8265-adea-460d-9d8f-445cf47c57b0",
   "metadata": {},
   "source": [
    "# model Preprocessing"
   ]
  },
  {
   "cell_type": "code",
   "execution_count": 8,
   "id": "14bc68a1-32dd-4915-8c95-0b7ceb18d91f",
   "metadata": {},
   "outputs": [],
   "source": [
    "from transformers import AutoImageProcessor"
   ]
  },
  {
   "cell_type": "code",
   "execution_count": 9,
   "id": "19400edf-3d2f-4ea7-8c0a-e382f42d3abe",
   "metadata": {},
   "outputs": [],
   "source": [
    "processor=AutoImageProcessor.from_pretrained('google/vit-base-patch16-224-in21k',use_fast=True)"
   ]
  },
  {
   "cell_type": "code",
   "execution_count": 10,
   "id": "0f2ff114-467b-43b3-bb50-9e4d8125fa9b",
   "metadata": {},
   "outputs": [],
   "source": [
    "from torchvision.transforms import RandomResizedCrop ,Compose,Normalize,Resize,ToTensor"
   ]
  },
  {
   "cell_type": "code",
   "execution_count": 11,
   "id": "80152dba-e8a4-4472-9298-ff61cca62854",
   "metadata": {},
   "outputs": [],
   "source": [
    "size=(processor.size['height'],processor.size['width'])"
   ]
  },
  {
   "cell_type": "code",
   "execution_count": 12,
   "id": "534d76d2-840e-4130-bb71-ae919413185a",
   "metadata": {},
   "outputs": [],
   "source": [
    "transform=Compose([\n",
    "    RandomResizedCrop(size),\n",
    "    ToTensor(),\n",
    "    Normalize(mean=processor.image_mean,std=processor.image_std)\n",
    "])"
   ]
  },
  {
   "cell_type": "code",
   "execution_count": 13,
   "id": "89045965-a264-471a-ae57-aabd2f2592c1",
   "metadata": {},
   "outputs": [],
   "source": [
    "def preprocess_image(samples):\n",
    "    samples['pixel_values']=[transform(img.convert('RGB'))for img in samples['image']]\n",
    "    del samples['image']\n",
    "    return samples"
   ]
  },
  {
   "cell_type": "code",
   "execution_count": 14,
   "id": "5241de02-b707-4c68-948a-392a73fafd8f",
   "metadata": {},
   "outputs": [],
   "source": [
    "food_splited_trans=food_splited.with_transform(preprocess_image)"
   ]
  },
  {
   "cell_type": "code",
   "execution_count": 15,
   "id": "e726eaa9-4229-4438-9d59-23c5c8af2549",
   "metadata": {},
   "outputs": [
    {
     "data": {
      "text/plain": [
       "{'label': 53,\n",
       " 'pixel_values': tensor([[[ 0.8196,  0.7961,  0.7333,  ..., -0.6549, -0.6392, -0.5686],\n",
       "          [ 0.7804,  0.7961,  0.7804,  ..., -0.7255, -0.6706, -0.6392],\n",
       "          [ 0.7725,  0.7961,  0.8039,  ..., -0.7804, -0.7412, -0.7098],\n",
       "          ...,\n",
       "          [ 0.2000,  0.2314,  0.2471,  ...,  0.3255,  0.2706,  0.2157],\n",
       "          [ 0.1765,  0.2235,  0.2314,  ...,  0.3255,  0.3176,  0.2863],\n",
       "          [ 0.1686,  0.2314,  0.2157,  ...,  0.3020,  0.3098,  0.3098]],\n",
       " \n",
       "         [[ 0.5059,  0.5059,  0.4588,  ..., -0.8431, -0.8510, -0.8118],\n",
       "          [ 0.4902,  0.5137,  0.5216,  ..., -0.9137, -0.8745, -0.8667],\n",
       "          [ 0.5059,  0.5137,  0.5451,  ..., -0.9529, -0.9294, -0.9059],\n",
       "          ...,\n",
       "          [ 0.2078,  0.2471,  0.2784,  ...,  0.3020,  0.2471,  0.2000],\n",
       "          [ 0.1843,  0.2392,  0.2627,  ...,  0.3020,  0.2941,  0.2706],\n",
       "          [ 0.1765,  0.2392,  0.2471,  ...,  0.2784,  0.2863,  0.2941]],\n",
       " \n",
       "         [[ 0.0980,  0.0902,  0.0667,  ..., -0.9216, -0.9451, -0.9216],\n",
       "          [ 0.0902,  0.0980,  0.1373,  ..., -0.9765, -0.9608, -0.9608],\n",
       "          [ 0.1216,  0.1294,  0.1765,  ..., -1.0000, -0.9843, -0.9765],\n",
       "          ...,\n",
       "          [ 0.3412,  0.3569,  0.3725,  ...,  0.3569,  0.3020,  0.2392],\n",
       "          [ 0.3176,  0.3490,  0.3569,  ...,  0.3569,  0.3490,  0.3098],\n",
       "          [ 0.3176,  0.3569,  0.3412,  ...,  0.3333,  0.3412,  0.3412]]])}"
      ]
     },
     "execution_count": 15,
     "metadata": {},
     "output_type": "execute_result"
    }
   ],
   "source": [
    "food_splited_trans[\"train\"][0]"
   ]
  },
  {
   "cell_type": "code",
   "execution_count": 16,
   "id": "45176fdc-1778-430f-ba9c-5b7855abfc79",
   "metadata": {},
   "outputs": [],
   "source": [
    "from transformers import AutoModelForImageClassification, Trainer, TrainingArguments,DefaultDataCollator\n",
    "data_collator=DefaultDataCollator()"
   ]
  },
  {
   "cell_type": "code",
   "execution_count": 17,
   "id": "dc3419e6-6cbe-4d56-af87-3aa83d479d45",
   "metadata": {},
   "outputs": [],
   "source": [
    "import evaluate\n",
    "import numpy as np\n",
    "metric=evaluate.load(\"accuracy\")\n",
    "def compute_metrics(predictions_and_labels):\n",
    "    predictions,labels=predictions_and_labels\n",
    "    predictions=np.argmax(predictions,axis=1)\n",
    "    return metric.compute(predictions=predictions,references=labels)"
   ]
  },
  {
   "cell_type": "code",
   "execution_count": 18,
   "id": "474387ff-27a5-4cb8-aa66-337a6a538929",
   "metadata": {},
   "outputs": [],
   "source": [
    "from transformers import logging\n",
    "logging.set_verbosity_error()\n",
    "model=AutoModelForImageClassification.from_pretrained('google/vit-base-patch16-224-in21k',\n",
    "                                                      num_labels=len(labels),\n",
    "                                                      id2label=id2label,\n",
    "                                                      label2id=label2id\n",
    "                                                     )\n"
   ]
  },
  {
   "cell_type": "code",
   "execution_count": 19,
   "id": "992cf8c3-5e8e-4b86-8848-f53fcf7956c6",
   "metadata": {},
   "outputs": [],
   "source": [
    "training_args=TrainingArguments(\n",
    "    output_dir='my_model',\n",
    "    remove_unused_columns=False,\n",
    "    learning_rate=0.001,\n",
    "     per_device_train_batch_size=16,\n",
    "     per_device_eval_batch_size=16,\n",
    "     num_train_epochs=32,\n",
    "      weight_decay=0.01,\n",
    "      save_strategy=\"epoch\",\n",
    "      logging_steps=10,\n",
    "      eval_strategy=\"epoch\",\n",
    "     push_to_hub=False,\n",
    "    metric_for_best_model=\"accuracy\"\n",
    "\n",
    ")"
   ]
  },
  {
   "cell_type": "code",
   "execution_count": 20,
   "id": "b1aee67a-9c83-48c8-a15e-62fdbce3a3d6",
   "metadata": {},
   "outputs": [],
   "source": [
    "trainer=Trainer(\n",
    "    model=model,\n",
    "    args=training_args,\n",
    "    data_collator=data_collator,\n",
    "    compute_metrics=compute_metrics,\n",
    "    train_dataset=food_splited_trans[\"train\"],\n",
    "    eval_dataset=food_splited_trans[\"test\"]\n",
    ")"
   ]
  },
  {
   "cell_type": "code",
   "execution_count": 21,
   "id": "2c850949-2e83-4bd4-b720-b7cc8b53b8c7",
   "metadata": {},
   "outputs": [
    {
     "name": "stderr",
     "output_type": "stream",
     "text": [
      "/Users/ahmedmaher/anaconda3/lib/python3.11/site-packages/torch/utils/data/dataloader.py:683: UserWarning: 'pin_memory' argument is set as true but not supported on MPS now, then device pinned memory won't be used.\n",
      "  warnings.warn(warn_msg)\n"
     ]
    },
    {
     "name": "stdout",
     "output_type": "stream",
     "text": [
      "{'loss': 3.4625, 'grad_norm': 2.0701723098754883, 'learning_rate': 0.000998875, 'epoch': 0.04}\n",
      "{'loss': 2.1775, 'grad_norm': 2.363891363143921, 'learning_rate': 0.000997625, 'epoch': 0.08}\n",
      "{'loss': 1.9748, 'grad_norm': 1.380085825920105, 'learning_rate': 0.000996375, 'epoch': 0.12}\n",
      "{'loss': 1.9265, 'grad_norm': 1.916972041130066, 'learning_rate': 0.0009951250000000001, 'epoch': 0.16}\n",
      "{'loss': 1.8415, 'grad_norm': 2.3226826190948486, 'learning_rate': 0.000993875, 'epoch': 0.2}\n",
      "{'loss': 1.8438, 'grad_norm': 2.0557971000671387, 'learning_rate': 0.000992625, 'epoch': 0.24}\n",
      "{'loss': 1.8533, 'grad_norm': 1.5448344945907593, 'learning_rate': 0.000991375, 'epoch': 0.28}\n",
      "{'loss': 1.833, 'grad_norm': 1.6742770671844482, 'learning_rate': 0.0009901250000000001, 'epoch': 0.32}\n",
      "{'loss': 1.7798, 'grad_norm': 2.6234302520751953, 'learning_rate': 0.000988875, 'epoch': 0.36}\n",
      "{'loss': 1.8778, 'grad_norm': 1.5299742221832275, 'learning_rate': 0.000987625, 'epoch': 0.4}\n",
      "{'loss': 1.8116, 'grad_norm': 2.8321826457977295, 'learning_rate': 0.000986375, 'epoch': 0.44}\n",
      "{'loss': 1.8672, 'grad_norm': 2.4023728370666504, 'learning_rate': 0.000985125, 'epoch': 0.48}\n",
      "{'loss': 1.8281, 'grad_norm': 1.6703325510025024, 'learning_rate': 0.0009838750000000002, 'epoch': 0.52}\n",
      "{'loss': 1.7937, 'grad_norm': 1.9679259061813354, 'learning_rate': 0.000982625, 'epoch': 0.56}\n",
      "{'loss': 1.7758, 'grad_norm': 2.79449200630188, 'learning_rate': 0.000981375, 'epoch': 0.6}\n",
      "{'loss': 1.8956, 'grad_norm': 2.6982457637786865, 'learning_rate': 0.000980125, 'epoch': 0.64}\n",
      "{'loss': 1.7904, 'grad_norm': 2.180680751800537, 'learning_rate': 0.0009788750000000001, 'epoch': 0.68}\n",
      "{'loss': 1.7371, 'grad_norm': 2.0022027492523193, 'learning_rate': 0.000977625, 'epoch': 0.72}\n",
      "{'loss': 1.829, 'grad_norm': 1.409461259841919, 'learning_rate': 0.000976375, 'epoch': 0.76}\n",
      "{'loss': 1.7576, 'grad_norm': 2.27546763420105, 'learning_rate': 0.0009751250000000001, 'epoch': 0.8}\n",
      "{'loss': 1.7912, 'grad_norm': 1.1881626844406128, 'learning_rate': 0.000973875, 'epoch': 0.84}\n",
      "{'loss': 1.7076, 'grad_norm': 1.6748738288879395, 'learning_rate': 0.000972625, 'epoch': 0.88}\n",
      "{'loss': 1.7245, 'grad_norm': 1.9829033613204956, 'learning_rate': 0.000971375, 'epoch': 0.92}\n",
      "{'loss': 1.8529, 'grad_norm': 1.941947340965271, 'learning_rate': 0.0009701250000000001, 'epoch': 0.96}\n",
      "{'loss': 1.8109, 'grad_norm': 1.6651099920272827, 'learning_rate': 0.000968875, 'epoch': 1.0}\n",
      "{'eval_loss': 1.7849293947219849, 'eval_accuracy': 0.293, 'eval_runtime': 16.1983, 'eval_samples_per_second': 61.735, 'eval_steps_per_second': 3.889, 'epoch': 1.0}\n"
     ]
    },
    {
     "name": "stderr",
     "output_type": "stream",
     "text": [
      "/Users/ahmedmaher/anaconda3/lib/python3.11/site-packages/torch/utils/data/dataloader.py:683: UserWarning: 'pin_memory' argument is set as true but not supported on MPS now, then device pinned memory won't be used.\n",
      "  warnings.warn(warn_msg)\n"
     ]
    },
    {
     "name": "stdout",
     "output_type": "stream",
     "text": [
      "{'loss': 1.6517, 'grad_norm': 1.8859647512435913, 'learning_rate': 0.000967625, 'epoch': 1.04}\n",
      "{'loss': 1.8701, 'grad_norm': 2.7617526054382324, 'learning_rate': 0.000966375, 'epoch': 1.08}\n",
      "{'loss': 1.8842, 'grad_norm': 2.812778949737549, 'learning_rate': 0.000965125, 'epoch': 1.12}\n",
      "{'loss': 1.908, 'grad_norm': 2.0122551918029785, 'learning_rate': 0.0009638750000000001, 'epoch': 1.16}\n",
      "{'loss': 1.9052, 'grad_norm': 1.2858878374099731, 'learning_rate': 0.0009626249999999999, 'epoch': 1.2}\n",
      "{'loss': 1.8131, 'grad_norm': 2.1636619567871094, 'learning_rate': 0.000961375, 'epoch': 1.24}\n",
      "{'loss': 1.8556, 'grad_norm': 2.0304503440856934, 'learning_rate': 0.000960125, 'epoch': 1.28}\n",
      "{'loss': 1.8516, 'grad_norm': 1.9942653179168701, 'learning_rate': 0.0009588750000000001, 'epoch': 1.32}\n",
      "{'loss': 1.7753, 'grad_norm': 0.9849271774291992, 'learning_rate': 0.0009576249999999999, 'epoch': 1.3599999999999999}\n",
      "{'loss': 1.7541, 'grad_norm': 2.124354362487793, 'learning_rate': 0.000956375, 'epoch': 1.4}\n",
      "{'loss': 1.7052, 'grad_norm': 2.01501202583313, 'learning_rate': 0.000955125, 'epoch': 1.44}\n",
      "{'loss': 1.7279, 'grad_norm': 1.3979116678237915, 'learning_rate': 0.0009538750000000001, 'epoch': 1.48}\n",
      "{'loss': 1.7268, 'grad_norm': 1.5812736749649048, 'learning_rate': 0.000952625, 'epoch': 1.52}\n",
      "{'loss': 1.6481, 'grad_norm': 1.4194293022155762, 'learning_rate': 0.000951375, 'epoch': 1.56}\n",
      "{'loss': 1.7034, 'grad_norm': 1.9473395347595215, 'learning_rate': 0.000950125, 'epoch': 1.6}\n",
      "{'loss': 1.6232, 'grad_norm': 1.6978541612625122, 'learning_rate': 0.0009488750000000001, 'epoch': 1.6400000000000001}\n",
      "{'loss': 1.7033, 'grad_norm': 2.490105390548706, 'learning_rate': 0.0009476250000000001, 'epoch': 1.6800000000000002}\n",
      "{'loss': 1.7916, 'grad_norm': 1.9097825288772583, 'learning_rate': 0.000946375, 'epoch': 1.72}\n",
      "{'loss': 1.5979, 'grad_norm': 1.2288304567337036, 'learning_rate': 0.000945125, 'epoch': 1.76}\n",
      "{'loss': 1.8401, 'grad_norm': 2.9019758701324463, 'learning_rate': 0.000943875, 'epoch': 1.8}\n",
      "{'loss': 1.8159, 'grad_norm': 0.9816856384277344, 'learning_rate': 0.0009426250000000001, 'epoch': 1.8399999999999999}\n",
      "{'loss': 1.8196, 'grad_norm': 1.672600507736206, 'learning_rate': 0.0009413749999999999, 'epoch': 1.88}\n",
      "{'loss': 1.715, 'grad_norm': 1.8019737005233765, 'learning_rate': 0.000940125, 'epoch': 1.92}\n",
      "{'loss': 1.6434, 'grad_norm': 2.0477490425109863, 'learning_rate': 0.000938875, 'epoch': 1.96}\n",
      "{'loss': 1.6669, 'grad_norm': 1.5431853532791138, 'learning_rate': 0.0009376250000000001, 'epoch': 2.0}\n",
      "{'eval_loss': 1.9056906700134277, 'eval_accuracy': 0.262, 'eval_runtime': 17.1297, 'eval_samples_per_second': 58.378, 'eval_steps_per_second': 3.678, 'epoch': 2.0}\n"
     ]
    },
    {
     "name": "stderr",
     "output_type": "stream",
     "text": [
      "/Users/ahmedmaher/anaconda3/lib/python3.11/site-packages/torch/utils/data/dataloader.py:683: UserWarning: 'pin_memory' argument is set as true but not supported on MPS now, then device pinned memory won't be used.\n",
      "  warnings.warn(warn_msg)\n"
     ]
    },
    {
     "name": "stdout",
     "output_type": "stream",
     "text": [
      "{'loss': 1.7928, 'grad_norm': 2.367276430130005, 'learning_rate': 0.0009363749999999999, 'epoch': 2.04}\n",
      "{'loss': 1.7034, 'grad_norm': 1.7571275234222412, 'learning_rate': 0.000935125, 'epoch': 2.08}\n",
      "{'loss': 1.7947, 'grad_norm': 1.780503511428833, 'learning_rate': 0.000933875, 'epoch': 2.12}\n",
      "{'loss': 1.5843, 'grad_norm': 1.5929690599441528, 'learning_rate': 0.0009326250000000001, 'epoch': 2.16}\n",
      "{'loss': 1.7084, 'grad_norm': 2.1649351119995117, 'learning_rate': 0.000931375, 'epoch': 2.2}\n",
      "{'loss': 1.673, 'grad_norm': 0.8578265309333801, 'learning_rate': 0.000930125, 'epoch': 2.24}\n",
      "{'loss': 1.6237, 'grad_norm': 1.8548352718353271, 'learning_rate': 0.000928875, 'epoch': 2.2800000000000002}\n",
      "{'loss': 1.5405, 'grad_norm': 1.2871028184890747, 'learning_rate': 0.0009276250000000001, 'epoch': 2.32}\n",
      "{'loss': 1.7709, 'grad_norm': 1.4955543279647827, 'learning_rate': 0.000926375, 'epoch': 2.36}\n",
      "{'loss': 1.6496, 'grad_norm': 1.3403770923614502, 'learning_rate': 0.000925125, 'epoch': 2.4}\n",
      "{'loss': 1.6552, 'grad_norm': 0.9160468578338623, 'learning_rate': 0.000923875, 'epoch': 2.44}\n",
      "{'loss': 1.6587, 'grad_norm': 1.8284322023391724, 'learning_rate': 0.000922625, 'epoch': 2.48}\n",
      "{'loss': 1.8614, 'grad_norm': 1.521774411201477, 'learning_rate': 0.0009213750000000001, 'epoch': 2.52}\n",
      "{'loss': 1.5972, 'grad_norm': 1.3903751373291016, 'learning_rate': 0.0009201249999999999, 'epoch': 2.56}\n",
      "{'loss': 1.6619, 'grad_norm': 1.9052084684371948, 'learning_rate': 0.000918875, 'epoch': 2.6}\n",
      "{'loss': 1.6312, 'grad_norm': 1.7068877220153809, 'learning_rate': 0.000917625, 'epoch': 2.64}\n",
      "{'loss': 1.6997, 'grad_norm': 1.243699312210083, 'learning_rate': 0.0009163750000000001, 'epoch': 2.68}\n",
      "{'loss': 1.5699, 'grad_norm': 1.2773483991622925, 'learning_rate': 0.000915125, 'epoch': 2.7199999999999998}\n",
      "{'loss': 1.7612, 'grad_norm': 2.2282307147979736, 'learning_rate': 0.000913875, 'epoch': 2.76}\n",
      "{'loss': 1.4914, 'grad_norm': 1.912879467010498, 'learning_rate': 0.000912625, 'epoch': 2.8}\n",
      "{'loss': 1.5293, 'grad_norm': 1.6734998226165771, 'learning_rate': 0.0009113750000000001, 'epoch': 2.84}\n",
      "{'loss': 1.6983, 'grad_norm': 2.3388216495513916, 'learning_rate': 0.000910125, 'epoch': 2.88}\n",
      "{'loss': 1.4542, 'grad_norm': 1.7327734231948853, 'learning_rate': 0.000908875, 'epoch': 2.92}\n",
      "{'loss': 1.6825, 'grad_norm': 2.1158015727996826, 'learning_rate': 0.000907625, 'epoch': 2.96}\n",
      "{'loss': 1.622, 'grad_norm': 1.72742760181427, 'learning_rate': 0.0009063750000000001, 'epoch': 3.0}\n",
      "{'eval_loss': 1.7716963291168213, 'eval_accuracy': 0.352, 'eval_runtime': 19.5556, 'eval_samples_per_second': 51.136, 'eval_steps_per_second': 3.222, 'epoch': 3.0}\n"
     ]
    },
    {
     "name": "stderr",
     "output_type": "stream",
     "text": [
      "/Users/ahmedmaher/anaconda3/lib/python3.11/site-packages/torch/utils/data/dataloader.py:683: UserWarning: 'pin_memory' argument is set as true but not supported on MPS now, then device pinned memory won't be used.\n",
      "  warnings.warn(warn_msg)\n"
     ]
    },
    {
     "name": "stdout",
     "output_type": "stream",
     "text": [
      "{'loss': 1.7267, 'grad_norm': 1.6334383487701416, 'learning_rate': 0.000905125, 'epoch': 3.04}\n",
      "{'loss': 1.6804, 'grad_norm': 2.112466335296631, 'learning_rate': 0.0009038750000000001, 'epoch': 3.08}\n",
      "{'loss': 1.6187, 'grad_norm': 1.2459501028060913, 'learning_rate': 0.000902625, 'epoch': 3.12}\n",
      "{'loss': 1.701, 'grad_norm': 1.8556565046310425, 'learning_rate': 0.000901375, 'epoch': 3.16}\n",
      "{'loss': 1.522, 'grad_norm': 1.0143755674362183, 'learning_rate': 0.000900125, 'epoch': 3.2}\n",
      "{'loss': 1.5037, 'grad_norm': 1.5513200759887695, 'learning_rate': 0.000898875, 'epoch': 3.24}\n",
      "{'loss': 1.5692, 'grad_norm': 1.7029914855957031, 'learning_rate': 0.000897625, 'epoch': 3.2800000000000002}\n",
      "{'loss': 1.6823, 'grad_norm': 0.6907063126564026, 'learning_rate': 0.000896375, 'epoch': 3.32}\n",
      "{'loss': 1.4951, 'grad_norm': 1.6261961460113525, 'learning_rate': 0.000895125, 'epoch': 3.36}\n",
      "{'loss': 1.6234, 'grad_norm': 2.154148817062378, 'learning_rate': 0.000893875, 'epoch': 3.4}\n",
      "{'loss': 1.5532, 'grad_norm': 1.584775447845459, 'learning_rate': 0.000892625, 'epoch': 3.44}\n",
      "{'loss': 1.4109, 'grad_norm': 2.039177656173706, 'learning_rate': 0.000891375, 'epoch': 3.48}\n",
      "{'loss': 1.6139, 'grad_norm': 1.3822563886642456, 'learning_rate': 0.0008901250000000001, 'epoch': 3.52}\n",
      "{'loss': 1.601, 'grad_norm': 1.5133461952209473, 'learning_rate': 0.000888875, 'epoch': 3.56}\n",
      "{'loss': 1.6825, 'grad_norm': 1.268835425376892, 'learning_rate': 0.0008876250000000001, 'epoch': 3.6}\n",
      "{'loss': 1.3978, 'grad_norm': 0.8312921524047852, 'learning_rate': 0.000886375, 'epoch': 3.64}\n",
      "{'loss': 1.4006, 'grad_norm': 2.6875126361846924, 'learning_rate': 0.0008851250000000001, 'epoch': 3.68}\n",
      "{'loss': 1.641, 'grad_norm': 0.9496057629585266, 'learning_rate': 0.000883875, 'epoch': 3.7199999999999998}\n",
      "{'loss': 1.5798, 'grad_norm': 1.442286491394043, 'learning_rate': 0.0008826250000000001, 'epoch': 3.76}\n",
      "{'loss': 1.6516, 'grad_norm': 1.6799736022949219, 'learning_rate': 0.000881375, 'epoch': 3.8}\n",
      "{'loss': 1.535, 'grad_norm': 1.8583427667617798, 'learning_rate': 0.000880125, 'epoch': 3.84}\n",
      "{'loss': 1.6233, 'grad_norm': 1.6808348894119263, 'learning_rate': 0.000878875, 'epoch': 3.88}\n",
      "{'loss': 1.5706, 'grad_norm': 1.0932018756866455, 'learning_rate': 0.000877625, 'epoch': 3.92}\n",
      "{'loss': 1.5549, 'grad_norm': 0.9008200168609619, 'learning_rate': 0.000876375, 'epoch': 3.96}\n",
      "{'loss': 1.4924, 'grad_norm': 2.3029611110687256, 'learning_rate': 0.000875125, 'epoch': 4.0}\n",
      "{'eval_loss': 1.5296993255615234, 'eval_accuracy': 0.414, 'eval_runtime': 19.0256, 'eval_samples_per_second': 52.561, 'eval_steps_per_second': 3.311, 'epoch': 4.0}\n"
     ]
    },
    {
     "name": "stderr",
     "output_type": "stream",
     "text": [
      "/Users/ahmedmaher/anaconda3/lib/python3.11/site-packages/torch/utils/data/dataloader.py:683: UserWarning: 'pin_memory' argument is set as true but not supported on MPS now, then device pinned memory won't be used.\n",
      "  warnings.warn(warn_msg)\n"
     ]
    },
    {
     "name": "stdout",
     "output_type": "stream",
     "text": [
      "{'loss': 1.4178, 'grad_norm': 1.452178955078125, 'learning_rate': 0.000873875, 'epoch': 4.04}\n",
      "{'loss': 1.5889, 'grad_norm': 1.951363444328308, 'learning_rate': 0.000872625, 'epoch': 4.08}\n",
      "{'loss': 1.3533, 'grad_norm': 1.631226897239685, 'learning_rate': 0.0008713750000000001, 'epoch': 4.12}\n",
      "{'loss': 1.4823, 'grad_norm': 1.9433729648590088, 'learning_rate': 0.000870125, 'epoch': 4.16}\n",
      "{'loss': 1.7046, 'grad_norm': 1.115384817123413, 'learning_rate': 0.000868875, 'epoch': 4.2}\n",
      "{'loss': 1.4911, 'grad_norm': 2.133061170578003, 'learning_rate': 0.000867625, 'epoch': 4.24}\n",
      "{'loss': 1.5088, 'grad_norm': 1.1846400499343872, 'learning_rate': 0.0008663750000000001, 'epoch': 4.28}\n",
      "{'loss': 1.5908, 'grad_norm': 1.389189600944519, 'learning_rate': 0.000865125, 'epoch': 4.32}\n",
      "{'loss': 1.5148, 'grad_norm': 1.6706809997558594, 'learning_rate': 0.000863875, 'epoch': 4.36}\n",
      "{'loss': 1.4788, 'grad_norm': 1.1517261266708374, 'learning_rate': 0.000862625, 'epoch': 4.4}\n",
      "{'loss': 1.4023, 'grad_norm': 1.295068621635437, 'learning_rate': 0.000861375, 'epoch': 4.44}\n",
      "{'loss': 1.5139, 'grad_norm': 1.227020502090454, 'learning_rate': 0.000860125, 'epoch': 4.48}\n",
      "{'loss': 1.5975, 'grad_norm': 1.4382673501968384, 'learning_rate': 0.000858875, 'epoch': 4.52}\n",
      "{'loss': 1.5533, 'grad_norm': 1.9565261602401733, 'learning_rate': 0.000857625, 'epoch': 4.5600000000000005}\n",
      "{'loss': 1.6968, 'grad_norm': 0.9050351977348328, 'learning_rate': 0.000856375, 'epoch': 4.6}\n",
      "{'loss': 1.6032, 'grad_norm': 1.5640087127685547, 'learning_rate': 0.0008551250000000001, 'epoch': 4.64}\n",
      "{'loss': 1.4868, 'grad_norm': 1.0970455408096313, 'learning_rate': 0.000853875, 'epoch': 4.68}\n",
      "{'loss': 1.4725, 'grad_norm': 1.3087657690048218, 'learning_rate': 0.000852625, 'epoch': 4.72}\n",
      "{'loss': 1.4856, 'grad_norm': 1.340942144393921, 'learning_rate': 0.000851375, 'epoch': 4.76}\n",
      "{'loss': 1.5772, 'grad_norm': 0.94063800573349, 'learning_rate': 0.0008501250000000001, 'epoch': 4.8}\n",
      "{'loss': 1.5796, 'grad_norm': 1.007407784461975, 'learning_rate': 0.000848875, 'epoch': 4.84}\n",
      "{'loss': 1.4951, 'grad_norm': 1.2301772832870483, 'learning_rate': 0.000847625, 'epoch': 4.88}\n",
      "{'loss': 1.5231, 'grad_norm': 1.0656776428222656, 'learning_rate': 0.000846375, 'epoch': 4.92}\n",
      "{'loss': 1.4176, 'grad_norm': 1.7390198707580566, 'learning_rate': 0.0008451250000000001, 'epoch': 4.96}\n",
      "{'loss': 1.5648, 'grad_norm': 1.5422340631484985, 'learning_rate': 0.000843875, 'epoch': 5.0}\n",
      "{'eval_loss': 1.5053473711013794, 'eval_accuracy': 0.426, 'eval_runtime': 17.8414, 'eval_samples_per_second': 56.049, 'eval_steps_per_second': 3.531, 'epoch': 5.0}\n"
     ]
    },
    {
     "name": "stderr",
     "output_type": "stream",
     "text": [
      "/Users/ahmedmaher/anaconda3/lib/python3.11/site-packages/torch/utils/data/dataloader.py:683: UserWarning: 'pin_memory' argument is set as true but not supported on MPS now, then device pinned memory won't be used.\n",
      "  warnings.warn(warn_msg)\n"
     ]
    },
    {
     "name": "stdout",
     "output_type": "stream",
     "text": [
      "{'loss': 1.3616, 'grad_norm': 0.8656861782073975, 'learning_rate': 0.000842625, 'epoch': 5.04}\n",
      "{'loss': 1.4968, 'grad_norm': 1.0425033569335938, 'learning_rate': 0.000841375, 'epoch': 5.08}\n",
      "{'loss': 1.315, 'grad_norm': 1.4545587301254272, 'learning_rate': 0.000840125, 'epoch': 5.12}\n",
      "{'loss': 1.3049, 'grad_norm': 1.6240155696868896, 'learning_rate': 0.0008388750000000001, 'epoch': 5.16}\n",
      "{'loss': 1.4027, 'grad_norm': 1.4237035512924194, 'learning_rate': 0.0008376249999999999, 'epoch': 5.2}\n",
      "{'loss': 1.3981, 'grad_norm': 1.379940390586853, 'learning_rate': 0.000836375, 'epoch': 5.24}\n",
      "{'loss': 1.5014, 'grad_norm': 1.5989646911621094, 'learning_rate': 0.000835125, 'epoch': 5.28}\n",
      "{'loss': 1.4669, 'grad_norm': 1.5379945039749146, 'learning_rate': 0.0008338750000000001, 'epoch': 5.32}\n",
      "{'loss': 1.4336, 'grad_norm': 0.9186481237411499, 'learning_rate': 0.0008326249999999999, 'epoch': 5.36}\n",
      "{'loss': 1.4732, 'grad_norm': 2.2695462703704834, 'learning_rate': 0.000831375, 'epoch': 5.4}\n",
      "{'loss': 1.4271, 'grad_norm': 1.593920111656189, 'learning_rate': 0.000830125, 'epoch': 5.44}\n",
      "{'loss': 1.4326, 'grad_norm': 0.9109762907028198, 'learning_rate': 0.0008288750000000001, 'epoch': 5.48}\n",
      "{'loss': 1.4738, 'grad_norm': 1.6020036935806274, 'learning_rate': 0.000827625, 'epoch': 5.52}\n",
      "{'loss': 1.5094, 'grad_norm': 1.0691022872924805, 'learning_rate': 0.000826375, 'epoch': 5.5600000000000005}\n",
      "{'loss': 1.4538, 'grad_norm': 1.5492807626724243, 'learning_rate': 0.000825125, 'epoch': 5.6}\n",
      "{'loss': 1.5269, 'grad_norm': 1.289001226425171, 'learning_rate': 0.0008238750000000001, 'epoch': 5.64}\n",
      "{'loss': 1.4935, 'grad_norm': 1.1198593378067017, 'learning_rate': 0.0008226250000000001, 'epoch': 5.68}\n",
      "{'loss': 1.4374, 'grad_norm': 1.812049150466919, 'learning_rate': 0.000821375, 'epoch': 5.72}\n",
      "{'loss': 1.5134, 'grad_norm': 1.5819157361984253, 'learning_rate': 0.000820125, 'epoch': 5.76}\n",
      "{'loss': 1.5325, 'grad_norm': 1.0167040824890137, 'learning_rate': 0.000818875, 'epoch': 5.8}\n",
      "{'loss': 1.534, 'grad_norm': 1.004920482635498, 'learning_rate': 0.0008176250000000001, 'epoch': 5.84}\n",
      "{'loss': 1.4375, 'grad_norm': 1.0279380083084106, 'learning_rate': 0.0008163749999999999, 'epoch': 5.88}\n",
      "{'loss': 1.4179, 'grad_norm': 1.6043740510940552, 'learning_rate': 0.000815125, 'epoch': 5.92}\n",
      "{'loss': 1.4325, 'grad_norm': 1.5331510305404663, 'learning_rate': 0.000813875, 'epoch': 5.96}\n",
      "{'loss': 1.4078, 'grad_norm': 1.0839847326278687, 'learning_rate': 0.0008126250000000001, 'epoch': 6.0}\n",
      "{'eval_loss': 1.4307986497879028, 'eval_accuracy': 0.468, 'eval_runtime': 18.646, 'eval_samples_per_second': 53.631, 'eval_steps_per_second': 3.379, 'epoch': 6.0}\n"
     ]
    },
    {
     "name": "stderr",
     "output_type": "stream",
     "text": [
      "/Users/ahmedmaher/anaconda3/lib/python3.11/site-packages/torch/utils/data/dataloader.py:683: UserWarning: 'pin_memory' argument is set as true but not supported on MPS now, then device pinned memory won't be used.\n",
      "  warnings.warn(warn_msg)\n"
     ]
    },
    {
     "name": "stdout",
     "output_type": "stream",
     "text": [
      "{'loss': 1.3805, 'grad_norm': 1.338538408279419, 'learning_rate': 0.0008113749999999999, 'epoch': 6.04}\n",
      "{'loss': 1.4761, 'grad_norm': 2.824450731277466, 'learning_rate': 0.000810125, 'epoch': 6.08}\n",
      "{'loss': 1.3984, 'grad_norm': 0.9313728213310242, 'learning_rate': 0.000808875, 'epoch': 6.12}\n",
      "{'loss': 1.4968, 'grad_norm': 1.1128603219985962, 'learning_rate': 0.0008076250000000001, 'epoch': 6.16}\n",
      "{'loss': 1.5198, 'grad_norm': 2.2816097736358643, 'learning_rate': 0.000806375, 'epoch': 6.2}\n",
      "{'loss': 1.3625, 'grad_norm': 0.829047441482544, 'learning_rate': 0.000805125, 'epoch': 6.24}\n",
      "{'loss': 1.4803, 'grad_norm': 2.1348443031311035, 'learning_rate': 0.000803875, 'epoch': 6.28}\n",
      "{'loss': 1.5148, 'grad_norm': 1.3798787593841553, 'learning_rate': 0.0008026250000000001, 'epoch': 6.32}\n",
      "{'loss': 1.282, 'grad_norm': 1.1323866844177246, 'learning_rate': 0.000801375, 'epoch': 6.36}\n",
      "{'loss': 1.4941, 'grad_norm': 2.076516628265381, 'learning_rate': 0.000800125, 'epoch': 6.4}\n",
      "{'loss': 1.4817, 'grad_norm': 1.9956939220428467, 'learning_rate': 0.000798875, 'epoch': 6.44}\n",
      "{'loss': 1.3457, 'grad_norm': 2.5830881595611572, 'learning_rate': 0.000797625, 'epoch': 6.48}\n",
      "{'loss': 1.363, 'grad_norm': 2.363804817199707, 'learning_rate': 0.0007963750000000001, 'epoch': 6.52}\n",
      "{'loss': 1.4158, 'grad_norm': 1.2540754079818726, 'learning_rate': 0.0007951249999999999, 'epoch': 6.5600000000000005}\n",
      "{'loss': 1.5016, 'grad_norm': 1.4149112701416016, 'learning_rate': 0.000793875, 'epoch': 6.6}\n",
      "{'loss': 1.4118, 'grad_norm': 1.3600693941116333, 'learning_rate': 0.000792625, 'epoch': 6.64}\n",
      "{'loss': 1.4758, 'grad_norm': 1.7807947397232056, 'learning_rate': 0.0007913750000000001, 'epoch': 6.68}\n",
      "{'loss': 1.5057, 'grad_norm': 1.353973627090454, 'learning_rate': 0.000790125, 'epoch': 6.72}\n",
      "{'loss': 1.4632, 'grad_norm': 1.0831823348999023, 'learning_rate': 0.000788875, 'epoch': 6.76}\n",
      "{'loss': 1.4461, 'grad_norm': 1.1069079637527466, 'learning_rate': 0.000787625, 'epoch': 6.8}\n",
      "{'loss': 1.4736, 'grad_norm': 1.3964869976043701, 'learning_rate': 0.0007863750000000001, 'epoch': 6.84}\n",
      "{'loss': 1.2591, 'grad_norm': 2.4275171756744385, 'learning_rate': 0.000785125, 'epoch': 6.88}\n",
      "{'loss': 1.3682, 'grad_norm': 1.4565542936325073, 'learning_rate': 0.000783875, 'epoch': 6.92}\n",
      "{'loss': 1.4484, 'grad_norm': 0.9049651026725769, 'learning_rate': 0.000782625, 'epoch': 6.96}\n",
      "{'loss': 1.3737, 'grad_norm': 1.302458643913269, 'learning_rate': 0.0007813750000000001, 'epoch': 7.0}\n",
      "{'eval_loss': 1.4730688333511353, 'eval_accuracy': 0.45, 'eval_runtime': 64.6629, 'eval_samples_per_second': 15.465, 'eval_steps_per_second': 0.974, 'epoch': 7.0}\n"
     ]
    },
    {
     "name": "stderr",
     "output_type": "stream",
     "text": [
      "/Users/ahmedmaher/anaconda3/lib/python3.11/site-packages/torch/utils/data/dataloader.py:683: UserWarning: 'pin_memory' argument is set as true but not supported on MPS now, then device pinned memory won't be used.\n",
      "  warnings.warn(warn_msg)\n"
     ]
    },
    {
     "name": "stdout",
     "output_type": "stream",
     "text": [
      "{'loss': 1.3157, 'grad_norm': 1.1444222927093506, 'learning_rate': 0.000780125, 'epoch': 7.04}\n",
      "{'loss': 1.29, 'grad_norm': 1.1540759801864624, 'learning_rate': 0.000778875, 'epoch': 7.08}\n",
      "{'loss': 1.2692, 'grad_norm': 2.123654365539551, 'learning_rate': 0.000777625, 'epoch': 7.12}\n",
      "{'loss': 1.5087, 'grad_norm': 1.2094258069992065, 'learning_rate': 0.000776375, 'epoch': 7.16}\n",
      "{'loss': 1.3344, 'grad_norm': 0.8078449368476868, 'learning_rate': 0.000775125, 'epoch': 7.2}\n",
      "{'loss': 1.4252, 'grad_norm': 1.9086836576461792, 'learning_rate': 0.000773875, 'epoch': 7.24}\n",
      "{'loss': 1.4259, 'grad_norm': 0.9477090835571289, 'learning_rate': 0.000772625, 'epoch': 7.28}\n",
      "{'loss': 1.3712, 'grad_norm': 1.4253480434417725, 'learning_rate': 0.000771375, 'epoch': 7.32}\n",
      "{'loss': 1.574, 'grad_norm': 1.3551923036575317, 'learning_rate': 0.000770125, 'epoch': 7.36}\n",
      "{'loss': 1.4539, 'grad_norm': 1.379867434501648, 'learning_rate': 0.000768875, 'epoch': 7.4}\n",
      "{'loss': 1.3696, 'grad_norm': 1.2172185182571411, 'learning_rate': 0.000767625, 'epoch': 7.44}\n",
      "{'loss': 1.4379, 'grad_norm': 1.0050994157791138, 'learning_rate': 0.000766375, 'epoch': 7.48}\n",
      "{'loss': 1.3946, 'grad_norm': 1.4181513786315918, 'learning_rate': 0.0007651250000000001, 'epoch': 7.52}\n",
      "{'loss': 1.2824, 'grad_norm': 1.4201258420944214, 'learning_rate': 0.000763875, 'epoch': 7.5600000000000005}\n",
      "{'loss': 1.2946, 'grad_norm': 1.5890347957611084, 'learning_rate': 0.0007626250000000001, 'epoch': 7.6}\n",
      "{'loss': 1.4921, 'grad_norm': 1.9426181316375732, 'learning_rate': 0.000761375, 'epoch': 7.64}\n",
      "{'loss': 1.2818, 'grad_norm': 1.6678727865219116, 'learning_rate': 0.0007601250000000001, 'epoch': 7.68}\n",
      "{'loss': 1.3006, 'grad_norm': 1.2783455848693848, 'learning_rate': 0.000758875, 'epoch': 7.72}\n",
      "{'loss': 1.3263, 'grad_norm': 1.7386724948883057, 'learning_rate': 0.000757625, 'epoch': 7.76}\n",
      "{'loss': 1.4523, 'grad_norm': 1.395483136177063, 'learning_rate': 0.000756375, 'epoch': 7.8}\n",
      "{'loss': 1.5095, 'grad_norm': 1.3241469860076904, 'learning_rate': 0.000755125, 'epoch': 7.84}\n",
      "{'loss': 1.2688, 'grad_norm': 0.9486753344535828, 'learning_rate': 0.000753875, 'epoch': 7.88}\n",
      "{'loss': 1.2663, 'grad_norm': 1.4149796962738037, 'learning_rate': 0.000752625, 'epoch': 7.92}\n",
      "{'loss': 1.3873, 'grad_norm': 1.077956199645996, 'learning_rate': 0.000751375, 'epoch': 7.96}\n",
      "{'loss': 1.2293, 'grad_norm': 1.2179741859436035, 'learning_rate': 0.000750125, 'epoch': 8.0}\n",
      "{'eval_loss': 1.403470516204834, 'eval_accuracy': 0.483, 'eval_runtime': 20.8744, 'eval_samples_per_second': 47.905, 'eval_steps_per_second': 3.018, 'epoch': 8.0}\n"
     ]
    },
    {
     "name": "stderr",
     "output_type": "stream",
     "text": [
      "/Users/ahmedmaher/anaconda3/lib/python3.11/site-packages/torch/utils/data/dataloader.py:683: UserWarning: 'pin_memory' argument is set as true but not supported on MPS now, then device pinned memory won't be used.\n",
      "  warnings.warn(warn_msg)\n"
     ]
    },
    {
     "name": "stdout",
     "output_type": "stream",
     "text": [
      "{'loss': 1.2798, 'grad_norm': 1.6842150688171387, 'learning_rate': 0.000748875, 'epoch': 8.04}\n",
      "{'loss': 1.3682, 'grad_norm': 1.631882905960083, 'learning_rate': 0.000747625, 'epoch': 8.08}\n",
      "{'loss': 1.3677, 'grad_norm': 1.4546489715576172, 'learning_rate': 0.0007463750000000001, 'epoch': 8.12}\n",
      "{'loss': 1.2174, 'grad_norm': 0.9130122661590576, 'learning_rate': 0.000745125, 'epoch': 8.16}\n",
      "{'loss': 1.3495, 'grad_norm': 2.0730948448181152, 'learning_rate': 0.000743875, 'epoch': 8.2}\n",
      "{'loss': 1.2813, 'grad_norm': 1.307197093963623, 'learning_rate': 0.000742625, 'epoch': 8.24}\n",
      "{'loss': 1.4057, 'grad_norm': 2.0071425437927246, 'learning_rate': 0.0007413750000000001, 'epoch': 8.28}\n",
      "{'loss': 1.2805, 'grad_norm': 1.917433738708496, 'learning_rate': 0.000740125, 'epoch': 8.32}\n",
      "{'loss': 1.3834, 'grad_norm': 1.2867121696472168, 'learning_rate': 0.000738875, 'epoch': 8.36}\n",
      "{'loss': 1.4999, 'grad_norm': 1.5648157596588135, 'learning_rate': 0.000737625, 'epoch': 8.4}\n",
      "{'loss': 1.404, 'grad_norm': 0.807401716709137, 'learning_rate': 0.000736375, 'epoch': 8.44}\n",
      "{'loss': 1.4172, 'grad_norm': 1.1866965293884277, 'learning_rate': 0.000735125, 'epoch': 8.48}\n",
      "{'loss': 1.1977, 'grad_norm': 1.0965889692306519, 'learning_rate': 0.000733875, 'epoch': 8.52}\n",
      "{'loss': 1.2972, 'grad_norm': 1.0574965476989746, 'learning_rate': 0.000732625, 'epoch': 8.56}\n",
      "{'loss': 1.2985, 'grad_norm': 1.6164979934692383, 'learning_rate': 0.000731375, 'epoch': 8.6}\n",
      "{'loss': 1.395, 'grad_norm': 1.0739964246749878, 'learning_rate': 0.0007301250000000001, 'epoch': 8.64}\n",
      "{'loss': 1.3578, 'grad_norm': 2.064293622970581, 'learning_rate': 0.000728875, 'epoch': 8.68}\n",
      "{'loss': 1.2654, 'grad_norm': 1.095423698425293, 'learning_rate': 0.000727625, 'epoch': 8.72}\n",
      "{'loss': 1.5627, 'grad_norm': 2.1166939735412598, 'learning_rate': 0.000726375, 'epoch': 8.76}\n",
      "{'loss': 1.2641, 'grad_norm': 1.3741785287857056, 'learning_rate': 0.0007251250000000001, 'epoch': 8.8}\n",
      "{'loss': 1.2516, 'grad_norm': 1.594953179359436, 'learning_rate': 0.000723875, 'epoch': 8.84}\n",
      "{'loss': 1.4715, 'grad_norm': 1.551034927368164, 'learning_rate': 0.000722625, 'epoch': 8.88}\n",
      "{'loss': 1.3312, 'grad_norm': 1.5167617797851562, 'learning_rate': 0.000721375, 'epoch': 8.92}\n",
      "{'loss': 1.3527, 'grad_norm': 1.0776280164718628, 'learning_rate': 0.0007201250000000001, 'epoch': 8.96}\n",
      "{'loss': 1.399, 'grad_norm': 1.6612000465393066, 'learning_rate': 0.000718875, 'epoch': 9.0}\n",
      "{'eval_loss': 1.3945976495742798, 'eval_accuracy': 0.488, 'eval_runtime': 19.742, 'eval_samples_per_second': 50.653, 'eval_steps_per_second': 3.191, 'epoch': 9.0}\n"
     ]
    },
    {
     "name": "stderr",
     "output_type": "stream",
     "text": [
      "/Users/ahmedmaher/anaconda3/lib/python3.11/site-packages/torch/utils/data/dataloader.py:683: UserWarning: 'pin_memory' argument is set as true but not supported on MPS now, then device pinned memory won't be used.\n",
      "  warnings.warn(warn_msg)\n"
     ]
    },
    {
     "name": "stdout",
     "output_type": "stream",
     "text": [
      "{'loss': 1.2742, 'grad_norm': 0.8800092935562134, 'learning_rate': 0.000717625, 'epoch': 9.04}\n",
      "{'loss': 1.3935, 'grad_norm': 1.6455706357955933, 'learning_rate': 0.000716375, 'epoch': 9.08}\n",
      "{'loss': 1.3103, 'grad_norm': 1.7267025709152222, 'learning_rate': 0.000715125, 'epoch': 9.12}\n",
      "{'loss': 1.4944, 'grad_norm': 1.9768558740615845, 'learning_rate': 0.0007138750000000001, 'epoch': 9.16}\n",
      "{'loss': 1.3493, 'grad_norm': 1.275032877922058, 'learning_rate': 0.0007126249999999999, 'epoch': 9.2}\n",
      "{'loss': 1.2892, 'grad_norm': 1.1629246473312378, 'learning_rate': 0.000711375, 'epoch': 9.24}\n",
      "{'loss': 1.1996, 'grad_norm': 1.936543583869934, 'learning_rate': 0.000710125, 'epoch': 9.28}\n",
      "{'loss': 1.2549, 'grad_norm': 1.3366206884384155, 'learning_rate': 0.0007088750000000001, 'epoch': 9.32}\n",
      "{'loss': 1.3193, 'grad_norm': 1.1504706144332886, 'learning_rate': 0.0007076249999999999, 'epoch': 9.36}\n",
      "{'loss': 1.3334, 'grad_norm': 1.7481998205184937, 'learning_rate': 0.000706375, 'epoch': 9.4}\n",
      "{'loss': 1.4901, 'grad_norm': 0.8087753653526306, 'learning_rate': 0.000705125, 'epoch': 9.44}\n",
      "{'loss': 1.4205, 'grad_norm': 1.3628305196762085, 'learning_rate': 0.0007038750000000001, 'epoch': 9.48}\n",
      "{'loss': 1.5507, 'grad_norm': 1.5599178075790405, 'learning_rate': 0.000702625, 'epoch': 9.52}\n",
      "{'loss': 1.3101, 'grad_norm': 1.6657449007034302, 'learning_rate': 0.000701375, 'epoch': 9.56}\n",
      "{'loss': 1.362, 'grad_norm': 1.2821439504623413, 'learning_rate': 0.000700125, 'epoch': 9.6}\n",
      "{'loss': 1.1477, 'grad_norm': 1.6951148509979248, 'learning_rate': 0.0006988750000000001, 'epoch': 9.64}\n",
      "{'loss': 1.2262, 'grad_norm': 1.0901389122009277, 'learning_rate': 0.0006976250000000001, 'epoch': 9.68}\n",
      "{'loss': 1.3025, 'grad_norm': 1.44188392162323, 'learning_rate': 0.0006963749999999999, 'epoch': 9.72}\n",
      "{'loss': 1.2282, 'grad_norm': 1.1146453619003296, 'learning_rate': 0.000695125, 'epoch': 9.76}\n",
      "{'loss': 1.2208, 'grad_norm': 1.2071495056152344, 'learning_rate': 0.000693875, 'epoch': 9.8}\n",
      "{'loss': 1.3257, 'grad_norm': 1.670434832572937, 'learning_rate': 0.0006926250000000001, 'epoch': 9.84}\n",
      "{'loss': 1.2837, 'grad_norm': 1.2390587329864502, 'learning_rate': 0.0006913749999999999, 'epoch': 9.88}\n",
      "{'loss': 1.1038, 'grad_norm': 1.4368643760681152, 'learning_rate': 0.000690125, 'epoch': 9.92}\n",
      "{'loss': 1.4877, 'grad_norm': 1.0509928464889526, 'learning_rate': 0.000688875, 'epoch': 9.96}\n",
      "{'loss': 1.2343, 'grad_norm': 1.273964524269104, 'learning_rate': 0.0006876250000000001, 'epoch': 10.0}\n",
      "{'eval_loss': 1.446244716644287, 'eval_accuracy': 0.471, 'eval_runtime': 139.2718, 'eval_samples_per_second': 7.18, 'eval_steps_per_second': 0.452, 'epoch': 10.0}\n"
     ]
    },
    {
     "name": "stderr",
     "output_type": "stream",
     "text": [
      "/Users/ahmedmaher/anaconda3/lib/python3.11/site-packages/torch/utils/data/dataloader.py:683: UserWarning: 'pin_memory' argument is set as true but not supported on MPS now, then device pinned memory won't be used.\n",
      "  warnings.warn(warn_msg)\n"
     ]
    },
    {
     "name": "stdout",
     "output_type": "stream",
     "text": [
      "{'loss': 1.4852, 'grad_norm': 1.5137310028076172, 'learning_rate': 0.0006863749999999999, 'epoch': 10.04}\n",
      "{'loss': 1.2742, 'grad_norm': 2.0883331298828125, 'learning_rate': 0.000685125, 'epoch': 10.08}\n",
      "{'loss': 1.237, 'grad_norm': 2.1337201595306396, 'learning_rate': 0.000683875, 'epoch': 10.12}\n",
      "{'loss': 1.2407, 'grad_norm': 1.4778368473052979, 'learning_rate': 0.0006826250000000001, 'epoch': 10.16}\n",
      "{'loss': 1.0943, 'grad_norm': 1.2165096998214722, 'learning_rate': 0.000681375, 'epoch': 10.2}\n",
      "{'loss': 1.387, 'grad_norm': 1.5528806447982788, 'learning_rate': 0.000680125, 'epoch': 10.24}\n",
      "{'loss': 1.3581, 'grad_norm': 1.118728518486023, 'learning_rate': 0.000678875, 'epoch': 10.28}\n",
      "{'loss': 1.2976, 'grad_norm': 1.8761883974075317, 'learning_rate': 0.0006776250000000001, 'epoch': 10.32}\n",
      "{'loss': 1.086, 'grad_norm': 1.573439359664917, 'learning_rate': 0.000676375, 'epoch': 10.36}\n",
      "{'loss': 1.3664, 'grad_norm': 1.7740215063095093, 'learning_rate': 0.0006751249999999999, 'epoch': 10.4}\n",
      "{'loss': 1.2126, 'grad_norm': 1.0218825340270996, 'learning_rate': 0.000673875, 'epoch': 10.44}\n",
      "{'loss': 1.3039, 'grad_norm': 1.6008720397949219, 'learning_rate': 0.000672625, 'epoch': 10.48}\n",
      "{'loss': 1.3323, 'grad_norm': 1.383799433708191, 'learning_rate': 0.0006713750000000001, 'epoch': 10.52}\n",
      "{'loss': 1.2586, 'grad_norm': 1.0579314231872559, 'learning_rate': 0.0006701249999999999, 'epoch': 10.56}\n",
      "{'loss': 1.3092, 'grad_norm': 2.0913357734680176, 'learning_rate': 0.000668875, 'epoch': 10.6}\n",
      "{'loss': 1.3109, 'grad_norm': 1.1351569890975952, 'learning_rate': 0.000667625, 'epoch': 10.64}\n",
      "{'loss': 1.3359, 'grad_norm': 1.4019780158996582, 'learning_rate': 0.0006663750000000001, 'epoch': 10.68}\n",
      "{'loss': 1.2609, 'grad_norm': 1.3519978523254395, 'learning_rate': 0.000665125, 'epoch': 10.72}\n",
      "{'loss': 1.2532, 'grad_norm': 1.5514607429504395, 'learning_rate': 0.000663875, 'epoch': 10.76}\n",
      "{'loss': 1.1442, 'grad_norm': 1.3555355072021484, 'learning_rate': 0.000662625, 'epoch': 10.8}\n",
      "{'loss': 1.1384, 'grad_norm': 1.5627397298812866, 'learning_rate': 0.0006613750000000001, 'epoch': 10.84}\n",
      "{'loss': 1.3617, 'grad_norm': 1.4946885108947754, 'learning_rate': 0.000660125, 'epoch': 10.88}\n",
      "{'loss': 1.2652, 'grad_norm': 1.0824296474456787, 'learning_rate': 0.000658875, 'epoch': 10.92}\n",
      "{'loss': 1.2262, 'grad_norm': 1.4107749462127686, 'learning_rate': 0.000657625, 'epoch': 10.96}\n",
      "{'loss': 1.2249, 'grad_norm': 1.0894542932510376, 'learning_rate': 0.0006563750000000001, 'epoch': 11.0}\n",
      "{'eval_loss': 1.3232386112213135, 'eval_accuracy': 0.502, 'eval_runtime': 42.6338, 'eval_samples_per_second': 23.456, 'eval_steps_per_second': 1.478, 'epoch': 11.0}\n"
     ]
    },
    {
     "name": "stderr",
     "output_type": "stream",
     "text": [
      "/Users/ahmedmaher/anaconda3/lib/python3.11/site-packages/torch/utils/data/dataloader.py:683: UserWarning: 'pin_memory' argument is set as true but not supported on MPS now, then device pinned memory won't be used.\n",
      "  warnings.warn(warn_msg)\n"
     ]
    },
    {
     "name": "stdout",
     "output_type": "stream",
     "text": [
      "{'loss': 1.1434, 'grad_norm': 0.9951177835464478, 'learning_rate': 0.000655125, 'epoch': 11.04}\n",
      "{'loss': 1.3445, 'grad_norm': 1.8161180019378662, 'learning_rate': 0.000653875, 'epoch': 11.08}\n",
      "{'loss': 1.2698, 'grad_norm': 1.8296787738800049, 'learning_rate': 0.000652625, 'epoch': 11.12}\n",
      "{'loss': 1.2046, 'grad_norm': 1.5451366901397705, 'learning_rate': 0.000651375, 'epoch': 11.16}\n",
      "{'loss': 1.1685, 'grad_norm': 1.1257987022399902, 'learning_rate': 0.000650125, 'epoch': 11.2}\n",
      "{'loss': 1.2248, 'grad_norm': 1.7494919300079346, 'learning_rate': 0.000648875, 'epoch': 11.24}\n",
      "{'loss': 1.1931, 'grad_norm': 1.675409197807312, 'learning_rate': 0.000647625, 'epoch': 11.28}\n",
      "{'loss': 1.1689, 'grad_norm': 0.9219047427177429, 'learning_rate': 0.000646375, 'epoch': 11.32}\n",
      "{'loss': 1.2946, 'grad_norm': 1.2447222471237183, 'learning_rate': 0.000645125, 'epoch': 11.36}\n",
      "{'loss': 1.2612, 'grad_norm': 0.7807382941246033, 'learning_rate': 0.000643875, 'epoch': 11.4}\n",
      "{'loss': 1.2512, 'grad_norm': 0.9321337938308716, 'learning_rate': 0.000642625, 'epoch': 11.44}\n",
      "{'loss': 1.399, 'grad_norm': 1.6291981935501099, 'learning_rate': 0.000641375, 'epoch': 11.48}\n",
      "{'loss': 1.1838, 'grad_norm': 1.1692287921905518, 'learning_rate': 0.0006401250000000001, 'epoch': 11.52}\n",
      "{'loss': 1.1848, 'grad_norm': 1.3796311616897583, 'learning_rate': 0.000638875, 'epoch': 11.56}\n",
      "{'loss': 1.1, 'grad_norm': 1.171609878540039, 'learning_rate': 0.0006376250000000001, 'epoch': 11.6}\n",
      "{'loss': 1.2698, 'grad_norm': 2.8642489910125732, 'learning_rate': 0.000636375, 'epoch': 11.64}\n",
      "{'loss': 1.403, 'grad_norm': 1.2946645021438599, 'learning_rate': 0.0006351250000000001, 'epoch': 11.68}\n",
      "{'loss': 1.1324, 'grad_norm': 1.0433131456375122, 'learning_rate': 0.000633875, 'epoch': 11.72}\n",
      "{'loss': 1.224, 'grad_norm': 1.5075067281723022, 'learning_rate': 0.000632625, 'epoch': 11.76}\n",
      "{'loss': 1.3164, 'grad_norm': 1.6142232418060303, 'learning_rate': 0.000631375, 'epoch': 11.8}\n",
      "{'loss': 1.2386, 'grad_norm': 1.8466119766235352, 'learning_rate': 0.000630125, 'epoch': 11.84}\n",
      "{'loss': 1.237, 'grad_norm': 1.2896497249603271, 'learning_rate': 0.000628875, 'epoch': 11.88}\n",
      "{'loss': 1.1142, 'grad_norm': 2.5657639503479004, 'learning_rate': 0.000627625, 'epoch': 11.92}\n",
      "{'loss': 1.3808, 'grad_norm': 1.4654109477996826, 'learning_rate': 0.000626375, 'epoch': 11.96}\n",
      "{'loss': 1.2475, 'grad_norm': 2.1926724910736084, 'learning_rate': 0.000625125, 'epoch': 12.0}\n",
      "{'eval_loss': 1.3006242513656616, 'eval_accuracy': 0.536, 'eval_runtime': 16.7902, 'eval_samples_per_second': 59.559, 'eval_steps_per_second': 3.752, 'epoch': 12.0}\n"
     ]
    },
    {
     "name": "stderr",
     "output_type": "stream",
     "text": [
      "/Users/ahmedmaher/anaconda3/lib/python3.11/site-packages/torch/utils/data/dataloader.py:683: UserWarning: 'pin_memory' argument is set as true but not supported on MPS now, then device pinned memory won't be used.\n",
      "  warnings.warn(warn_msg)\n"
     ]
    },
    {
     "name": "stdout",
     "output_type": "stream",
     "text": [
      "{'loss': 1.2995, 'grad_norm': 1.381748080253601, 'learning_rate': 0.000623875, 'epoch': 12.04}\n",
      "{'loss': 1.237, 'grad_norm': 1.641718864440918, 'learning_rate': 0.000622625, 'epoch': 12.08}\n",
      "{'loss': 1.1251, 'grad_norm': 1.6586359739303589, 'learning_rate': 0.0006213750000000001, 'epoch': 12.12}\n",
      "{'loss': 1.2755, 'grad_norm': 1.4062894582748413, 'learning_rate': 0.000620125, 'epoch': 12.16}\n",
      "{'loss': 1.164, 'grad_norm': 1.4981505870819092, 'learning_rate': 0.000618875, 'epoch': 12.2}\n",
      "{'loss': 1.3346, 'grad_norm': 1.3617616891860962, 'learning_rate': 0.000617625, 'epoch': 12.24}\n",
      "{'loss': 1.3244, 'grad_norm': 1.2453640699386597, 'learning_rate': 0.0006163750000000001, 'epoch': 12.28}\n",
      "{'loss': 1.3661, 'grad_norm': 2.457728385925293, 'learning_rate': 0.000615125, 'epoch': 12.32}\n",
      "{'loss': 1.2871, 'grad_norm': 1.4391382932662964, 'learning_rate': 0.000613875, 'epoch': 12.36}\n",
      "{'loss': 1.1314, 'grad_norm': 1.2715396881103516, 'learning_rate': 0.000612625, 'epoch': 12.4}\n",
      "{'loss': 1.1725, 'grad_norm': 1.5188817977905273, 'learning_rate': 0.000611375, 'epoch': 12.44}\n",
      "{'loss': 1.2156, 'grad_norm': 0.9305505752563477, 'learning_rate': 0.000610125, 'epoch': 12.48}\n",
      "{'loss': 1.1328, 'grad_norm': 1.6520296335220337, 'learning_rate': 0.000608875, 'epoch': 12.52}\n",
      "{'loss': 1.2444, 'grad_norm': 1.8197463750839233, 'learning_rate': 0.000607625, 'epoch': 12.56}\n",
      "{'loss': 1.1556, 'grad_norm': 1.08734929561615, 'learning_rate': 0.000606375, 'epoch': 12.6}\n",
      "{'loss': 1.2889, 'grad_norm': 0.8100305795669556, 'learning_rate': 0.0006051250000000001, 'epoch': 12.64}\n",
      "{'loss': 1.0468, 'grad_norm': 1.1561622619628906, 'learning_rate': 0.000603875, 'epoch': 12.68}\n",
      "{'loss': 1.2463, 'grad_norm': 1.3974826335906982, 'learning_rate': 0.000602625, 'epoch': 12.72}\n",
      "{'loss': 1.288, 'grad_norm': 1.1997393369674683, 'learning_rate': 0.000601375, 'epoch': 12.76}\n",
      "{'loss': 1.1293, 'grad_norm': 1.1573063135147095, 'learning_rate': 0.0006001250000000001, 'epoch': 12.8}\n",
      "{'loss': 1.1663, 'grad_norm': 1.3747910261154175, 'learning_rate': 0.000598875, 'epoch': 12.84}\n",
      "{'loss': 1.1291, 'grad_norm': 1.6920256614685059, 'learning_rate': 0.000597625, 'epoch': 12.88}\n",
      "{'loss': 1.2889, 'grad_norm': 1.0458571910858154, 'learning_rate': 0.000596375, 'epoch': 12.92}\n",
      "{'loss': 1.1806, 'grad_norm': 2.0513558387756348, 'learning_rate': 0.0005951250000000001, 'epoch': 12.96}\n",
      "{'loss': 1.2448, 'grad_norm': 1.4692803621292114, 'learning_rate': 0.000593875, 'epoch': 13.0}\n",
      "{'eval_loss': 1.2439509630203247, 'eval_accuracy': 0.531, 'eval_runtime': 264.2172, 'eval_samples_per_second': 3.785, 'eval_steps_per_second': 0.238, 'epoch': 13.0}\n"
     ]
    },
    {
     "name": "stderr",
     "output_type": "stream",
     "text": [
      "/Users/ahmedmaher/anaconda3/lib/python3.11/site-packages/torch/utils/data/dataloader.py:683: UserWarning: 'pin_memory' argument is set as true but not supported on MPS now, then device pinned memory won't be used.\n",
      "  warnings.warn(warn_msg)\n"
     ]
    },
    {
     "name": "stdout",
     "output_type": "stream",
     "text": [
      "{'loss': 1.1425, 'grad_norm': 1.1297804117202759, 'learning_rate': 0.0005926249999999999, 'epoch': 13.04}\n",
      "{'loss': 1.1821, 'grad_norm': 1.5054482221603394, 'learning_rate': 0.000591375, 'epoch': 13.08}\n",
      "{'loss': 1.2035, 'grad_norm': 1.772578477859497, 'learning_rate': 0.000590125, 'epoch': 13.12}\n",
      "{'loss': 1.2162, 'grad_norm': 1.397840142250061, 'learning_rate': 0.0005888750000000001, 'epoch': 13.16}\n",
      "{'loss': 1.1345, 'grad_norm': 1.67515230178833, 'learning_rate': 0.0005876249999999999, 'epoch': 13.2}\n",
      "{'loss': 1.2286, 'grad_norm': 1.6817145347595215, 'learning_rate': 0.000586375, 'epoch': 13.24}\n",
      "{'loss': 1.2969, 'grad_norm': 1.3059513568878174, 'learning_rate': 0.000585125, 'epoch': 13.28}\n",
      "{'loss': 1.2238, 'grad_norm': 1.393142580986023, 'learning_rate': 0.0005838750000000001, 'epoch': 13.32}\n",
      "{'loss': 1.1977, 'grad_norm': 0.9415990114212036, 'learning_rate': 0.0005826249999999999, 'epoch': 13.36}\n",
      "{'loss': 1.1253, 'grad_norm': 1.300747275352478, 'learning_rate': 0.000581375, 'epoch': 13.4}\n",
      "{'loss': 1.094, 'grad_norm': 1.274975299835205, 'learning_rate': 0.000580125, 'epoch': 13.44}\n",
      "{'loss': 0.9075, 'grad_norm': 0.9539290070533752, 'learning_rate': 0.0005788750000000001, 'epoch': 13.48}\n",
      "{'loss': 1.1928, 'grad_norm': 1.093443512916565, 'learning_rate': 0.000577625, 'epoch': 13.52}\n",
      "{'loss': 1.2567, 'grad_norm': 1.3461432456970215, 'learning_rate': 0.000576375, 'epoch': 13.56}\n",
      "{'loss': 1.0668, 'grad_norm': 1.2393983602523804, 'learning_rate': 0.000575125, 'epoch': 13.6}\n",
      "{'loss': 1.1445, 'grad_norm': 1.6875174045562744, 'learning_rate': 0.0005738750000000001, 'epoch': 13.64}\n",
      "{'loss': 1.2528, 'grad_norm': 1.7503775358200073, 'learning_rate': 0.0005726250000000001, 'epoch': 13.68}\n",
      "{'loss': 1.1518, 'grad_norm': 1.171203374862671, 'learning_rate': 0.0005713749999999999, 'epoch': 13.72}\n",
      "{'loss': 1.2677, 'grad_norm': 1.239432454109192, 'learning_rate': 0.000570125, 'epoch': 13.76}\n",
      "{'loss': 1.1337, 'grad_norm': 1.085540533065796, 'learning_rate': 0.000568875, 'epoch': 13.8}\n",
      "{'loss': 1.2444, 'grad_norm': 0.8498613238334656, 'learning_rate': 0.0005676250000000001, 'epoch': 13.84}\n",
      "{'loss': 1.1675, 'grad_norm': 1.778051495552063, 'learning_rate': 0.0005663749999999999, 'epoch': 13.88}\n",
      "{'loss': 1.3049, 'grad_norm': 2.0070719718933105, 'learning_rate': 0.000565125, 'epoch': 13.92}\n",
      "{'loss': 1.3074, 'grad_norm': 1.1714504957199097, 'learning_rate': 0.000563875, 'epoch': 13.96}\n",
      "{'loss': 1.1304, 'grad_norm': 1.2175559997558594, 'learning_rate': 0.0005626250000000001, 'epoch': 14.0}\n",
      "{'eval_loss': 1.2684992551803589, 'eval_accuracy': 0.543, 'eval_runtime': 19.2237, 'eval_samples_per_second': 52.019, 'eval_steps_per_second': 3.277, 'epoch': 14.0}\n"
     ]
    },
    {
     "name": "stderr",
     "output_type": "stream",
     "text": [
      "/Users/ahmedmaher/anaconda3/lib/python3.11/site-packages/torch/utils/data/dataloader.py:683: UserWarning: 'pin_memory' argument is set as true but not supported on MPS now, then device pinned memory won't be used.\n",
      "  warnings.warn(warn_msg)\n"
     ]
    },
    {
     "name": "stdout",
     "output_type": "stream",
     "text": [
      "{'loss': 1.2424, 'grad_norm': 1.4646997451782227, 'learning_rate': 0.0005613749999999999, 'epoch': 14.04}\n",
      "{'loss': 1.2681, 'grad_norm': 1.3315969705581665, 'learning_rate': 0.000560125, 'epoch': 14.08}\n",
      "{'loss': 1.0774, 'grad_norm': 1.9096434116363525, 'learning_rate': 0.000558875, 'epoch': 14.12}\n",
      "{'loss': 1.0674, 'grad_norm': 1.5859428644180298, 'learning_rate': 0.0005576250000000001, 'epoch': 14.16}\n",
      "{'loss': 1.2086, 'grad_norm': 1.6815963983535767, 'learning_rate': 0.000556375, 'epoch': 14.2}\n",
      "{'loss': 1.0865, 'grad_norm': 2.5520124435424805, 'learning_rate': 0.000555125, 'epoch': 14.24}\n",
      "{'loss': 1.2161, 'grad_norm': 1.9632490873336792, 'learning_rate': 0.000553875, 'epoch': 14.28}\n",
      "{'loss': 1.2942, 'grad_norm': 1.1865708827972412, 'learning_rate': 0.0005526250000000001, 'epoch': 14.32}\n",
      "{'loss': 1.159, 'grad_norm': 1.3188966512680054, 'learning_rate': 0.000551375, 'epoch': 14.36}\n",
      "{'loss': 1.1559, 'grad_norm': 1.2283549308776855, 'learning_rate': 0.0005501249999999999, 'epoch': 14.4}\n",
      "{'loss': 1.2726, 'grad_norm': 1.505340337753296, 'learning_rate': 0.000548875, 'epoch': 14.44}\n",
      "{'loss': 1.0136, 'grad_norm': 1.5948035717010498, 'learning_rate': 0.000547625, 'epoch': 14.48}\n",
      "{'loss': 1.2667, 'grad_norm': 1.5217219591140747, 'learning_rate': 0.0005463750000000001, 'epoch': 14.52}\n",
      "{'loss': 1.2753, 'grad_norm': 1.3101320266723633, 'learning_rate': 0.0005451249999999999, 'epoch': 14.56}\n",
      "{'loss': 1.0717, 'grad_norm': 1.1883049011230469, 'learning_rate': 0.000543875, 'epoch': 14.6}\n",
      "{'loss': 1.0688, 'grad_norm': 1.1922229528427124, 'learning_rate': 0.000542625, 'epoch': 14.64}\n",
      "{'loss': 1.193, 'grad_norm': 1.7015804052352905, 'learning_rate': 0.0005413750000000001, 'epoch': 14.68}\n",
      "{'loss': 1.0952, 'grad_norm': 1.6900643110275269, 'learning_rate': 0.000540125, 'epoch': 14.72}\n",
      "{'loss': 1.1708, 'grad_norm': 1.6320735216140747, 'learning_rate': 0.000538875, 'epoch': 14.76}\n",
      "{'loss': 1.1359, 'grad_norm': 1.2079439163208008, 'learning_rate': 0.000537625, 'epoch': 14.8}\n",
      "{'loss': 1.118, 'grad_norm': 1.3002195358276367, 'learning_rate': 0.0005363750000000001, 'epoch': 14.84}\n",
      "{'loss': 1.1334, 'grad_norm': 1.9699681997299194, 'learning_rate': 0.000535125, 'epoch': 14.88}\n",
      "{'loss': 1.2861, 'grad_norm': 1.7868270874023438, 'learning_rate': 0.000533875, 'epoch': 14.92}\n",
      "{'loss': 1.1121, 'grad_norm': 1.0399363040924072, 'learning_rate': 0.000532625, 'epoch': 14.96}\n",
      "{'loss': 1.2454, 'grad_norm': 1.493041753768921, 'learning_rate': 0.0005313750000000001, 'epoch': 15.0}\n",
      "{'eval_loss': 1.3070915937423706, 'eval_accuracy': 0.551, 'eval_runtime': 113.7945, 'eval_samples_per_second': 8.788, 'eval_steps_per_second': 0.554, 'epoch': 15.0}\n"
     ]
    },
    {
     "name": "stderr",
     "output_type": "stream",
     "text": [
      "/Users/ahmedmaher/anaconda3/lib/python3.11/site-packages/torch/utils/data/dataloader.py:683: UserWarning: 'pin_memory' argument is set as true but not supported on MPS now, then device pinned memory won't be used.\n",
      "  warnings.warn(warn_msg)\n"
     ]
    },
    {
     "name": "stdout",
     "output_type": "stream",
     "text": [
      "{'loss': 1.0202, 'grad_norm': 1.1948020458221436, 'learning_rate': 0.000530125, 'epoch': 15.04}\n",
      "{'loss': 1.1816, 'grad_norm': 1.5306466817855835, 'learning_rate': 0.000528875, 'epoch': 15.08}\n",
      "{'loss': 1.1186, 'grad_norm': 1.745948076248169, 'learning_rate': 0.000527625, 'epoch': 15.12}\n",
      "{'loss': 1.1594, 'grad_norm': 1.4770673513412476, 'learning_rate': 0.000526375, 'epoch': 15.16}\n",
      "{'loss': 1.2794, 'grad_norm': 1.7748594284057617, 'learning_rate': 0.000525125, 'epoch': 15.2}\n",
      "{'loss': 1.0684, 'grad_norm': 1.5489381551742554, 'learning_rate': 0.000523875, 'epoch': 15.24}\n",
      "{'loss': 1.059, 'grad_norm': 1.7903481721878052, 'learning_rate': 0.000522625, 'epoch': 15.28}\n",
      "{'loss': 1.0917, 'grad_norm': 1.3848718404769897, 'learning_rate': 0.000521375, 'epoch': 15.32}\n",
      "{'loss': 1.0936, 'grad_norm': 1.3112468719482422, 'learning_rate': 0.000520125, 'epoch': 15.36}\n",
      "{'loss': 1.007, 'grad_norm': 1.0454243421554565, 'learning_rate': 0.000518875, 'epoch': 15.4}\n",
      "{'loss': 1.1287, 'grad_norm': 1.4511750936508179, 'learning_rate': 0.000517625, 'epoch': 15.44}\n",
      "{'loss': 1.3062, 'grad_norm': 1.3904811143875122, 'learning_rate': 0.000516375, 'epoch': 15.48}\n",
      "{'loss': 0.9289, 'grad_norm': 1.7741628885269165, 'learning_rate': 0.0005151250000000001, 'epoch': 15.52}\n",
      "{'loss': 1.1065, 'grad_norm': 1.3777573108673096, 'learning_rate': 0.000513875, 'epoch': 15.56}\n",
      "{'loss': 1.1875, 'grad_norm': 2.10856556892395, 'learning_rate': 0.0005126250000000001, 'epoch': 15.6}\n",
      "{'loss': 1.2117, 'grad_norm': 0.8475667238235474, 'learning_rate': 0.000511375, 'epoch': 15.64}\n",
      "{'loss': 0.9916, 'grad_norm': 1.8934683799743652, 'learning_rate': 0.000510125, 'epoch': 15.68}\n",
      "{'loss': 1.1101, 'grad_norm': 1.4094140529632568, 'learning_rate': 0.000508875, 'epoch': 15.72}\n",
      "{'loss': 1.1805, 'grad_norm': 1.5264909267425537, 'learning_rate': 0.000507625, 'epoch': 15.76}\n",
      "{'loss': 1.2998, 'grad_norm': 1.6002960205078125, 'learning_rate': 0.000506375, 'epoch': 15.8}\n",
      "{'loss': 1.1971, 'grad_norm': 1.259846568107605, 'learning_rate': 0.000505125, 'epoch': 15.84}\n",
      "{'loss': 1.2253, 'grad_norm': 1.5881046056747437, 'learning_rate': 0.000503875, 'epoch': 15.88}\n",
      "{'loss': 1.0673, 'grad_norm': 1.7655093669891357, 'learning_rate': 0.000502625, 'epoch': 15.92}\n",
      "{'loss': 1.1351, 'grad_norm': 1.0898842811584473, 'learning_rate': 0.000501375, 'epoch': 15.96}\n",
      "{'loss': 1.1623, 'grad_norm': 1.412886619567871, 'learning_rate': 0.000500125, 'epoch': 16.0}\n",
      "{'eval_loss': 1.2506448030471802, 'eval_accuracy': 0.559, 'eval_runtime': 19.5983, 'eval_samples_per_second': 51.025, 'eval_steps_per_second': 3.215, 'epoch': 16.0}\n"
     ]
    },
    {
     "name": "stderr",
     "output_type": "stream",
     "text": [
      "/Users/ahmedmaher/anaconda3/lib/python3.11/site-packages/torch/utils/data/dataloader.py:683: UserWarning: 'pin_memory' argument is set as true but not supported on MPS now, then device pinned memory won't be used.\n",
      "  warnings.warn(warn_msg)\n"
     ]
    },
    {
     "name": "stdout",
     "output_type": "stream",
     "text": [
      "{'loss': 1.1179, 'grad_norm': 0.9962911605834961, 'learning_rate': 0.000498875, 'epoch': 16.04}\n",
      "{'loss': 1.1379, 'grad_norm': 1.9793262481689453, 'learning_rate': 0.000497625, 'epoch': 16.08}\n",
      "{'loss': 1.1482, 'grad_norm': 1.3721144199371338, 'learning_rate': 0.0004963750000000001, 'epoch': 16.12}\n",
      "{'loss': 1.1343, 'grad_norm': 1.271437644958496, 'learning_rate': 0.000495125, 'epoch': 16.16}\n",
      "{'loss': 0.9891, 'grad_norm': 1.3619776964187622, 'learning_rate': 0.0004938750000000001, 'epoch': 16.2}\n",
      "{'loss': 1.1073, 'grad_norm': 1.4731121063232422, 'learning_rate': 0.000492625, 'epoch': 16.24}\n",
      "{'loss': 1.1639, 'grad_norm': 1.863294005393982, 'learning_rate': 0.0004913750000000001, 'epoch': 16.28}\n",
      "{'loss': 1.097, 'grad_norm': 1.497830867767334, 'learning_rate': 0.000490125, 'epoch': 16.32}\n",
      "{'loss': 1.0825, 'grad_norm': 1.1905689239501953, 'learning_rate': 0.000488875, 'epoch': 16.36}\n",
      "{'loss': 1.1247, 'grad_norm': 1.4064315557479858, 'learning_rate': 0.000487625, 'epoch': 16.4}\n",
      "{'loss': 0.9744, 'grad_norm': 1.5935460329055786, 'learning_rate': 0.000486375, 'epoch': 16.44}\n",
      "{'loss': 1.1462, 'grad_norm': 1.3248106241226196, 'learning_rate': 0.000485125, 'epoch': 16.48}\n",
      "{'loss': 1.163, 'grad_norm': 2.178471803665161, 'learning_rate': 0.000483875, 'epoch': 16.52}\n",
      "{'loss': 1.1871, 'grad_norm': 1.547332525253296, 'learning_rate': 0.00048262500000000004, 'epoch': 16.56}\n",
      "{'loss': 1.0892, 'grad_norm': 1.3455830812454224, 'learning_rate': 0.00048137500000000003, 'epoch': 16.6}\n",
      "{'loss': 1.1081, 'grad_norm': 1.0783343315124512, 'learning_rate': 0.00048012500000000003, 'epoch': 16.64}\n",
      "{'loss': 1.0762, 'grad_norm': 1.241343379020691, 'learning_rate': 0.000478875, 'epoch': 16.68}\n",
      "{'loss': 1.3886, 'grad_norm': 1.8072813749313354, 'learning_rate': 0.000477625, 'epoch': 16.72}\n",
      "{'loss': 1.04, 'grad_norm': 1.3222606182098389, 'learning_rate': 0.000476375, 'epoch': 16.76}\n",
      "{'loss': 1.0562, 'grad_norm': 1.4886689186096191, 'learning_rate': 0.000475125, 'epoch': 16.8}\n",
      "{'loss': 0.9973, 'grad_norm': 1.7784039974212646, 'learning_rate': 0.000473875, 'epoch': 16.84}\n",
      "{'loss': 1.1357, 'grad_norm': 1.177353024482727, 'learning_rate': 0.000472625, 'epoch': 16.88}\n",
      "{'loss': 1.0604, 'grad_norm': 1.4792463779449463, 'learning_rate': 0.000471375, 'epoch': 16.92}\n",
      "{'loss': 1.0577, 'grad_norm': 1.4889214038848877, 'learning_rate': 0.000470125, 'epoch': 16.96}\n",
      "{'loss': 1.1816, 'grad_norm': 1.275288701057434, 'learning_rate': 0.000468875, 'epoch': 17.0}\n",
      "{'eval_loss': 1.2256009578704834, 'eval_accuracy': 0.568, 'eval_runtime': 12.8025, 'eval_samples_per_second': 78.11, 'eval_steps_per_second': 4.921, 'epoch': 17.0}\n"
     ]
    },
    {
     "name": "stderr",
     "output_type": "stream",
     "text": [
      "/Users/ahmedmaher/anaconda3/lib/python3.11/site-packages/torch/utils/data/dataloader.py:683: UserWarning: 'pin_memory' argument is set as true but not supported on MPS now, then device pinned memory won't be used.\n",
      "  warnings.warn(warn_msg)\n"
     ]
    },
    {
     "name": "stdout",
     "output_type": "stream",
     "text": [
      "{'loss': 1.1877, 'grad_norm': 1.6582201719284058, 'learning_rate': 0.000467625, 'epoch': 17.04}\n",
      "{'loss': 1.0951, 'grad_norm': 1.8266810178756714, 'learning_rate': 0.000466375, 'epoch': 17.08}\n",
      "{'loss': 1.2094, 'grad_norm': 1.326537013053894, 'learning_rate': 0.00046512500000000004, 'epoch': 17.12}\n",
      "{'loss': 1.0894, 'grad_norm': 1.1218926906585693, 'learning_rate': 0.000463875, 'epoch': 17.16}\n",
      "{'loss': 1.0319, 'grad_norm': 1.2959154844284058, 'learning_rate': 0.00046262500000000004, 'epoch': 17.2}\n",
      "{'loss': 0.9801, 'grad_norm': 2.091973304748535, 'learning_rate': 0.000461375, 'epoch': 17.24}\n",
      "{'loss': 0.9094, 'grad_norm': 1.417224645614624, 'learning_rate': 0.00046012500000000003, 'epoch': 17.28}\n",
      "{'loss': 1.0135, 'grad_norm': 1.9983463287353516, 'learning_rate': 0.000458875, 'epoch': 17.32}\n",
      "{'loss': 1.1111, 'grad_norm': 1.285703182220459, 'learning_rate': 0.000457625, 'epoch': 17.36}\n",
      "{'loss': 0.9933, 'grad_norm': 1.9489517211914062, 'learning_rate': 0.00045637499999999997, 'epoch': 17.4}\n",
      "{'loss': 1.0117, 'grad_norm': 2.0019102096557617, 'learning_rate': 0.000455125, 'epoch': 17.44}\n",
      "{'loss': 1.1784, 'grad_norm': 1.4527740478515625, 'learning_rate': 0.00045387499999999996, 'epoch': 17.48}\n",
      "{'loss': 1.0975, 'grad_norm': 1.7387539148330688, 'learning_rate': 0.000452625, 'epoch': 17.52}\n",
      "{'loss': 1.1703, 'grad_norm': 1.6184121370315552, 'learning_rate': 0.00045137500000000006, 'epoch': 17.56}\n",
      "{'loss': 1.0356, 'grad_norm': 1.5248485803604126, 'learning_rate': 0.000450125, 'epoch': 17.6}\n",
      "{'loss': 1.2687, 'grad_norm': 1.6546822786331177, 'learning_rate': 0.00044887500000000006, 'epoch': 17.64}\n",
      "{'loss': 1.1643, 'grad_norm': 1.180331826210022, 'learning_rate': 0.000447625, 'epoch': 17.68}\n",
      "{'loss': 1.0576, 'grad_norm': 1.7413179874420166, 'learning_rate': 0.00044637500000000005, 'epoch': 17.72}\n",
      "{'loss': 1.1357, 'grad_norm': 1.4168370962142944, 'learning_rate': 0.000445125, 'epoch': 17.76}\n",
      "{'loss': 0.8973, 'grad_norm': 1.8233850002288818, 'learning_rate': 0.00044387500000000004, 'epoch': 17.8}\n",
      "{'loss': 1.1444, 'grad_norm': 1.2079551219940186, 'learning_rate': 0.000442625, 'epoch': 17.84}\n",
      "{'loss': 1.1676, 'grad_norm': 2.0216169357299805, 'learning_rate': 0.00044137500000000004, 'epoch': 17.88}\n",
      "{'loss': 1.1169, 'grad_norm': 1.9599080085754395, 'learning_rate': 0.000440125, 'epoch': 17.92}\n",
      "{'loss': 1.1946, 'grad_norm': 0.7718492150306702, 'learning_rate': 0.00043887500000000003, 'epoch': 17.96}\n",
      "{'loss': 1.1516, 'grad_norm': 1.7226475477218628, 'learning_rate': 0.00043762499999999997, 'epoch': 18.0}\n",
      "{'eval_loss': 1.2989723682403564, 'eval_accuracy': 0.519, 'eval_runtime': 12.5312, 'eval_samples_per_second': 79.801, 'eval_steps_per_second': 5.027, 'epoch': 18.0}\n"
     ]
    },
    {
     "name": "stderr",
     "output_type": "stream",
     "text": [
      "/Users/ahmedmaher/anaconda3/lib/python3.11/site-packages/torch/utils/data/dataloader.py:683: UserWarning: 'pin_memory' argument is set as true but not supported on MPS now, then device pinned memory won't be used.\n",
      "  warnings.warn(warn_msg)\n"
     ]
    },
    {
     "name": "stdout",
     "output_type": "stream",
     "text": [
      "{'loss': 1.1347, 'grad_norm': 0.880061149597168, 'learning_rate': 0.000436375, 'epoch': 18.04}\n",
      "{'loss': 0.9406, 'grad_norm': 1.346882700920105, 'learning_rate': 0.000435125, 'epoch': 18.08}\n",
      "{'loss': 0.9596, 'grad_norm': 1.241933822631836, 'learning_rate': 0.000433875, 'epoch': 18.12}\n",
      "{'loss': 1.1481, 'grad_norm': 2.6196138858795166, 'learning_rate': 0.000432625, 'epoch': 18.16}\n",
      "{'loss': 0.9641, 'grad_norm': 1.2037067413330078, 'learning_rate': 0.000431375, 'epoch': 18.2}\n",
      "{'loss': 1.1528, 'grad_norm': 1.8283751010894775, 'learning_rate': 0.000430125, 'epoch': 18.24}\n",
      "{'loss': 1.048, 'grad_norm': 1.2841800451278687, 'learning_rate': 0.000428875, 'epoch': 18.28}\n",
      "{'loss': 1.1995, 'grad_norm': 1.7407026290893555, 'learning_rate': 0.000427625, 'epoch': 18.32}\n",
      "{'loss': 1.0207, 'grad_norm': 1.6167948246002197, 'learning_rate': 0.000426375, 'epoch': 18.36}\n",
      "{'loss': 0.9737, 'grad_norm': 1.6633741855621338, 'learning_rate': 0.000425125, 'epoch': 18.4}\n",
      "{'loss': 0.9663, 'grad_norm': 1.6201845407485962, 'learning_rate': 0.000423875, 'epoch': 18.44}\n",
      "{'loss': 1.018, 'grad_norm': 1.38527250289917, 'learning_rate': 0.000422625, 'epoch': 18.48}\n",
      "{'loss': 1.076, 'grad_norm': 1.377801537513733, 'learning_rate': 0.000421375, 'epoch': 18.52}\n",
      "{'loss': 0.781, 'grad_norm': 1.6127650737762451, 'learning_rate': 0.00042012500000000003, 'epoch': 18.56}\n",
      "{'loss': 1.1174, 'grad_norm': 0.9343451261520386, 'learning_rate': 0.00041887500000000003, 'epoch': 18.6}\n",
      "{'loss': 1.0732, 'grad_norm': 1.1041065454483032, 'learning_rate': 0.00041762500000000003, 'epoch': 18.64}\n",
      "{'loss': 1.037, 'grad_norm': 1.6608706712722778, 'learning_rate': 0.000416375, 'epoch': 18.68}\n",
      "{'loss': 1.0189, 'grad_norm': 2.2433884143829346, 'learning_rate': 0.000415125, 'epoch': 18.72}\n",
      "{'loss': 1.1502, 'grad_norm': 1.538042426109314, 'learning_rate': 0.000413875, 'epoch': 18.76}\n",
      "{'loss': 1.0761, 'grad_norm': 1.6154390573501587, 'learning_rate': 0.000412625, 'epoch': 18.8}\n",
      "{'loss': 1.2094, 'grad_norm': 1.9467048645019531, 'learning_rate': 0.000411375, 'epoch': 18.84}\n",
      "{'loss': 1.1416, 'grad_norm': 1.1443687677383423, 'learning_rate': 0.000410125, 'epoch': 18.88}\n",
      "{'loss': 0.9996, 'grad_norm': 1.8856427669525146, 'learning_rate': 0.000408875, 'epoch': 18.92}\n",
      "{'loss': 1.1166, 'grad_norm': 1.4988021850585938, 'learning_rate': 0.000407625, 'epoch': 18.96}\n",
      "{'loss': 1.0184, 'grad_norm': 1.2735193967819214, 'learning_rate': 0.000406375, 'epoch': 19.0}\n",
      "{'eval_loss': 1.152826189994812, 'eval_accuracy': 0.597, 'eval_runtime': 12.6663, 'eval_samples_per_second': 78.949, 'eval_steps_per_second': 4.974, 'epoch': 19.0}\n"
     ]
    },
    {
     "name": "stderr",
     "output_type": "stream",
     "text": [
      "/Users/ahmedmaher/anaconda3/lib/python3.11/site-packages/torch/utils/data/dataloader.py:683: UserWarning: 'pin_memory' argument is set as true but not supported on MPS now, then device pinned memory won't be used.\n",
      "  warnings.warn(warn_msg)\n"
     ]
    },
    {
     "name": "stdout",
     "output_type": "stream",
     "text": [
      "{'loss': 0.9855, 'grad_norm': 1.6515880823135376, 'learning_rate': 0.000405125, 'epoch': 19.04}\n",
      "{'loss': 0.9279, 'grad_norm': 1.3683358430862427, 'learning_rate': 0.000403875, 'epoch': 19.08}\n",
      "{'loss': 1.1117, 'grad_norm': 1.2938191890716553, 'learning_rate': 0.00040262500000000004, 'epoch': 19.12}\n",
      "{'loss': 0.9841, 'grad_norm': 1.046759009361267, 'learning_rate': 0.000401375, 'epoch': 19.16}\n",
      "{'loss': 1.1092, 'grad_norm': 1.4465348720550537, 'learning_rate': 0.00040012500000000004, 'epoch': 19.2}\n",
      "{'loss': 0.8878, 'grad_norm': 1.6646575927734375, 'learning_rate': 0.000398875, 'epoch': 19.24}\n",
      "{'loss': 1.0013, 'grad_norm': 1.4855166673660278, 'learning_rate': 0.00039762500000000003, 'epoch': 19.28}\n",
      "{'loss': 0.9799, 'grad_norm': 1.2407201528549194, 'learning_rate': 0.00039637499999999997, 'epoch': 19.32}\n",
      "{'loss': 0.9682, 'grad_norm': 1.3116496801376343, 'learning_rate': 0.000395125, 'epoch': 19.36}\n",
      "{'loss': 1.0973, 'grad_norm': 2.29375958442688, 'learning_rate': 0.00039387499999999997, 'epoch': 19.4}\n",
      "{'loss': 0.9458, 'grad_norm': 1.4898039102554321, 'learning_rate': 0.000392625, 'epoch': 19.44}\n",
      "{'loss': 1.064, 'grad_norm': 1.3239978551864624, 'learning_rate': 0.00039137499999999996, 'epoch': 19.48}\n",
      "{'loss': 0.9082, 'grad_norm': 1.8585454225540161, 'learning_rate': 0.000390125, 'epoch': 19.52}\n",
      "{'loss': 1.154, 'grad_norm': 1.5549784898757935, 'learning_rate': 0.00038887500000000006, 'epoch': 19.56}\n",
      "{'loss': 1.0138, 'grad_norm': 1.56964111328125, 'learning_rate': 0.000387625, 'epoch': 19.6}\n",
      "{'loss': 1.0792, 'grad_norm': 1.9190949201583862, 'learning_rate': 0.00038637500000000005, 'epoch': 19.64}\n",
      "{'loss': 0.9983, 'grad_norm': 1.171048879623413, 'learning_rate': 0.000385125, 'epoch': 19.68}\n",
      "{'loss': 1.0308, 'grad_norm': 1.2940411567687988, 'learning_rate': 0.00038387500000000005, 'epoch': 19.72}\n",
      "{'loss': 1.1767, 'grad_norm': 1.4762541055679321, 'learning_rate': 0.000382625, 'epoch': 19.76}\n",
      "{'loss': 1.0318, 'grad_norm': 1.6801002025604248, 'learning_rate': 0.00038137500000000004, 'epoch': 19.8}\n",
      "{'loss': 1.2289, 'grad_norm': 1.6430773735046387, 'learning_rate': 0.000380125, 'epoch': 19.84}\n",
      "{'loss': 1.0272, 'grad_norm': 1.2766965627670288, 'learning_rate': 0.00037887500000000003, 'epoch': 19.88}\n",
      "{'loss': 1.0033, 'grad_norm': 1.921159029006958, 'learning_rate': 0.000377625, 'epoch': 19.92}\n",
      "{'loss': 1.2063, 'grad_norm': 0.9454236030578613, 'learning_rate': 0.00037637500000000003, 'epoch': 19.96}\n",
      "{'loss': 1.059, 'grad_norm': 1.3780156373977661, 'learning_rate': 0.00037512499999999997, 'epoch': 20.0}\n",
      "{'eval_loss': 1.1313635110855103, 'eval_accuracy': 0.585, 'eval_runtime': 12.4859, 'eval_samples_per_second': 80.09, 'eval_steps_per_second': 5.046, 'epoch': 20.0}\n"
     ]
    },
    {
     "name": "stderr",
     "output_type": "stream",
     "text": [
      "/Users/ahmedmaher/anaconda3/lib/python3.11/site-packages/torch/utils/data/dataloader.py:683: UserWarning: 'pin_memory' argument is set as true but not supported on MPS now, then device pinned memory won't be used.\n",
      "  warnings.warn(warn_msg)\n"
     ]
    },
    {
     "name": "stdout",
     "output_type": "stream",
     "text": [
      "{'loss': 0.9652, 'grad_norm': 1.8794095516204834, 'learning_rate': 0.000373875, 'epoch': 20.04}\n",
      "{'loss': 1.0822, 'grad_norm': 1.5991714000701904, 'learning_rate': 0.000372625, 'epoch': 20.08}\n",
      "{'loss': 0.9538, 'grad_norm': 1.5365947484970093, 'learning_rate': 0.000371375, 'epoch': 20.12}\n",
      "{'loss': 0.8648, 'grad_norm': 1.8909567594528198, 'learning_rate': 0.000370125, 'epoch': 20.16}\n",
      "{'loss': 1.1227, 'grad_norm': 1.9820175170898438, 'learning_rate': 0.000368875, 'epoch': 20.2}\n",
      "{'loss': 0.9133, 'grad_norm': 2.3000121116638184, 'learning_rate': 0.000367625, 'epoch': 20.24}\n",
      "{'loss': 1.1016, 'grad_norm': 1.5893938541412354, 'learning_rate': 0.000366375, 'epoch': 20.28}\n",
      "{'loss': 0.9551, 'grad_norm': 1.2114020586013794, 'learning_rate': 0.000365125, 'epoch': 20.32}\n",
      "{'loss': 1.0344, 'grad_norm': 2.1107900142669678, 'learning_rate': 0.000363875, 'epoch': 20.36}\n",
      "{'loss': 1.1879, 'grad_norm': 1.5892715454101562, 'learning_rate': 0.000362625, 'epoch': 20.4}\n",
      "{'loss': 1.0782, 'grad_norm': 1.677091360092163, 'learning_rate': 0.000361375, 'epoch': 20.44}\n",
      "{'loss': 1.0919, 'grad_norm': 2.0209550857543945, 'learning_rate': 0.000360125, 'epoch': 20.48}\n",
      "{'loss': 1.0582, 'grad_norm': 1.287935495376587, 'learning_rate': 0.000358875, 'epoch': 20.52}\n",
      "{'loss': 1.0632, 'grad_norm': 1.5419687032699585, 'learning_rate': 0.00035762500000000003, 'epoch': 20.56}\n",
      "{'loss': 1.0362, 'grad_norm': 1.3506383895874023, 'learning_rate': 0.00035637500000000003, 'epoch': 20.6}\n",
      "{'loss': 0.9238, 'grad_norm': 1.6731765270233154, 'learning_rate': 0.000355125, 'epoch': 20.64}\n",
      "{'loss': 1.0002, 'grad_norm': 2.055982828140259, 'learning_rate': 0.000353875, 'epoch': 20.68}\n",
      "{'loss': 1.1329, 'grad_norm': 2.449014902114868, 'learning_rate': 0.000352625, 'epoch': 20.72}\n",
      "{'loss': 1.0906, 'grad_norm': 1.8080462217330933, 'learning_rate': 0.000351375, 'epoch': 20.76}\n",
      "{'loss': 0.9185, 'grad_norm': 0.9078031778335571, 'learning_rate': 0.000350125, 'epoch': 20.8}\n",
      "{'loss': 0.9924, 'grad_norm': 1.2846006155014038, 'learning_rate': 0.000348875, 'epoch': 20.84}\n",
      "{'loss': 1.2016, 'grad_norm': 1.5630664825439453, 'learning_rate': 0.000347625, 'epoch': 20.88}\n",
      "{'loss': 1.0957, 'grad_norm': 3.8970279693603516, 'learning_rate': 0.000346375, 'epoch': 20.92}\n",
      "{'loss': 1.129, 'grad_norm': 1.355049729347229, 'learning_rate': 0.000345125, 'epoch': 20.96}\n",
      "{'loss': 0.8929, 'grad_norm': 1.1462815999984741, 'learning_rate': 0.000343875, 'epoch': 21.0}\n",
      "{'eval_loss': 1.1642731428146362, 'eval_accuracy': 0.595, 'eval_runtime': 12.4854, 'eval_samples_per_second': 80.093, 'eval_steps_per_second': 5.046, 'epoch': 21.0}\n"
     ]
    },
    {
     "name": "stderr",
     "output_type": "stream",
     "text": [
      "/Users/ahmedmaher/anaconda3/lib/python3.11/site-packages/torch/utils/data/dataloader.py:683: UserWarning: 'pin_memory' argument is set as true but not supported on MPS now, then device pinned memory won't be used.\n",
      "  warnings.warn(warn_msg)\n"
     ]
    },
    {
     "name": "stdout",
     "output_type": "stream",
     "text": [
      "{'loss': 1.0304, 'grad_norm': 1.5267200469970703, 'learning_rate': 0.000342625, 'epoch': 21.04}\n",
      "{'loss': 0.9851, 'grad_norm': 1.8187103271484375, 'learning_rate': 0.000341375, 'epoch': 21.08}\n",
      "{'loss': 1.0711, 'grad_norm': 1.2395583391189575, 'learning_rate': 0.00034012500000000004, 'epoch': 21.12}\n",
      "{'loss': 0.9812, 'grad_norm': 1.4132156372070312, 'learning_rate': 0.000338875, 'epoch': 21.16}\n",
      "{'loss': 1.1159, 'grad_norm': 2.5423126220703125, 'learning_rate': 0.00033762500000000003, 'epoch': 21.2}\n",
      "{'loss': 0.8742, 'grad_norm': 1.4724979400634766, 'learning_rate': 0.000336375, 'epoch': 21.24}\n",
      "{'loss': 1.1399, 'grad_norm': 1.3624866008758545, 'learning_rate': 0.00033512500000000003, 'epoch': 21.28}\n",
      "{'loss': 0.9529, 'grad_norm': 2.7288992404937744, 'learning_rate': 0.00033387499999999997, 'epoch': 21.32}\n",
      "{'loss': 1.0181, 'grad_norm': 2.512333869934082, 'learning_rate': 0.000332625, 'epoch': 21.36}\n",
      "{'loss': 0.9171, 'grad_norm': 1.4381024837493896, 'learning_rate': 0.00033137499999999996, 'epoch': 21.4}\n",
      "{'loss': 0.8496, 'grad_norm': 1.4400752782821655, 'learning_rate': 0.000330125, 'epoch': 21.44}\n",
      "{'loss': 0.8997, 'grad_norm': 1.4504742622375488, 'learning_rate': 0.00032887499999999996, 'epoch': 21.48}\n",
      "{'loss': 1.1188, 'grad_norm': 2.0756242275238037, 'learning_rate': 0.000327625, 'epoch': 21.52}\n",
      "{'loss': 0.8495, 'grad_norm': 1.7655415534973145, 'learning_rate': 0.00032637500000000006, 'epoch': 21.56}\n",
      "{'loss': 1.0661, 'grad_norm': 1.6789134740829468, 'learning_rate': 0.000325125, 'epoch': 21.6}\n",
      "{'loss': 0.9896, 'grad_norm': 1.5557368993759155, 'learning_rate': 0.00032387500000000005, 'epoch': 21.64}\n",
      "{'loss': 0.8629, 'grad_norm': 1.2377909421920776, 'learning_rate': 0.000322625, 'epoch': 21.68}\n",
      "{'loss': 0.9779, 'grad_norm': 1.4346247911453247, 'learning_rate': 0.00032137500000000005, 'epoch': 21.72}\n",
      "{'loss': 1.0352, 'grad_norm': 1.702461838722229, 'learning_rate': 0.000320125, 'epoch': 21.76}\n",
      "{'loss': 0.9025, 'grad_norm': 1.321702241897583, 'learning_rate': 0.00031887500000000004, 'epoch': 21.8}\n",
      "{'loss': 0.7828, 'grad_norm': 2.1438331604003906, 'learning_rate': 0.000317625, 'epoch': 21.84}\n",
      "{'loss': 1.1572, 'grad_norm': 2.021122932434082, 'learning_rate': 0.00031637500000000003, 'epoch': 21.88}\n",
      "{'loss': 0.9873, 'grad_norm': 1.657325267791748, 'learning_rate': 0.000315125, 'epoch': 21.92}\n",
      "{'loss': 1.0963, 'grad_norm': 1.662253499031067, 'learning_rate': 0.000313875, 'epoch': 21.96}\n",
      "{'loss': 1.0018, 'grad_norm': 1.7243969440460205, 'learning_rate': 0.00031262499999999997, 'epoch': 22.0}\n",
      "{'eval_loss': 1.1380869150161743, 'eval_accuracy': 0.597, 'eval_runtime': 12.4569, 'eval_samples_per_second': 80.277, 'eval_steps_per_second': 5.057, 'epoch': 22.0}\n"
     ]
    },
    {
     "name": "stderr",
     "output_type": "stream",
     "text": [
      "/Users/ahmedmaher/anaconda3/lib/python3.11/site-packages/torch/utils/data/dataloader.py:683: UserWarning: 'pin_memory' argument is set as true but not supported on MPS now, then device pinned memory won't be used.\n",
      "  warnings.warn(warn_msg)\n"
     ]
    },
    {
     "name": "stdout",
     "output_type": "stream",
     "text": [
      "{'loss': 0.9852, 'grad_norm': 2.314784526824951, 'learning_rate': 0.000311375, 'epoch': 22.04}\n",
      "{'loss': 1.0942, 'grad_norm': 1.5932952165603638, 'learning_rate': 0.000310125, 'epoch': 22.08}\n",
      "{'loss': 0.9781, 'grad_norm': 1.236061453819275, 'learning_rate': 0.000308875, 'epoch': 22.12}\n",
      "{'loss': 0.88, 'grad_norm': 1.6844658851623535, 'learning_rate': 0.000307625, 'epoch': 22.16}\n",
      "{'loss': 0.8141, 'grad_norm': 1.69593346118927, 'learning_rate': 0.000306375, 'epoch': 22.2}\n",
      "{'loss': 0.9677, 'grad_norm': 1.6610572338104248, 'learning_rate': 0.000305125, 'epoch': 22.24}\n",
      "{'loss': 0.9515, 'grad_norm': 1.7200623750686646, 'learning_rate': 0.000303875, 'epoch': 22.28}\n",
      "{'loss': 1.0934, 'grad_norm': 1.691345453262329, 'learning_rate': 0.000302625, 'epoch': 22.32}\n",
      "{'loss': 0.8794, 'grad_norm': 1.681248664855957, 'learning_rate': 0.000301375, 'epoch': 22.36}\n",
      "{'loss': 0.8902, 'grad_norm': 2.1208724975585938, 'learning_rate': 0.000300125, 'epoch': 22.4}\n",
      "{'loss': 1.0238, 'grad_norm': 1.3956924676895142, 'learning_rate': 0.000298875, 'epoch': 22.44}\n",
      "{'loss': 0.9262, 'grad_norm': 1.1921026706695557, 'learning_rate': 0.000297625, 'epoch': 22.48}\n",
      "{'loss': 0.9477, 'grad_norm': 1.7360508441925049, 'learning_rate': 0.000296375, 'epoch': 22.52}\n",
      "{'loss': 0.9667, 'grad_norm': 1.9128217697143555, 'learning_rate': 0.00029512500000000003, 'epoch': 22.56}\n",
      "{'loss': 0.8778, 'grad_norm': 1.3682668209075928, 'learning_rate': 0.00029387500000000003, 'epoch': 22.6}\n",
      "{'loss': 0.9368, 'grad_norm': 3.030853509902954, 'learning_rate': 0.000292625, 'epoch': 22.64}\n",
      "{'loss': 1.0118, 'grad_norm': 1.3673995733261108, 'learning_rate': 0.000291375, 'epoch': 22.68}\n",
      "{'loss': 1.0513, 'grad_norm': 1.6395334005355835, 'learning_rate': 0.000290125, 'epoch': 22.72}\n",
      "{'loss': 1.0263, 'grad_norm': 1.6137577295303345, 'learning_rate': 0.000288875, 'epoch': 22.76}\n",
      "{'loss': 1.1802, 'grad_norm': 1.8074445724487305, 'learning_rate': 0.000287625, 'epoch': 22.8}\n",
      "{'loss': 1.0005, 'grad_norm': 1.6570229530334473, 'learning_rate': 0.000286375, 'epoch': 22.84}\n",
      "{'loss': 0.9181, 'grad_norm': 1.6054904460906982, 'learning_rate': 0.000285125, 'epoch': 22.88}\n",
      "{'loss': 0.9545, 'grad_norm': 1.3026286363601685, 'learning_rate': 0.000283875, 'epoch': 22.92}\n",
      "{'loss': 0.9558, 'grad_norm': 1.0169931650161743, 'learning_rate': 0.000282625, 'epoch': 22.96}\n",
      "{'loss': 1.0479, 'grad_norm': 1.1508017778396606, 'learning_rate': 0.000281375, 'epoch': 23.0}\n",
      "{'eval_loss': 1.1273036003112793, 'eval_accuracy': 0.603, 'eval_runtime': 12.5595, 'eval_samples_per_second': 79.621, 'eval_steps_per_second': 5.016, 'epoch': 23.0}\n"
     ]
    },
    {
     "name": "stderr",
     "output_type": "stream",
     "text": [
      "/Users/ahmedmaher/anaconda3/lib/python3.11/site-packages/torch/utils/data/dataloader.py:683: UserWarning: 'pin_memory' argument is set as true but not supported on MPS now, then device pinned memory won't be used.\n",
      "  warnings.warn(warn_msg)\n"
     ]
    },
    {
     "name": "stdout",
     "output_type": "stream",
     "text": [
      "{'loss': 0.9145, 'grad_norm': 1.7094013690948486, 'learning_rate': 0.000280125, 'epoch': 23.04}\n",
      "{'loss': 0.8716, 'grad_norm': 1.8866945505142212, 'learning_rate': 0.000278875, 'epoch': 23.08}\n",
      "{'loss': 0.957, 'grad_norm': 2.1593518257141113, 'learning_rate': 0.00027762500000000004, 'epoch': 23.12}\n",
      "{'loss': 0.8821, 'grad_norm': 1.2511181831359863, 'learning_rate': 0.000276375, 'epoch': 23.16}\n",
      "{'loss': 0.9406, 'grad_norm': 2.5028254985809326, 'learning_rate': 0.00027512500000000003, 'epoch': 23.2}\n",
      "{'loss': 0.9638, 'grad_norm': 1.7463138103485107, 'learning_rate': 0.000273875, 'epoch': 23.24}\n",
      "{'loss': 0.9588, 'grad_norm': 1.630645751953125, 'learning_rate': 0.000272625, 'epoch': 23.28}\n",
      "{'loss': 0.8983, 'grad_norm': 2.116305351257324, 'learning_rate': 0.00027137499999999997, 'epoch': 23.32}\n",
      "{'loss': 1.0126, 'grad_norm': 1.7862011194229126, 'learning_rate': 0.000270125, 'epoch': 23.36}\n",
      "{'loss': 1.0595, 'grad_norm': 1.329615831375122, 'learning_rate': 0.00026887499999999996, 'epoch': 23.4}\n",
      "{'loss': 0.9683, 'grad_norm': 1.6133806705474854, 'learning_rate': 0.000267625, 'epoch': 23.44}\n",
      "{'loss': 1.0281, 'grad_norm': 1.9648634195327759, 'learning_rate': 0.00026637499999999996, 'epoch': 23.48}\n",
      "{'loss': 0.9427, 'grad_norm': 1.7324408292770386, 'learning_rate': 0.000265125, 'epoch': 23.52}\n",
      "{'loss': 1.1572, 'grad_norm': 2.6916301250457764, 'learning_rate': 0.00026387500000000006, 'epoch': 23.56}\n",
      "{'loss': 0.8355, 'grad_norm': 1.6684478521347046, 'learning_rate': 0.000262625, 'epoch': 23.6}\n",
      "{'loss': 0.8985, 'grad_norm': 1.2160046100616455, 'learning_rate': 0.00026137500000000005, 'epoch': 23.64}\n",
      "{'loss': 0.8544, 'grad_norm': 1.8658177852630615, 'learning_rate': 0.000260125, 'epoch': 23.68}\n",
      "{'loss': 0.9975, 'grad_norm': 1.7028229236602783, 'learning_rate': 0.00025887500000000004, 'epoch': 23.72}\n",
      "{'loss': 0.9251, 'grad_norm': 1.3869919776916504, 'learning_rate': 0.000257625, 'epoch': 23.76}\n",
      "{'loss': 0.8241, 'grad_norm': 1.762237787246704, 'learning_rate': 0.00025637500000000004, 'epoch': 23.8}\n",
      "{'loss': 1.0642, 'grad_norm': 2.030691385269165, 'learning_rate': 0.000255125, 'epoch': 23.84}\n",
      "{'loss': 0.9074, 'grad_norm': 1.7854284048080444, 'learning_rate': 0.00025387500000000003, 'epoch': 23.88}\n",
      "{'loss': 0.9494, 'grad_norm': 1.4384254217147827, 'learning_rate': 0.000252625, 'epoch': 23.92}\n",
      "{'loss': 0.9125, 'grad_norm': 0.8566590547561646, 'learning_rate': 0.000251375, 'epoch': 23.96}\n",
      "{'loss': 0.9683, 'grad_norm': 1.4588302373886108, 'learning_rate': 0.00025012499999999997, 'epoch': 24.0}\n",
      "{'eval_loss': 1.1936293840408325, 'eval_accuracy': 0.601, 'eval_runtime': 12.6133, 'eval_samples_per_second': 79.281, 'eval_steps_per_second': 4.995, 'epoch': 24.0}\n"
     ]
    },
    {
     "name": "stderr",
     "output_type": "stream",
     "text": [
      "/Users/ahmedmaher/anaconda3/lib/python3.11/site-packages/torch/utils/data/dataloader.py:683: UserWarning: 'pin_memory' argument is set as true but not supported on MPS now, then device pinned memory won't be used.\n",
      "  warnings.warn(warn_msg)\n"
     ]
    },
    {
     "name": "stdout",
     "output_type": "stream",
     "text": [
      "{'loss': 0.796, 'grad_norm': 2.012556791305542, 'learning_rate': 0.000248875, 'epoch': 24.04}\n",
      "{'loss': 0.7606, 'grad_norm': 2.219350814819336, 'learning_rate': 0.000247625, 'epoch': 24.08}\n",
      "{'loss': 0.9266, 'grad_norm': 1.9309284687042236, 'learning_rate': 0.000246375, 'epoch': 24.12}\n",
      "{'loss': 0.9365, 'grad_norm': 1.7512123584747314, 'learning_rate': 0.000245125, 'epoch': 24.16}\n",
      "{'loss': 0.964, 'grad_norm': 2.071288585662842, 'learning_rate': 0.000243875, 'epoch': 24.2}\n",
      "{'loss': 0.9446, 'grad_norm': 1.6368205547332764, 'learning_rate': 0.000242625, 'epoch': 24.24}\n",
      "{'loss': 0.7857, 'grad_norm': 2.408108711242676, 'learning_rate': 0.000241375, 'epoch': 24.28}\n",
      "{'loss': 1.0758, 'grad_norm': 1.687380313873291, 'learning_rate': 0.00024012500000000002, 'epoch': 24.32}\n",
      "{'loss': 0.8972, 'grad_norm': 1.7398687601089478, 'learning_rate': 0.00023887500000000002, 'epoch': 24.36}\n",
      "{'loss': 0.9011, 'grad_norm': 1.8490889072418213, 'learning_rate': 0.00023762500000000002, 'epoch': 24.4}\n",
      "{'loss': 1.0459, 'grad_norm': 2.259373426437378, 'learning_rate': 0.000236375, 'epoch': 24.44}\n",
      "{'loss': 0.9403, 'grad_norm': 1.5651113986968994, 'learning_rate': 0.000235125, 'epoch': 24.48}\n",
      "{'loss': 0.9196, 'grad_norm': 1.290139079093933, 'learning_rate': 0.000233875, 'epoch': 24.52}\n",
      "{'loss': 0.8554, 'grad_norm': 1.4606915712356567, 'learning_rate': 0.000232625, 'epoch': 24.56}\n",
      "{'loss': 0.8407, 'grad_norm': 1.8478180170059204, 'learning_rate': 0.000231375, 'epoch': 24.6}\n",
      "{'loss': 0.8406, 'grad_norm': 1.8581851720809937, 'learning_rate': 0.000230125, 'epoch': 24.64}\n",
      "{'loss': 0.7972, 'grad_norm': 1.6724239587783813, 'learning_rate': 0.000228875, 'epoch': 24.68}\n",
      "{'loss': 0.8851, 'grad_norm': 2.9989864826202393, 'learning_rate': 0.000227625, 'epoch': 24.72}\n",
      "{'loss': 0.8919, 'grad_norm': 1.8367550373077393, 'learning_rate': 0.000226375, 'epoch': 24.76}\n",
      "{'loss': 0.8603, 'grad_norm': 1.9003522396087646, 'learning_rate': 0.00022512499999999998, 'epoch': 24.8}\n",
      "{'loss': 1.0563, 'grad_norm': 1.8011056184768677, 'learning_rate': 0.000223875, 'epoch': 24.84}\n",
      "{'loss': 0.9946, 'grad_norm': 1.509594202041626, 'learning_rate': 0.000222625, 'epoch': 24.88}\n",
      "{'loss': 0.8498, 'grad_norm': 1.7852654457092285, 'learning_rate': 0.000221375, 'epoch': 24.92}\n",
      "{'loss': 0.948, 'grad_norm': 1.3763573169708252, 'learning_rate': 0.000220125, 'epoch': 24.96}\n",
      "{'loss': 0.8723, 'grad_norm': 1.503515362739563, 'learning_rate': 0.000218875, 'epoch': 25.0}\n",
      "{'eval_loss': 1.1527416706085205, 'eval_accuracy': 0.611, 'eval_runtime': 12.4648, 'eval_samples_per_second': 80.226, 'eval_steps_per_second': 5.054, 'epoch': 25.0}\n"
     ]
    },
    {
     "name": "stderr",
     "output_type": "stream",
     "text": [
      "/Users/ahmedmaher/anaconda3/lib/python3.11/site-packages/torch/utils/data/dataloader.py:683: UserWarning: 'pin_memory' argument is set as true but not supported on MPS now, then device pinned memory won't be used.\n",
      "  warnings.warn(warn_msg)\n"
     ]
    },
    {
     "name": "stdout",
     "output_type": "stream",
     "text": [
      "{'loss': 0.9145, 'grad_norm': 1.788292646408081, 'learning_rate': 0.00021762500000000002, 'epoch': 25.04}\n",
      "{'loss': 0.7657, 'grad_norm': 1.5387011766433716, 'learning_rate': 0.00021637500000000001, 'epoch': 25.08}\n",
      "{'loss': 0.9141, 'grad_norm': 1.6512477397918701, 'learning_rate': 0.000215125, 'epoch': 25.12}\n",
      "{'loss': 0.9712, 'grad_norm': 1.6942732334136963, 'learning_rate': 0.000213875, 'epoch': 25.16}\n",
      "{'loss': 1.0481, 'grad_norm': 2.337247133255005, 'learning_rate': 0.000212625, 'epoch': 25.2}\n",
      "{'loss': 1.0783, 'grad_norm': 1.6344432830810547, 'learning_rate': 0.000211375, 'epoch': 25.24}\n",
      "{'loss': 0.8504, 'grad_norm': 1.298580527305603, 'learning_rate': 0.000210125, 'epoch': 25.28}\n",
      "{'loss': 0.9077, 'grad_norm': 1.3942900896072388, 'learning_rate': 0.00020887500000000002, 'epoch': 25.32}\n",
      "{'loss': 0.837, 'grad_norm': 1.7774649858474731, 'learning_rate': 0.00020762500000000002, 'epoch': 25.36}\n",
      "{'loss': 0.9544, 'grad_norm': 1.2243340015411377, 'learning_rate': 0.00020637500000000002, 'epoch': 25.4}\n",
      "{'loss': 0.8782, 'grad_norm': 1.2565970420837402, 'learning_rate': 0.000205125, 'epoch': 25.44}\n",
      "{'loss': 0.9479, 'grad_norm': 2.3010189533233643, 'learning_rate': 0.000203875, 'epoch': 25.48}\n",
      "{'loss': 0.8515, 'grad_norm': 1.889235496520996, 'learning_rate': 0.000202625, 'epoch': 25.52}\n",
      "{'loss': 1.0363, 'grad_norm': 1.2613441944122314, 'learning_rate': 0.000201375, 'epoch': 25.56}\n",
      "{'loss': 0.9635, 'grad_norm': 1.8532896041870117, 'learning_rate': 0.000200125, 'epoch': 25.6}\n",
      "{'loss': 0.907, 'grad_norm': 2.2528209686279297, 'learning_rate': 0.000198875, 'epoch': 25.64}\n",
      "{'loss': 0.9394, 'grad_norm': 1.7818151712417603, 'learning_rate': 0.000197625, 'epoch': 25.68}\n",
      "{'loss': 0.8689, 'grad_norm': 2.0209524631500244, 'learning_rate': 0.000196375, 'epoch': 25.72}\n",
      "{'loss': 0.8119, 'grad_norm': 2.3694326877593994, 'learning_rate': 0.00019512499999999999, 'epoch': 25.76}\n",
      "{'loss': 0.8162, 'grad_norm': 2.123481035232544, 'learning_rate': 0.00019387499999999998, 'epoch': 25.8}\n",
      "{'loss': 0.8413, 'grad_norm': 2.3285889625549316, 'learning_rate': 0.000192625, 'epoch': 25.84}\n",
      "{'loss': 0.8385, 'grad_norm': 1.6150943040847778, 'learning_rate': 0.000191375, 'epoch': 25.88}\n",
      "{'loss': 0.8634, 'grad_norm': 2.10316801071167, 'learning_rate': 0.000190125, 'epoch': 25.92}\n",
      "{'loss': 1.0102, 'grad_norm': 1.601272702217102, 'learning_rate': 0.000188875, 'epoch': 25.96}\n",
      "{'loss': 0.936, 'grad_norm': 1.789873480796814, 'learning_rate': 0.000187625, 'epoch': 26.0}\n",
      "{'eval_loss': 1.1136451959609985, 'eval_accuracy': 0.62, 'eval_runtime': 12.445, 'eval_samples_per_second': 80.354, 'eval_steps_per_second': 5.062, 'epoch': 26.0}\n"
     ]
    },
    {
     "name": "stderr",
     "output_type": "stream",
     "text": [
      "/Users/ahmedmaher/anaconda3/lib/python3.11/site-packages/torch/utils/data/dataloader.py:683: UserWarning: 'pin_memory' argument is set as true but not supported on MPS now, then device pinned memory won't be used.\n",
      "  warnings.warn(warn_msg)\n"
     ]
    },
    {
     "name": "stdout",
     "output_type": "stream",
     "text": [
      "{'loss': 0.8588, 'grad_norm': 1.5074039697647095, 'learning_rate': 0.00018637500000000002, 'epoch': 26.04}\n",
      "{'loss': 0.9037, 'grad_norm': 1.503532886505127, 'learning_rate': 0.00018512500000000001, 'epoch': 26.08}\n",
      "{'loss': 0.8879, 'grad_norm': 2.465338945388794, 'learning_rate': 0.000183875, 'epoch': 26.12}\n",
      "{'loss': 0.8741, 'grad_norm': 1.6630034446716309, 'learning_rate': 0.000182625, 'epoch': 26.16}\n",
      "{'loss': 0.8104, 'grad_norm': 1.3949623107910156, 'learning_rate': 0.000181375, 'epoch': 26.2}\n",
      "{'loss': 0.9298, 'grad_norm': 1.8882005214691162, 'learning_rate': 0.000180125, 'epoch': 26.24}\n",
      "{'loss': 0.9332, 'grad_norm': 1.6363521814346313, 'learning_rate': 0.000178875, 'epoch': 26.28}\n",
      "{'loss': 0.8673, 'grad_norm': 1.7520304918289185, 'learning_rate': 0.00017762500000000002, 'epoch': 26.32}\n",
      "{'loss': 0.7331, 'grad_norm': 2.0423026084899902, 'learning_rate': 0.00017637500000000002, 'epoch': 26.36}\n",
      "{'loss': 0.7325, 'grad_norm': 1.7242459058761597, 'learning_rate': 0.00017512500000000001, 'epoch': 26.4}\n",
      "{'loss': 0.9402, 'grad_norm': 1.7013362646102905, 'learning_rate': 0.000173875, 'epoch': 26.44}\n",
      "{'loss': 0.8288, 'grad_norm': 2.036675453186035, 'learning_rate': 0.000172625, 'epoch': 26.48}\n",
      "{'loss': 0.8331, 'grad_norm': 1.0096274614334106, 'learning_rate': 0.000171375, 'epoch': 26.52}\n",
      "{'loss': 0.9344, 'grad_norm': 1.2911103963851929, 'learning_rate': 0.000170125, 'epoch': 26.56}\n",
      "{'loss': 0.974, 'grad_norm': 2.121588945388794, 'learning_rate': 0.000168875, 'epoch': 26.6}\n",
      "{'loss': 0.8719, 'grad_norm': 1.634660243988037, 'learning_rate': 0.000167625, 'epoch': 26.64}\n",
      "{'loss': 0.6837, 'grad_norm': 1.0424600839614868, 'learning_rate': 0.000166375, 'epoch': 26.68}\n",
      "{'loss': 0.8867, 'grad_norm': 1.6398428678512573, 'learning_rate': 0.000165125, 'epoch': 26.72}\n",
      "{'loss': 0.8419, 'grad_norm': 2.065990447998047, 'learning_rate': 0.00016387499999999999, 'epoch': 26.76}\n",
      "{'loss': 1.0132, 'grad_norm': 2.7530744075775146, 'learning_rate': 0.00016262499999999998, 'epoch': 26.8}\n",
      "{'loss': 0.8629, 'grad_norm': 2.194037437438965, 'learning_rate': 0.000161375, 'epoch': 26.84}\n",
      "{'loss': 0.7914, 'grad_norm': 2.0201869010925293, 'learning_rate': 0.000160125, 'epoch': 26.88}\n",
      "{'loss': 0.7754, 'grad_norm': 1.2212804555892944, 'learning_rate': 0.000158875, 'epoch': 26.92}\n",
      "{'loss': 0.8248, 'grad_norm': 1.3604494333267212, 'learning_rate': 0.000157625, 'epoch': 26.96}\n",
      "{'loss': 0.9476, 'grad_norm': 1.5656121969223022, 'learning_rate': 0.000156375, 'epoch': 27.0}\n",
      "{'eval_loss': 1.1134746074676514, 'eval_accuracy': 0.632, 'eval_runtime': 12.421, 'eval_samples_per_second': 80.509, 'eval_steps_per_second': 5.072, 'epoch': 27.0}\n"
     ]
    },
    {
     "name": "stderr",
     "output_type": "stream",
     "text": [
      "/Users/ahmedmaher/anaconda3/lib/python3.11/site-packages/torch/utils/data/dataloader.py:683: UserWarning: 'pin_memory' argument is set as true but not supported on MPS now, then device pinned memory won't be used.\n",
      "  warnings.warn(warn_msg)\n"
     ]
    },
    {
     "name": "stdout",
     "output_type": "stream",
     "text": [
      "{'loss': 0.7195, 'grad_norm': 2.2239222526550293, 'learning_rate': 0.00015512500000000002, 'epoch': 27.04}\n",
      "{'loss': 0.8648, 'grad_norm': 2.5514795780181885, 'learning_rate': 0.000153875, 'epoch': 27.08}\n",
      "{'loss': 0.8141, 'grad_norm': 1.8830405473709106, 'learning_rate': 0.000152625, 'epoch': 27.12}\n",
      "{'loss': 0.8001, 'grad_norm': 1.50951087474823, 'learning_rate': 0.000151375, 'epoch': 27.16}\n",
      "{'loss': 0.848, 'grad_norm': 2.402578592300415, 'learning_rate': 0.000150125, 'epoch': 27.2}\n",
      "{'loss': 0.8379, 'grad_norm': 3.2329578399658203, 'learning_rate': 0.000148875, 'epoch': 27.24}\n",
      "{'loss': 0.9938, 'grad_norm': 2.29789400100708, 'learning_rate': 0.000147625, 'epoch': 27.28}\n",
      "{'loss': 1.0293, 'grad_norm': 2.2521185874938965, 'learning_rate': 0.00014637500000000002, 'epoch': 27.32}\n",
      "{'loss': 0.7866, 'grad_norm': 1.714261770248413, 'learning_rate': 0.00014512500000000002, 'epoch': 27.36}\n",
      "{'loss': 0.7687, 'grad_norm': 1.2726213932037354, 'learning_rate': 0.00014387500000000001, 'epoch': 27.4}\n",
      "{'loss': 0.7233, 'grad_norm': 1.3422677516937256, 'learning_rate': 0.000142625, 'epoch': 27.44}\n",
      "{'loss': 0.7484, 'grad_norm': 1.635164737701416, 'learning_rate': 0.000141375, 'epoch': 27.48}\n",
      "{'loss': 0.75, 'grad_norm': 1.5228936672210693, 'learning_rate': 0.000140125, 'epoch': 27.52}\n",
      "{'loss': 0.7661, 'grad_norm': 1.7402153015136719, 'learning_rate': 0.000138875, 'epoch': 27.56}\n",
      "{'loss': 1.0084, 'grad_norm': 2.113954782485962, 'learning_rate': 0.000137625, 'epoch': 27.6}\n",
      "{'loss': 0.8738, 'grad_norm': 1.7819234132766724, 'learning_rate': 0.000136375, 'epoch': 27.64}\n",
      "{'loss': 1.0214, 'grad_norm': 1.6088721752166748, 'learning_rate': 0.000135125, 'epoch': 27.68}\n",
      "{'loss': 1.0583, 'grad_norm': 2.152378797531128, 'learning_rate': 0.000133875, 'epoch': 27.72}\n",
      "{'loss': 0.9397, 'grad_norm': 2.037020206451416, 'learning_rate': 0.00013262499999999998, 'epoch': 27.76}\n",
      "{'loss': 0.8644, 'grad_norm': 2.2361888885498047, 'learning_rate': 0.00013137499999999998, 'epoch': 27.8}\n",
      "{'loss': 0.9005, 'grad_norm': 1.6309658288955688, 'learning_rate': 0.000130125, 'epoch': 27.84}\n",
      "{'loss': 0.9556, 'grad_norm': 1.6329023838043213, 'learning_rate': 0.000128875, 'epoch': 27.88}\n",
      "{'loss': 0.9053, 'grad_norm': 1.2828665971755981, 'learning_rate': 0.000127625, 'epoch': 27.92}\n",
      "{'loss': 0.8154, 'grad_norm': 1.7678083181381226, 'learning_rate': 0.000126375, 'epoch': 27.96}\n",
      "{'loss': 0.7313, 'grad_norm': 1.2402349710464478, 'learning_rate': 0.000125125, 'epoch': 28.0}\n",
      "{'eval_loss': 1.0544652938842773, 'eval_accuracy': 0.626, 'eval_runtime': 12.37, 'eval_samples_per_second': 80.841, 'eval_steps_per_second': 5.093, 'epoch': 28.0}\n"
     ]
    },
    {
     "name": "stderr",
     "output_type": "stream",
     "text": [
      "/Users/ahmedmaher/anaconda3/lib/python3.11/site-packages/torch/utils/data/dataloader.py:683: UserWarning: 'pin_memory' argument is set as true but not supported on MPS now, then device pinned memory won't be used.\n",
      "  warnings.warn(warn_msg)\n"
     ]
    },
    {
     "name": "stdout",
     "output_type": "stream",
     "text": [
      "{'loss': 0.7951, 'grad_norm': 1.4637640714645386, 'learning_rate': 0.000123875, 'epoch': 28.04}\n",
      "{'loss': 0.8556, 'grad_norm': 2.0473124980926514, 'learning_rate': 0.000122625, 'epoch': 28.08}\n",
      "{'loss': 0.8194, 'grad_norm': 1.6450310945510864, 'learning_rate': 0.000121375, 'epoch': 28.12}\n",
      "{'loss': 0.7503, 'grad_norm': 1.2569818496704102, 'learning_rate': 0.00012012499999999999, 'epoch': 28.16}\n",
      "{'loss': 0.8728, 'grad_norm': 0.9650380611419678, 'learning_rate': 0.000118875, 'epoch': 28.2}\n",
      "{'loss': 0.913, 'grad_norm': 3.627584934234619, 'learning_rate': 0.000117625, 'epoch': 28.24}\n",
      "{'loss': 0.9679, 'grad_norm': 1.7676234245300293, 'learning_rate': 0.00011637500000000001, 'epoch': 28.28}\n",
      "{'loss': 0.8259, 'grad_norm': 2.0368921756744385, 'learning_rate': 0.000115125, 'epoch': 28.32}\n",
      "{'loss': 0.8585, 'grad_norm': 1.4655870199203491, 'learning_rate': 0.000113875, 'epoch': 28.36}\n",
      "{'loss': 0.7556, 'grad_norm': 1.9277923107147217, 'learning_rate': 0.000112625, 'epoch': 28.4}\n",
      "{'loss': 0.9354, 'grad_norm': 2.1544125080108643, 'learning_rate': 0.00011137500000000001, 'epoch': 28.44}\n",
      "{'loss': 0.8901, 'grad_norm': 2.223629951477051, 'learning_rate': 0.00011012500000000001, 'epoch': 28.48}\n",
      "{'loss': 0.7563, 'grad_norm': 1.1752064228057861, 'learning_rate': 0.000108875, 'epoch': 28.52}\n",
      "{'loss': 0.9433, 'grad_norm': 2.229452610015869, 'learning_rate': 0.000107625, 'epoch': 28.56}\n",
      "{'loss': 0.8483, 'grad_norm': 1.578311562538147, 'learning_rate': 0.000106375, 'epoch': 28.6}\n",
      "{'loss': 0.802, 'grad_norm': 1.8594354391098022, 'learning_rate': 0.000105125, 'epoch': 28.64}\n",
      "{'loss': 0.8851, 'grad_norm': 1.7988250255584717, 'learning_rate': 0.00010387499999999999, 'epoch': 28.68}\n",
      "{'loss': 0.7968, 'grad_norm': 1.343431830406189, 'learning_rate': 0.000102625, 'epoch': 28.72}\n",
      "{'loss': 0.9206, 'grad_norm': 2.403047800064087, 'learning_rate': 0.00010137500000000001, 'epoch': 28.76}\n",
      "{'loss': 0.7425, 'grad_norm': 1.8704556226730347, 'learning_rate': 0.00010012500000000001, 'epoch': 28.8}\n",
      "{'loss': 0.9762, 'grad_norm': 2.4822702407836914, 'learning_rate': 9.8875e-05, 'epoch': 28.84}\n",
      "{'loss': 0.6549, 'grad_norm': 1.158773422241211, 'learning_rate': 9.7625e-05, 'epoch': 28.88}\n",
      "{'loss': 0.8353, 'grad_norm': 2.0832719802856445, 'learning_rate': 9.6375e-05, 'epoch': 28.92}\n",
      "{'loss': 0.8481, 'grad_norm': 1.4473543167114258, 'learning_rate': 9.512500000000001e-05, 'epoch': 28.96}\n",
      "{'loss': 0.9056, 'grad_norm': 2.429356098175049, 'learning_rate': 9.3875e-05, 'epoch': 29.0}\n",
      "{'eval_loss': 1.047698974609375, 'eval_accuracy': 0.622, 'eval_runtime': 12.8197, 'eval_samples_per_second': 78.005, 'eval_steps_per_second': 4.914, 'epoch': 29.0}\n"
     ]
    },
    {
     "name": "stderr",
     "output_type": "stream",
     "text": [
      "/Users/ahmedmaher/anaconda3/lib/python3.11/site-packages/torch/utils/data/dataloader.py:683: UserWarning: 'pin_memory' argument is set as true but not supported on MPS now, then device pinned memory won't be used.\n",
      "  warnings.warn(warn_msg)\n"
     ]
    },
    {
     "name": "stdout",
     "output_type": "stream",
     "text": [
      "{'loss': 0.6548, 'grad_norm': 2.8076682090759277, 'learning_rate': 9.2625e-05, 'epoch': 29.04}\n",
      "{'loss': 0.7752, 'grad_norm': 1.537948489189148, 'learning_rate': 9.1375e-05, 'epoch': 29.08}\n",
      "{'loss': 0.6286, 'grad_norm': 2.049116373062134, 'learning_rate': 9.0125e-05, 'epoch': 29.12}\n",
      "{'loss': 0.7924, 'grad_norm': 1.4999457597732544, 'learning_rate': 8.887499999999999e-05, 'epoch': 29.16}\n",
      "{'loss': 0.9163, 'grad_norm': 1.6586285829544067, 'learning_rate': 8.7625e-05, 'epoch': 29.2}\n",
      "{'loss': 0.9007, 'grad_norm': 1.6363980770111084, 'learning_rate': 8.6375e-05, 'epoch': 29.24}\n",
      "{'loss': 0.8004, 'grad_norm': 2.063347816467285, 'learning_rate': 8.512500000000001e-05, 'epoch': 29.28}\n",
      "{'loss': 0.7245, 'grad_norm': 1.219449758529663, 'learning_rate': 8.3875e-05, 'epoch': 29.32}\n",
      "{'loss': 0.5853, 'grad_norm': 1.8179984092712402, 'learning_rate': 8.2625e-05, 'epoch': 29.36}\n",
      "{'loss': 0.7512, 'grad_norm': 1.3663957118988037, 'learning_rate': 8.1375e-05, 'epoch': 29.4}\n",
      "{'loss': 0.9807, 'grad_norm': 2.6627695560455322, 'learning_rate': 8.012500000000001e-05, 'epoch': 29.44}\n",
      "{'loss': 0.9146, 'grad_norm': 1.3580154180526733, 'learning_rate': 7.8875e-05, 'epoch': 29.48}\n",
      "{'loss': 0.8128, 'grad_norm': 1.5035406351089478, 'learning_rate': 7.7625e-05, 'epoch': 29.52}\n",
      "{'loss': 0.8379, 'grad_norm': 2.0274672508239746, 'learning_rate': 7.6375e-05, 'epoch': 29.56}\n",
      "{'loss': 0.7215, 'grad_norm': 1.6895081996917725, 'learning_rate': 7.5125e-05, 'epoch': 29.6}\n",
      "{'loss': 0.7315, 'grad_norm': 1.76123046875, 'learning_rate': 7.387499999999999e-05, 'epoch': 29.64}\n",
      "{'loss': 0.6901, 'grad_norm': 1.6607640981674194, 'learning_rate': 7.262499999999999e-05, 'epoch': 29.68}\n",
      "{'loss': 0.8267, 'grad_norm': 1.4434398412704468, 'learning_rate': 7.1375e-05, 'epoch': 29.72}\n",
      "{'loss': 0.7546, 'grad_norm': 2.208211660385132, 'learning_rate': 7.012500000000001e-05, 'epoch': 29.76}\n",
      "{'loss': 0.7839, 'grad_norm': 1.7472009658813477, 'learning_rate': 6.887500000000001e-05, 'epoch': 29.8}\n",
      "{'loss': 0.832, 'grad_norm': 2.6161768436431885, 'learning_rate': 6.7625e-05, 'epoch': 29.84}\n",
      "{'loss': 0.9246, 'grad_norm': 2.7011470794677734, 'learning_rate': 6.6375e-05, 'epoch': 29.88}\n",
      "{'loss': 0.8628, 'grad_norm': 1.8300343751907349, 'learning_rate': 6.5125e-05, 'epoch': 29.92}\n",
      "{'loss': 0.8298, 'grad_norm': 1.4867857694625854, 'learning_rate': 6.387500000000001e-05, 'epoch': 29.96}\n",
      "{'loss': 0.7989, 'grad_norm': 1.4713034629821777, 'learning_rate': 6.2625e-05, 'epoch': 30.0}\n",
      "{'eval_loss': 1.114598274230957, 'eval_accuracy': 0.639, 'eval_runtime': 12.5612, 'eval_samples_per_second': 79.61, 'eval_steps_per_second': 5.015, 'epoch': 30.0}\n"
     ]
    },
    {
     "name": "stderr",
     "output_type": "stream",
     "text": [
      "/Users/ahmedmaher/anaconda3/lib/python3.11/site-packages/torch/utils/data/dataloader.py:683: UserWarning: 'pin_memory' argument is set as true but not supported on MPS now, then device pinned memory won't be used.\n",
      "  warnings.warn(warn_msg)\n"
     ]
    },
    {
     "name": "stdout",
     "output_type": "stream",
     "text": [
      "{'loss': 0.7884, 'grad_norm': 2.2409002780914307, 'learning_rate': 6.1375e-05, 'epoch': 30.04}\n",
      "{'loss': 0.779, 'grad_norm': 2.0917844772338867, 'learning_rate': 6.0125e-05, 'epoch': 30.08}\n",
      "{'loss': 0.8056, 'grad_norm': 1.901414155960083, 'learning_rate': 5.8875e-05, 'epoch': 30.12}\n",
      "{'loss': 0.7965, 'grad_norm': 1.4603939056396484, 'learning_rate': 5.7625000000000005e-05, 'epoch': 30.16}\n",
      "{'loss': 0.7375, 'grad_norm': 1.6688029766082764, 'learning_rate': 5.6375e-05, 'epoch': 30.2}\n",
      "{'loss': 0.7427, 'grad_norm': 2.2977092266082764, 'learning_rate': 5.5125e-05, 'epoch': 30.24}\n",
      "{'loss': 0.6391, 'grad_norm': 1.6796159744262695, 'learning_rate': 5.3875e-05, 'epoch': 30.28}\n",
      "{'loss': 0.79, 'grad_norm': 2.722339630126953, 'learning_rate': 5.2625e-05, 'epoch': 30.32}\n",
      "{'loss': 0.715, 'grad_norm': 1.3753089904785156, 'learning_rate': 5.1374999999999995e-05, 'epoch': 30.36}\n",
      "{'loss': 0.6922, 'grad_norm': 1.6689890623092651, 'learning_rate': 5.0125000000000005e-05, 'epoch': 30.4}\n",
      "{'loss': 0.8301, 'grad_norm': 2.4038615226745605, 'learning_rate': 4.8875e-05, 'epoch': 30.44}\n",
      "{'loss': 0.8996, 'grad_norm': 3.127248525619507, 'learning_rate': 4.7625e-05, 'epoch': 30.48}\n",
      "{'loss': 0.7495, 'grad_norm': 1.8555803298950195, 'learning_rate': 4.6375e-05, 'epoch': 30.52}\n",
      "{'loss': 0.8057, 'grad_norm': 2.7951579093933105, 'learning_rate': 4.5125e-05, 'epoch': 30.56}\n",
      "{'loss': 0.7532, 'grad_norm': 2.2923552989959717, 'learning_rate': 4.3874999999999996e-05, 'epoch': 30.6}\n",
      "{'loss': 0.8104, 'grad_norm': 2.052626371383667, 'learning_rate': 4.2625000000000006e-05, 'epoch': 30.64}\n",
      "{'loss': 0.7291, 'grad_norm': 1.630181074142456, 'learning_rate': 4.1375e-05, 'epoch': 30.68}\n",
      "{'loss': 0.8159, 'grad_norm': 1.541768193244934, 'learning_rate': 4.0125e-05, 'epoch': 30.72}\n",
      "{'loss': 0.8275, 'grad_norm': 2.6432950496673584, 'learning_rate': 3.8875e-05, 'epoch': 30.76}\n",
      "{'loss': 0.7841, 'grad_norm': 1.2116336822509766, 'learning_rate': 3.7625e-05, 'epoch': 30.8}\n",
      "{'loss': 0.7007, 'grad_norm': 2.226802349090576, 'learning_rate': 3.6374999999999996e-05, 'epoch': 30.84}\n",
      "{'loss': 0.7868, 'grad_norm': 2.055676221847534, 'learning_rate': 3.512500000000001e-05, 'epoch': 30.88}\n",
      "{'loss': 0.6986, 'grad_norm': 1.7862244844436646, 'learning_rate': 3.3875000000000003e-05, 'epoch': 30.92}\n",
      "{'loss': 0.8445, 'grad_norm': 2.0607428550720215, 'learning_rate': 3.2625e-05, 'epoch': 30.96}\n",
      "{'loss': 0.7957, 'grad_norm': 1.6301130056381226, 'learning_rate': 3.1375000000000004e-05, 'epoch': 31.0}\n",
      "{'eval_loss': 1.0938496589660645, 'eval_accuracy': 0.631, 'eval_runtime': 12.5024, 'eval_samples_per_second': 79.985, 'eval_steps_per_second': 5.039, 'epoch': 31.0}\n"
     ]
    },
    {
     "name": "stderr",
     "output_type": "stream",
     "text": [
      "/Users/ahmedmaher/anaconda3/lib/python3.11/site-packages/torch/utils/data/dataloader.py:683: UserWarning: 'pin_memory' argument is set as true but not supported on MPS now, then device pinned memory won't be used.\n",
      "  warnings.warn(warn_msg)\n"
     ]
    },
    {
     "name": "stdout",
     "output_type": "stream",
     "text": [
      "{'loss': 0.8392, 'grad_norm': 2.2213802337646484, 'learning_rate': 3.0125e-05, 'epoch': 31.04}\n",
      "{'loss': 0.7224, 'grad_norm': 1.2882667779922485, 'learning_rate': 2.8875e-05, 'epoch': 31.08}\n",
      "{'loss': 0.7573, 'grad_norm': 2.300048351287842, 'learning_rate': 2.7625e-05, 'epoch': 31.12}\n",
      "{'loss': 0.7548, 'grad_norm': 1.8402055501937866, 'learning_rate': 2.6375e-05, 'epoch': 31.16}\n",
      "{'loss': 0.7912, 'grad_norm': 1.851657509803772, 'learning_rate': 2.5125e-05, 'epoch': 31.2}\n",
      "{'loss': 0.7781, 'grad_norm': 2.0750603675842285, 'learning_rate': 2.3875e-05, 'epoch': 31.24}\n",
      "{'loss': 0.6917, 'grad_norm': 1.201710820198059, 'learning_rate': 2.2625e-05, 'epoch': 31.28}\n",
      "{'loss': 0.6804, 'grad_norm': 1.460008978843689, 'learning_rate': 2.1375e-05, 'epoch': 31.32}\n",
      "{'loss': 0.6675, 'grad_norm': 1.4523489475250244, 'learning_rate': 2.0125e-05, 'epoch': 31.36}\n",
      "{'loss': 0.7854, 'grad_norm': 2.3688924312591553, 'learning_rate': 1.8875e-05, 'epoch': 31.4}\n",
      "{'loss': 0.7991, 'grad_norm': 2.0799055099487305, 'learning_rate': 1.7624999999999998e-05, 'epoch': 31.44}\n",
      "{'loss': 0.8039, 'grad_norm': 2.921936273574829, 'learning_rate': 1.6375e-05, 'epoch': 31.48}\n",
      "{'loss': 0.9381, 'grad_norm': 1.8225312232971191, 'learning_rate': 1.5125e-05, 'epoch': 31.52}\n",
      "{'loss': 0.5617, 'grad_norm': 1.742343783378601, 'learning_rate': 1.3875e-05, 'epoch': 31.56}\n",
      "{'loss': 0.6391, 'grad_norm': 0.9615080952644348, 'learning_rate': 1.2625e-05, 'epoch': 31.6}\n",
      "{'loss': 0.719, 'grad_norm': 2.3941280841827393, 'learning_rate': 1.1375e-05, 'epoch': 31.64}\n",
      "{'loss': 0.7725, 'grad_norm': 2.8633971214294434, 'learning_rate': 1.0125e-05, 'epoch': 31.68}\n",
      "{'loss': 0.7016, 'grad_norm': 2.8486111164093018, 'learning_rate': 8.874999999999999e-06, 'epoch': 31.72}\n",
      "{'loss': 0.7325, 'grad_norm': 2.1343517303466797, 'learning_rate': 7.625e-06, 'epoch': 31.76}\n",
      "{'loss': 0.7849, 'grad_norm': 1.7456763982772827, 'learning_rate': 6.375e-06, 'epoch': 31.8}\n",
      "{'loss': 0.8789, 'grad_norm': 2.136528730392456, 'learning_rate': 5.125e-06, 'epoch': 31.84}\n",
      "{'loss': 0.7337, 'grad_norm': 1.9792237281799316, 'learning_rate': 3.875e-06, 'epoch': 31.88}\n",
      "{'loss': 0.6882, 'grad_norm': 2.4883251190185547, 'learning_rate': 2.6250000000000003e-06, 'epoch': 31.92}\n",
      "{'loss': 0.6209, 'grad_norm': 1.841492772102356, 'learning_rate': 1.375e-06, 'epoch': 31.96}\n",
      "{'loss': 0.707, 'grad_norm': 1.306544542312622, 'learning_rate': 1.25e-07, 'epoch': 32.0}\n",
      "{'eval_loss': 1.134496808052063, 'eval_accuracy': 0.627, 'eval_runtime': 12.4707, 'eval_samples_per_second': 80.188, 'eval_steps_per_second': 5.052, 'epoch': 32.0}\n",
      "{'train_runtime': 39000.4635, 'train_samples_per_second': 3.282, 'train_steps_per_second': 0.205, 'train_loss': 1.1712001399993897, 'epoch': 32.0}\n"
     ]
    },
    {
     "data": {
      "text/plain": [
       "TrainOutput(global_step=8000, training_loss=1.1712001399993897, metrics={'train_runtime': 39000.4635, 'train_samples_per_second': 3.282, 'train_steps_per_second': 0.205, 'train_loss': 1.1712001399993897, 'epoch': 32.0})"
      ]
     },
     "execution_count": 21,
     "metadata": {},
     "output_type": "execute_result"
    }
   ],
   "source": [
    "trainer.train()"
   ]
  },
  {
   "cell_type": "code",
   "execution_count": null,
   "id": "93d6e9c3-ee8b-4203-8b43-c017b58383c9",
   "metadata": {},
   "outputs": [],
   "source": []
  }
 ],
 "metadata": {
  "kernelspec": {
   "display_name": "Python 3",
   "language": "python",
   "name": "python3"
  },
  "language_info": {
   "codemirror_mode": {
    "name": "ipython",
    "version": 3
   },
   "file_extension": ".py",
   "mimetype": "text/x-python",
   "name": "python",
   "nbconvert_exporter": "python",
   "pygments_lexer": "ipython3",
   "version": "3.11.11"
  }
 },
 "nbformat": 4,
 "nbformat_minor": 5
}
